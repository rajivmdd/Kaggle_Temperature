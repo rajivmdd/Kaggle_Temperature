{
  "nbformat": 4,
  "nbformat_minor": 0,
  "metadata": {
    "colab": {
      "name": "Temperature_kaggle.ipynb",
      "provenance": [],
      "collapsed_sections": [],
      "mount_file_id": "1vVNkg_xtuVqfsDFFlncM8MLc__g1zySf",
      "authorship_tag": "ABX9TyM35OtY38PjBq51dvLbp6K+",
      "include_colab_link": true
    },
    "kernelspec": {
      "name": "python3",
      "display_name": "Python 3"
    },
    "language_info": {
      "name": "python"
    }
  },
  "cells": [
    {
      "cell_type": "markdown",
      "metadata": {
        "id": "view-in-github",
        "colab_type": "text"
      },
      "source": [
        "<a href=\"https://colab.research.google.com/github/rajivmdd/Kaggle_Temperature/blob/main/Temperature_kaggle.ipynb\" target=\"_parent\"><img src=\"https://colab.research.google.com/assets/colab-badge.svg\" alt=\"Open In Colab\"/></a>"
      ]
    },
    {
      "cell_type": "markdown",
      "source": [
        "**Data Set Url:**  https://bit.ly/3QzIb8G\n",
        "\n",
        "\n",
        "---\n",
        "\n",
        "\n",
        "**Library to be installed. Copy one by one line in CMD Prompt**\n",
        "\n",
        "pip install pyspark\n",
        "\n",
        "pip install pandas\n",
        "\n",
        "pip install wheel\n",
        "\n",
        "pip install numpy\n",
        "\n",
        "pip install seaborn\n",
        "\n",
        "pip install plotly-express \n",
        "\n",
        "\n",
        "---\n",
        "\n",
        "\n",
        "**System Requirement**\n",
        "\n",
        "8GB RAM\n",
        "\n",
        "i5 any generation\n",
        "\n",
        "JAVA 8 installed\n"
      ],
      "metadata": {
        "id": "NOJQvJAV-wd_"
      }
    },
    {
      "cell_type": "code",
      "execution_count": 49,
      "metadata": {
        "colab": {
          "base_uri": "https://localhost:8080/"
        },
        "id": "Pi0m3L926ZpA",
        "outputId": "a963ee14-65bf-4e22-9ab1-a85d59811ae8"
      },
      "outputs": [
        {
          "output_type": "stream",
          "name": "stdout",
          "text": [
            "Looking in indexes: https://pypi.org/simple, https://us-python.pkg.dev/colab-wheels/public/simple/\n",
            "Requirement already satisfied: pyspark in /usr/local/lib/python3.7/dist-packages (3.3.0)\n",
            "Requirement already satisfied: py4j==0.10.9.5 in /usr/local/lib/python3.7/dist-packages (from pyspark) (0.10.9.5)\n"
          ]
        }
      ],
      "source": [
        "!pip install pyspark\n"
      ]
    },
    {
      "cell_type": "markdown",
      "source": [
        "**Importing used Library**"
      ],
      "metadata": {
        "id": "d63apUqvv69H"
      }
    },
    {
      "cell_type": "code",
      "source": [
        "import pyspark\n",
        "from pyspark.sql import SparkSession\n",
        "spark = SparkSession.builder.appName(\"test\").getOrCreate()\n",
        "spark\n",
        "import pandas as pd\n",
        "import numpy as np\n",
        "import plotly as plty\n",
        "import seaborn as sns\n",
        "import matplotlib.pyplot as plt\n",
        "import plotly.express as px"
      ],
      "metadata": {
        "id": "7qLorFdh6dCR"
      },
      "execution_count": 50,
      "outputs": []
    },
    {
      "cell_type": "markdown",
      "source": [
        "**Reading CSV File with First row as Header**"
      ],
      "metadata": {
        "id": "_Ugi1tAAwG3p"
      }
    },
    {
      "cell_type": "code",
      "source": [
        "df = spark.read.csv('/content/drive/MyDrive/Colab Notebooks/Data Files/city_temperature.csv',header= True, inferSchema= True)"
      ],
      "metadata": {
        "id": "0TVFEj2e6jYe"
      },
      "execution_count": 51,
      "outputs": []
    },
    {
      "cell_type": "code",
      "source": [
        "df.show()"
      ],
      "metadata": {
        "colab": {
          "base_uri": "https://localhost:8080/"
        },
        "id": "jwFrw3OP7Vhh",
        "outputId": "9b4da27b-fa45-4f69-b317-43a3cf95bf6a"
      },
      "execution_count": 52,
      "outputs": [
        {
          "output_type": "stream",
          "name": "stdout",
          "text": [
            "+------+-------+-----+-------+-----+---+----+--------------+\n",
            "|Region|Country|State|   City|Month|Day|Year|AvgTemperature|\n",
            "+------+-------+-----+-------+-----+---+----+--------------+\n",
            "|Africa|Algeria| null|Algiers|    1|  1|1995|          64.2|\n",
            "|Africa|Algeria| null|Algiers|    1|  2|1995|          49.4|\n",
            "|Africa|Algeria| null|Algiers|    1|  3|1995|          48.8|\n",
            "|Africa|Algeria| null|Algiers|    1|  4|1995|          46.4|\n",
            "|Africa|Algeria| null|Algiers|    1|  5|1995|          47.9|\n",
            "|Africa|Algeria| null|Algiers|    1|  6|1995|          48.7|\n",
            "|Africa|Algeria| null|Algiers|    1|  7|1995|          48.9|\n",
            "|Africa|Algeria| null|Algiers|    1|  8|1995|          49.1|\n",
            "|Africa|Algeria| null|Algiers|    1|  9|1995|          49.0|\n",
            "|Africa|Algeria| null|Algiers|    1| 10|1995|          51.9|\n",
            "|Africa|Algeria| null|Algiers|    1| 11|1995|          51.7|\n",
            "|Africa|Algeria| null|Algiers|    1| 12|1995|          51.3|\n",
            "|Africa|Algeria| null|Algiers|    1| 13|1995|          47.0|\n",
            "|Africa|Algeria| null|Algiers|    1| 14|1995|          46.9|\n",
            "|Africa|Algeria| null|Algiers|    1| 15|1995|          47.5|\n",
            "|Africa|Algeria| null|Algiers|    1| 16|1995|          45.9|\n",
            "|Africa|Algeria| null|Algiers|    1| 17|1995|          44.5|\n",
            "|Africa|Algeria| null|Algiers|    1| 18|1995|          50.7|\n",
            "|Africa|Algeria| null|Algiers|    1| 19|1995|          54.0|\n",
            "|Africa|Algeria| null|Algiers|    1| 20|1995|          52.6|\n",
            "+------+-------+-----+-------+-----+---+----+--------------+\n",
            "only showing top 20 rows\n",
            "\n"
          ]
        }
      ]
    },
    {
      "cell_type": "markdown",
      "source": [
        "**Describing dataset**"
      ],
      "metadata": {
        "id": "kWQG45gYwRe6"
      }
    },
    {
      "cell_type": "code",
      "source": [
        "df.describe()"
      ],
      "metadata": {
        "colab": {
          "base_uri": "https://localhost:8080/"
        },
        "id": "tzte3JYT_Mlw",
        "outputId": "9db09fd0-8f89-46c3-d571-4f86ed5573ae"
      },
      "execution_count": 53,
      "outputs": [
        {
          "output_type": "execute_result",
          "data": {
            "text/plain": [
              "DataFrame[summary: string, Region: string, Country: string, State: string, City: string, Month: string, Day: string, Year: string, AvgTemperature: string]"
            ]
          },
          "metadata": {},
          "execution_count": 53
        }
      ]
    },
    {
      "cell_type": "code",
      "source": [
        "#df.write.parquet('/content/sample_data/temperature2')"
      ],
      "metadata": {
        "id": "LzCzAFlsAYOq"
      },
      "execution_count": 55,
      "outputs": []
    },
    {
      "cell_type": "markdown",
      "source": [
        "**Saving dataset to Parquet formate for increasing efficiency of data retrival and in memory workflow (Using RAM only) by PySPARK**"
      ],
      "metadata": {
        "id": "xJKrqQ9owc7b"
      }
    },
    {
      "cell_type": "code",
      "source": [
        "df_p = spark.read.parquet('/content/sample_data/temperature2')"
      ],
      "metadata": {
        "id": "eKBUPXcUBvSK"
      },
      "execution_count": 56,
      "outputs": []
    },
    {
      "cell_type": "code",
      "source": [
        "df_p.show()"
      ],
      "metadata": {
        "colab": {
          "base_uri": "https://localhost:8080/"
        },
        "id": "KGSwMF7KCDUg",
        "outputId": "2fd5439e-a3ff-4231-e16c-20a1fe07fd56"
      },
      "execution_count": 57,
      "outputs": [
        {
          "output_type": "stream",
          "name": "stdout",
          "text": [
            "+------+-------+-----+-------+-----+---+----+--------------+\n",
            "|Region|Country|State|   City|Month|Day|Year|AvgTemperature|\n",
            "+------+-------+-----+-------+-----+---+----+--------------+\n",
            "|Africa|Algeria| null|Algiers|    1|  1|1995|          64.2|\n",
            "|Africa|Algeria| null|Algiers|    1|  2|1995|          49.4|\n",
            "|Africa|Algeria| null|Algiers|    1|  3|1995|          48.8|\n",
            "|Africa|Algeria| null|Algiers|    1|  4|1995|          46.4|\n",
            "|Africa|Algeria| null|Algiers|    1|  5|1995|          47.9|\n",
            "|Africa|Algeria| null|Algiers|    1|  6|1995|          48.7|\n",
            "|Africa|Algeria| null|Algiers|    1|  7|1995|          48.9|\n",
            "|Africa|Algeria| null|Algiers|    1|  8|1995|          49.1|\n",
            "|Africa|Algeria| null|Algiers|    1|  9|1995|          49.0|\n",
            "|Africa|Algeria| null|Algiers|    1| 10|1995|          51.9|\n",
            "|Africa|Algeria| null|Algiers|    1| 11|1995|          51.7|\n",
            "|Africa|Algeria| null|Algiers|    1| 12|1995|          51.3|\n",
            "|Africa|Algeria| null|Algiers|    1| 13|1995|          47.0|\n",
            "|Africa|Algeria| null|Algiers|    1| 14|1995|          46.9|\n",
            "|Africa|Algeria| null|Algiers|    1| 15|1995|          47.5|\n",
            "|Africa|Algeria| null|Algiers|    1| 16|1995|          45.9|\n",
            "|Africa|Algeria| null|Algiers|    1| 17|1995|          44.5|\n",
            "|Africa|Algeria| null|Algiers|    1| 18|1995|          50.7|\n",
            "|Africa|Algeria| null|Algiers|    1| 19|1995|          54.0|\n",
            "|Africa|Algeria| null|Algiers|    1| 20|1995|          52.6|\n",
            "+------+-------+-----+-------+-----+---+----+--------------+\n",
            "only showing top 20 rows\n",
            "\n"
          ]
        }
      ]
    },
    {
      "cell_type": "markdown",
      "source": [
        "**Converting Pyspark dataframe to Pandas df**"
      ],
      "metadata": {
        "id": "uykjPWx6dZWG"
      }
    },
    {
      "cell_type": "code",
      "source": [
        "pd_df = df_p.toPandas()"
      ],
      "metadata": {
        "id": "_d5O8rTzC9sG"
      },
      "execution_count": 58,
      "outputs": []
    },
    {
      "cell_type": "code",
      "source": [
        "pd_df.head()"
      ],
      "metadata": {
        "colab": {
          "base_uri": "https://localhost:8080/",
          "height": 206
        },
        "id": "HYBRXov_dtyA",
        "outputId": "11555618-266d-4cfb-92b5-4484e1e46808"
      },
      "execution_count": 59,
      "outputs": [
        {
          "output_type": "execute_result",
          "data": {
            "text/plain": [
              "   Region  Country State     City  Month  Day  Year  AvgTemperature\n",
              "0  Africa  Algeria  None  Algiers      1    1  1995            64.2\n",
              "1  Africa  Algeria  None  Algiers      1    2  1995            49.4\n",
              "2  Africa  Algeria  None  Algiers      1    3  1995            48.8\n",
              "3  Africa  Algeria  None  Algiers      1    4  1995            46.4\n",
              "4  Africa  Algeria  None  Algiers      1    5  1995            47.9"
            ],
            "text/html": [
              "\n",
              "  <div id=\"df-662263f2-5e58-4ebe-8c49-fb22ea5cd648\">\n",
              "    <div class=\"colab-df-container\">\n",
              "      <div>\n",
              "<style scoped>\n",
              "    .dataframe tbody tr th:only-of-type {\n",
              "        vertical-align: middle;\n",
              "    }\n",
              "\n",
              "    .dataframe tbody tr th {\n",
              "        vertical-align: top;\n",
              "    }\n",
              "\n",
              "    .dataframe thead th {\n",
              "        text-align: right;\n",
              "    }\n",
              "</style>\n",
              "<table border=\"1\" class=\"dataframe\">\n",
              "  <thead>\n",
              "    <tr style=\"text-align: right;\">\n",
              "      <th></th>\n",
              "      <th>Region</th>\n",
              "      <th>Country</th>\n",
              "      <th>State</th>\n",
              "      <th>City</th>\n",
              "      <th>Month</th>\n",
              "      <th>Day</th>\n",
              "      <th>Year</th>\n",
              "      <th>AvgTemperature</th>\n",
              "    </tr>\n",
              "  </thead>\n",
              "  <tbody>\n",
              "    <tr>\n",
              "      <th>0</th>\n",
              "      <td>Africa</td>\n",
              "      <td>Algeria</td>\n",
              "      <td>None</td>\n",
              "      <td>Algiers</td>\n",
              "      <td>1</td>\n",
              "      <td>1</td>\n",
              "      <td>1995</td>\n",
              "      <td>64.2</td>\n",
              "    </tr>\n",
              "    <tr>\n",
              "      <th>1</th>\n",
              "      <td>Africa</td>\n",
              "      <td>Algeria</td>\n",
              "      <td>None</td>\n",
              "      <td>Algiers</td>\n",
              "      <td>1</td>\n",
              "      <td>2</td>\n",
              "      <td>1995</td>\n",
              "      <td>49.4</td>\n",
              "    </tr>\n",
              "    <tr>\n",
              "      <th>2</th>\n",
              "      <td>Africa</td>\n",
              "      <td>Algeria</td>\n",
              "      <td>None</td>\n",
              "      <td>Algiers</td>\n",
              "      <td>1</td>\n",
              "      <td>3</td>\n",
              "      <td>1995</td>\n",
              "      <td>48.8</td>\n",
              "    </tr>\n",
              "    <tr>\n",
              "      <th>3</th>\n",
              "      <td>Africa</td>\n",
              "      <td>Algeria</td>\n",
              "      <td>None</td>\n",
              "      <td>Algiers</td>\n",
              "      <td>1</td>\n",
              "      <td>4</td>\n",
              "      <td>1995</td>\n",
              "      <td>46.4</td>\n",
              "    </tr>\n",
              "    <tr>\n",
              "      <th>4</th>\n",
              "      <td>Africa</td>\n",
              "      <td>Algeria</td>\n",
              "      <td>None</td>\n",
              "      <td>Algiers</td>\n",
              "      <td>1</td>\n",
              "      <td>5</td>\n",
              "      <td>1995</td>\n",
              "      <td>47.9</td>\n",
              "    </tr>\n",
              "  </tbody>\n",
              "</table>\n",
              "</div>\n",
              "      <button class=\"colab-df-convert\" onclick=\"convertToInteractive('df-662263f2-5e58-4ebe-8c49-fb22ea5cd648')\"\n",
              "              title=\"Convert this dataframe to an interactive table.\"\n",
              "              style=\"display:none;\">\n",
              "        \n",
              "  <svg xmlns=\"http://www.w3.org/2000/svg\" height=\"24px\"viewBox=\"0 0 24 24\"\n",
              "       width=\"24px\">\n",
              "    <path d=\"M0 0h24v24H0V0z\" fill=\"none\"/>\n",
              "    <path d=\"M18.56 5.44l.94 2.06.94-2.06 2.06-.94-2.06-.94-.94-2.06-.94 2.06-2.06.94zm-11 1L8.5 8.5l.94-2.06 2.06-.94-2.06-.94L8.5 2.5l-.94 2.06-2.06.94zm10 10l.94 2.06.94-2.06 2.06-.94-2.06-.94-.94-2.06-.94 2.06-2.06.94z\"/><path d=\"M17.41 7.96l-1.37-1.37c-.4-.4-.92-.59-1.43-.59-.52 0-1.04.2-1.43.59L10.3 9.45l-7.72 7.72c-.78.78-.78 2.05 0 2.83L4 21.41c.39.39.9.59 1.41.59.51 0 1.02-.2 1.41-.59l7.78-7.78 2.81-2.81c.8-.78.8-2.07 0-2.86zM5.41 20L4 18.59l7.72-7.72 1.47 1.35L5.41 20z\"/>\n",
              "  </svg>\n",
              "      </button>\n",
              "      \n",
              "  <style>\n",
              "    .colab-df-container {\n",
              "      display:flex;\n",
              "      flex-wrap:wrap;\n",
              "      gap: 12px;\n",
              "    }\n",
              "\n",
              "    .colab-df-convert {\n",
              "      background-color: #E8F0FE;\n",
              "      border: none;\n",
              "      border-radius: 50%;\n",
              "      cursor: pointer;\n",
              "      display: none;\n",
              "      fill: #1967D2;\n",
              "      height: 32px;\n",
              "      padding: 0 0 0 0;\n",
              "      width: 32px;\n",
              "    }\n",
              "\n",
              "    .colab-df-convert:hover {\n",
              "      background-color: #E2EBFA;\n",
              "      box-shadow: 0px 1px 2px rgba(60, 64, 67, 0.3), 0px 1px 3px 1px rgba(60, 64, 67, 0.15);\n",
              "      fill: #174EA6;\n",
              "    }\n",
              "\n",
              "    [theme=dark] .colab-df-convert {\n",
              "      background-color: #3B4455;\n",
              "      fill: #D2E3FC;\n",
              "    }\n",
              "\n",
              "    [theme=dark] .colab-df-convert:hover {\n",
              "      background-color: #434B5C;\n",
              "      box-shadow: 0px 1px 3px 1px rgba(0, 0, 0, 0.15);\n",
              "      filter: drop-shadow(0px 1px 2px rgba(0, 0, 0, 0.3));\n",
              "      fill: #FFFFFF;\n",
              "    }\n",
              "  </style>\n",
              "\n",
              "      <script>\n",
              "        const buttonEl =\n",
              "          document.querySelector('#df-662263f2-5e58-4ebe-8c49-fb22ea5cd648 button.colab-df-convert');\n",
              "        buttonEl.style.display =\n",
              "          google.colab.kernel.accessAllowed ? 'block' : 'none';\n",
              "\n",
              "        async function convertToInteractive(key) {\n",
              "          const element = document.querySelector('#df-662263f2-5e58-4ebe-8c49-fb22ea5cd648');\n",
              "          const dataTable =\n",
              "            await google.colab.kernel.invokeFunction('convertToInteractive',\n",
              "                                                     [key], {});\n",
              "          if (!dataTable) return;\n",
              "\n",
              "          const docLinkHtml = 'Like what you see? Visit the ' +\n",
              "            '<a target=\"_blank\" href=https://colab.research.google.com/notebooks/data_table.ipynb>data table notebook</a>'\n",
              "            + ' to learn more about interactive tables.';\n",
              "          element.innerHTML = '';\n",
              "          dataTable['output_type'] = 'display_data';\n",
              "          await google.colab.output.renderOutput(dataTable, element);\n",
              "          const docLink = document.createElement('div');\n",
              "          docLink.innerHTML = docLinkHtml;\n",
              "          element.appendChild(docLink);\n",
              "        }\n",
              "      </script>\n",
              "    </div>\n",
              "  </div>\n",
              "  "
            ]
          },
          "metadata": {},
          "execution_count": 59
        }
      ]
    },
    {
      "cell_type": "code",
      "source": [
        "pd_df.info()"
      ],
      "metadata": {
        "colab": {
          "base_uri": "https://localhost:8080/"
        },
        "id": "S3fIrd77ctDj",
        "outputId": "d1791323-f4a8-4ed8-c342-88f19af9ccad"
      },
      "execution_count": 60,
      "outputs": [
        {
          "output_type": "stream",
          "name": "stdout",
          "text": [
            "<class 'pandas.core.frame.DataFrame'>\n",
            "RangeIndex: 2906327 entries, 0 to 2906326\n",
            "Data columns (total 8 columns):\n",
            " #   Column          Dtype  \n",
            "---  ------          -----  \n",
            " 0   Region          object \n",
            " 1   Country         object \n",
            " 2   State           object \n",
            " 3   City            object \n",
            " 4   Month           int32  \n",
            " 5   Day             int32  \n",
            " 6   Year            int32  \n",
            " 7   AvgTemperature  float64\n",
            "dtypes: float64(1), int32(3), object(4)\n",
            "memory usage: 144.1+ MB\n"
          ]
        }
      ]
    },
    {
      "cell_type": "markdown",
      "source": [
        "***Checking Null Values***"
      ],
      "metadata": {
        "id": "xHiGO296e-eY"
      }
    },
    {
      "cell_type": "code",
      "source": [
        "pd_df.isna().sum()"
      ],
      "metadata": {
        "colab": {
          "base_uri": "https://localhost:8080/"
        },
        "id": "kvLEekJfdU3S",
        "outputId": "1355ad33-70f5-4909-f7ab-5929dc60d5d8"
      },
      "execution_count": 61,
      "outputs": [
        {
          "output_type": "execute_result",
          "data": {
            "text/plain": [
              "Region                  0\n",
              "Country                 0\n",
              "State             1450990\n",
              "City                    0\n",
              "Month                   0\n",
              "Day                     0\n",
              "Year                    0\n",
              "AvgTemperature          0\n",
              "dtype: int64"
            ]
          },
          "metadata": {},
          "execution_count": 61
        }
      ]
    },
    {
      "cell_type": "markdown",
      "source": [
        "***Total number of values in dataset***\n"
      ],
      "metadata": {
        "id": "XJqEBComey0M"
      }
    },
    {
      "cell_type": "code",
      "source": [
        "pd_df.count()"
      ],
      "metadata": {
        "colab": {
          "base_uri": "https://localhost:8080/"
        },
        "id": "s3ApGoPLeSwP",
        "outputId": "9fb9f123-3dde-402c-96df-49a3bb4da7bc"
      },
      "execution_count": 62,
      "outputs": [
        {
          "output_type": "execute_result",
          "data": {
            "text/plain": [
              "Region            2906327\n",
              "Country           2906327\n",
              "State             1455337\n",
              "City              2906327\n",
              "Month             2906327\n",
              "Day               2906327\n",
              "Year              2906327\n",
              "AvgTemperature    2906327\n",
              "dtype: int64"
            ]
          },
          "metadata": {},
          "execution_count": 62
        }
      ]
    },
    {
      "cell_type": "markdown",
      "source": [
        "***Dropping duplicate values***"
      ],
      "metadata": {
        "id": "rgB-doybfFtp"
      }
    },
    {
      "cell_type": "code",
      "source": [
        "pd_df = pd_df.drop_duplicates()"
      ],
      "metadata": {
        "id": "9MB12N5mej9Z"
      },
      "execution_count": 63,
      "outputs": []
    },
    {
      "cell_type": "code",
      "source": [
        "pd_df.count()"
      ],
      "metadata": {
        "colab": {
          "base_uri": "https://localhost:8080/"
        },
        "id": "jNxRqwqsfOhN",
        "outputId": "7526eafe-e154-404c-cd49-27012c51ad2e"
      },
      "execution_count": 64,
      "outputs": [
        {
          "output_type": "execute_result",
          "data": {
            "text/plain": [
              "Region            2885612\n",
              "Country           2885612\n",
              "State             1436807\n",
              "City              2885612\n",
              "Month             2885612\n",
              "Day               2885612\n",
              "Year              2885612\n",
              "AvgTemperature    2885612\n",
              "dtype: int64"
            ]
          },
          "metadata": {},
          "execution_count": 64
        }
      ]
    },
    {
      "cell_type": "code",
      "source": [
        "pd_df.describe().T"
      ],
      "metadata": {
        "colab": {
          "base_uri": "https://localhost:8080/",
          "height": 175
        },
        "id": "vHfYmYnXfZs1",
        "outputId": "61916d0f-a9c6-482f-d799-10f4f482f3f4"
      },
      "execution_count": 65,
      "outputs": [
        {
          "output_type": "execute_result",
          "data": {
            "text/plain": [
              "                    count         mean        std    min     25%     50%  \\\n",
              "Month           2885612.0     6.469037   3.456445    1.0     3.0     6.0   \n",
              "Day             2885612.0    15.716792   8.800516    0.0     8.0    16.0   \n",
              "Year            2885612.0  2006.706835  19.657102  200.0  2001.0  2007.0   \n",
              "AvgTemperature  2885612.0    56.015596  32.152101  -99.0    45.8    62.5   \n",
              "\n",
              "                   75%     max  \n",
              "Month              9.0    12.0  \n",
              "Day               23.0    31.0  \n",
              "Year            2013.0  2020.0  \n",
              "AvgTemperature    75.6   110.0  "
            ],
            "text/html": [
              "\n",
              "  <div id=\"df-fa751699-7b62-42f9-9a40-e7a6e7e17c04\">\n",
              "    <div class=\"colab-df-container\">\n",
              "      <div>\n",
              "<style scoped>\n",
              "    .dataframe tbody tr th:only-of-type {\n",
              "        vertical-align: middle;\n",
              "    }\n",
              "\n",
              "    .dataframe tbody tr th {\n",
              "        vertical-align: top;\n",
              "    }\n",
              "\n",
              "    .dataframe thead th {\n",
              "        text-align: right;\n",
              "    }\n",
              "</style>\n",
              "<table border=\"1\" class=\"dataframe\">\n",
              "  <thead>\n",
              "    <tr style=\"text-align: right;\">\n",
              "      <th></th>\n",
              "      <th>count</th>\n",
              "      <th>mean</th>\n",
              "      <th>std</th>\n",
              "      <th>min</th>\n",
              "      <th>25%</th>\n",
              "      <th>50%</th>\n",
              "      <th>75%</th>\n",
              "      <th>max</th>\n",
              "    </tr>\n",
              "  </thead>\n",
              "  <tbody>\n",
              "    <tr>\n",
              "      <th>Month</th>\n",
              "      <td>2885612.0</td>\n",
              "      <td>6.469037</td>\n",
              "      <td>3.456445</td>\n",
              "      <td>1.0</td>\n",
              "      <td>3.0</td>\n",
              "      <td>6.0</td>\n",
              "      <td>9.0</td>\n",
              "      <td>12.0</td>\n",
              "    </tr>\n",
              "    <tr>\n",
              "      <th>Day</th>\n",
              "      <td>2885612.0</td>\n",
              "      <td>15.716792</td>\n",
              "      <td>8.800516</td>\n",
              "      <td>0.0</td>\n",
              "      <td>8.0</td>\n",
              "      <td>16.0</td>\n",
              "      <td>23.0</td>\n",
              "      <td>31.0</td>\n",
              "    </tr>\n",
              "    <tr>\n",
              "      <th>Year</th>\n",
              "      <td>2885612.0</td>\n",
              "      <td>2006.706835</td>\n",
              "      <td>19.657102</td>\n",
              "      <td>200.0</td>\n",
              "      <td>2001.0</td>\n",
              "      <td>2007.0</td>\n",
              "      <td>2013.0</td>\n",
              "      <td>2020.0</td>\n",
              "    </tr>\n",
              "    <tr>\n",
              "      <th>AvgTemperature</th>\n",
              "      <td>2885612.0</td>\n",
              "      <td>56.015596</td>\n",
              "      <td>32.152101</td>\n",
              "      <td>-99.0</td>\n",
              "      <td>45.8</td>\n",
              "      <td>62.5</td>\n",
              "      <td>75.6</td>\n",
              "      <td>110.0</td>\n",
              "    </tr>\n",
              "  </tbody>\n",
              "</table>\n",
              "</div>\n",
              "      <button class=\"colab-df-convert\" onclick=\"convertToInteractive('df-fa751699-7b62-42f9-9a40-e7a6e7e17c04')\"\n",
              "              title=\"Convert this dataframe to an interactive table.\"\n",
              "              style=\"display:none;\">\n",
              "        \n",
              "  <svg xmlns=\"http://www.w3.org/2000/svg\" height=\"24px\"viewBox=\"0 0 24 24\"\n",
              "       width=\"24px\">\n",
              "    <path d=\"M0 0h24v24H0V0z\" fill=\"none\"/>\n",
              "    <path d=\"M18.56 5.44l.94 2.06.94-2.06 2.06-.94-2.06-.94-.94-2.06-.94 2.06-2.06.94zm-11 1L8.5 8.5l.94-2.06 2.06-.94-2.06-.94L8.5 2.5l-.94 2.06-2.06.94zm10 10l.94 2.06.94-2.06 2.06-.94-2.06-.94-.94-2.06-.94 2.06-2.06.94z\"/><path d=\"M17.41 7.96l-1.37-1.37c-.4-.4-.92-.59-1.43-.59-.52 0-1.04.2-1.43.59L10.3 9.45l-7.72 7.72c-.78.78-.78 2.05 0 2.83L4 21.41c.39.39.9.59 1.41.59.51 0 1.02-.2 1.41-.59l7.78-7.78 2.81-2.81c.8-.78.8-2.07 0-2.86zM5.41 20L4 18.59l7.72-7.72 1.47 1.35L5.41 20z\"/>\n",
              "  </svg>\n",
              "      </button>\n",
              "      \n",
              "  <style>\n",
              "    .colab-df-container {\n",
              "      display:flex;\n",
              "      flex-wrap:wrap;\n",
              "      gap: 12px;\n",
              "    }\n",
              "\n",
              "    .colab-df-convert {\n",
              "      background-color: #E8F0FE;\n",
              "      border: none;\n",
              "      border-radius: 50%;\n",
              "      cursor: pointer;\n",
              "      display: none;\n",
              "      fill: #1967D2;\n",
              "      height: 32px;\n",
              "      padding: 0 0 0 0;\n",
              "      width: 32px;\n",
              "    }\n",
              "\n",
              "    .colab-df-convert:hover {\n",
              "      background-color: #E2EBFA;\n",
              "      box-shadow: 0px 1px 2px rgba(60, 64, 67, 0.3), 0px 1px 3px 1px rgba(60, 64, 67, 0.15);\n",
              "      fill: #174EA6;\n",
              "    }\n",
              "\n",
              "    [theme=dark] .colab-df-convert {\n",
              "      background-color: #3B4455;\n",
              "      fill: #D2E3FC;\n",
              "    }\n",
              "\n",
              "    [theme=dark] .colab-df-convert:hover {\n",
              "      background-color: #434B5C;\n",
              "      box-shadow: 0px 1px 3px 1px rgba(0, 0, 0, 0.15);\n",
              "      filter: drop-shadow(0px 1px 2px rgba(0, 0, 0, 0.3));\n",
              "      fill: #FFFFFF;\n",
              "    }\n",
              "  </style>\n",
              "\n",
              "      <script>\n",
              "        const buttonEl =\n",
              "          document.querySelector('#df-fa751699-7b62-42f9-9a40-e7a6e7e17c04 button.colab-df-convert');\n",
              "        buttonEl.style.display =\n",
              "          google.colab.kernel.accessAllowed ? 'block' : 'none';\n",
              "\n",
              "        async function convertToInteractive(key) {\n",
              "          const element = document.querySelector('#df-fa751699-7b62-42f9-9a40-e7a6e7e17c04');\n",
              "          const dataTable =\n",
              "            await google.colab.kernel.invokeFunction('convertToInteractive',\n",
              "                                                     [key], {});\n",
              "          if (!dataTable) return;\n",
              "\n",
              "          const docLinkHtml = 'Like what you see? Visit the ' +\n",
              "            '<a target=\"_blank\" href=https://colab.research.google.com/notebooks/data_table.ipynb>data table notebook</a>'\n",
              "            + ' to learn more about interactive tables.';\n",
              "          element.innerHTML = '';\n",
              "          dataTable['output_type'] = 'display_data';\n",
              "          await google.colab.output.renderOutput(dataTable, element);\n",
              "          const docLink = document.createElement('div');\n",
              "          docLink.innerHTML = docLinkHtml;\n",
              "          element.appendChild(docLink);\n",
              "        }\n",
              "      </script>\n",
              "    </div>\n",
              "  </div>\n",
              "  "
            ]
          },
          "metadata": {},
          "execution_count": 65
        }
      ]
    },
    {
      "cell_type": "markdown",
      "source": [
        "**Identifying outliers**"
      ],
      "metadata": {
        "id": "IKktVnEif8Pb"
      }
    },
    {
      "cell_type": "code",
      "source": [
        "for i in pd_df[['Month', 'Day', 'Year', 'AvgTemperature']]:\n",
        "  plt.figure()\n",
        "  sns.boxplot(pd_df[i])"
      ],
      "metadata": {
        "colab": {
          "base_uri": "https://localhost:8080/",
          "height": 1000
        },
        "id": "4yl978SOfi7R",
        "outputId": "e016d4d5-d33b-4c1c-fb99-0025ed30527a"
      },
      "execution_count": 66,
      "outputs": [
        {
          "output_type": "stream",
          "name": "stderr",
          "text": [
            "/usr/local/lib/python3.7/dist-packages/seaborn/_decorators.py:43: FutureWarning:\n",
            "\n",
            "Pass the following variable as a keyword arg: x. From version 0.12, the only valid positional argument will be `data`, and passing other arguments without an explicit keyword will result in an error or misinterpretation.\n",
            "\n",
            "/usr/local/lib/python3.7/dist-packages/seaborn/_decorators.py:43: FutureWarning:\n",
            "\n",
            "Pass the following variable as a keyword arg: x. From version 0.12, the only valid positional argument will be `data`, and passing other arguments without an explicit keyword will result in an error or misinterpretation.\n",
            "\n",
            "/usr/local/lib/python3.7/dist-packages/seaborn/_decorators.py:43: FutureWarning:\n",
            "\n",
            "Pass the following variable as a keyword arg: x. From version 0.12, the only valid positional argument will be `data`, and passing other arguments without an explicit keyword will result in an error or misinterpretation.\n",
            "\n",
            "/usr/local/lib/python3.7/dist-packages/seaborn/_decorators.py:43: FutureWarning:\n",
            "\n",
            "Pass the following variable as a keyword arg: x. From version 0.12, the only valid positional argument will be `data`, and passing other arguments without an explicit keyword will result in an error or misinterpretation.\n",
            "\n"
          ]
        },
        {
          "output_type": "display_data",
          "data": {
            "text/plain": [
              "<Figure size 432x288 with 1 Axes>"
            ],
            "image/png": "[encoded data removed]"
          },
          "metadata": {
            "needs_background": "light"
          }
        },
        {
          "output_type": "display_data",
          "data": {
            "text/plain": [
              "<Figure size 432x288 with 1 Axes>"
            ],
            "image/png": "[encoded data removed]"
          },
          "metadata": {
            "needs_background": "light"
          }
        },
        {
          "output_type": "display_data",
          "data": {
            "text/plain": [
              "<Figure size 432x288 with 1 Axes>"
            ],
            "image/png": "[encoded data removed]"
          },
          "metadata": {
            "needs_background": "light"
          }
        },
        {
          "output_type": "display_data",
          "data": {
            "text/plain": [
              "<Figure size 432x288 with 1 Axes>"
            ],
            "image/png": "[encoded data removed]"
          },
          "metadata": {
            "needs_background": "light"
          }
        }
      ]
    },
    {
      "cell_type": "markdown",
      "source": [
        "***From the Above Box Plot we can conculde that Year and Avg temperature is having lot of outliers***"
      ],
      "metadata": {
        "id": "t4vVsboDjr8m"
      }
    },
    {
      "cell_type": "code",
      "source": [
        "#Let remove the outliers\n",
        "\n",
        "pd_df.groupby(['Year'])['AvgTemperature'].count()"
      ],
      "metadata": {
        "colab": {
          "base_uri": "https://localhost:8080/"
        },
        "id": "459ocl6Dg63v",
        "outputId": "5484ef37-76ce-40b9-c5fc-94a68d3f12ed"
      },
      "execution_count": 67,
      "outputs": [
        {
          "output_type": "execute_result",
          "data": {
            "text/plain": [
              "Year\n",
              "200         60\n",
              "201        235\n",
              "1995    117886\n",
              "1996    118218\n",
              "1997    117926\n",
              "1998    118352\n",
              "1999    118625\n",
              "2000    118950\n",
              "2001    118625\n",
              "2002    118625\n",
              "2003    118410\n",
              "2004    117913\n",
              "2005    117165\n",
              "2006    116917\n",
              "2007    114685\n",
              "2008    113831\n",
              "2009    113517\n",
              "2010    114533\n",
              "2011    112313\n",
              "2012    111261\n",
              "2013    110291\n",
              "2014    108288\n",
              "2015    106768\n",
              "2016    106505\n",
              "2017    106216\n",
              "2018    105660\n",
              "2019    105295\n",
              "2020     38542\n",
              "Name: AvgTemperature, dtype: int64"
            ]
          },
          "metadata": {},
          "execution_count": 67
        }
      ]
    },
    {
      "cell_type": "code",
      "source": [
        "temp2 = pd_df[(pd_df['Year']==200) | (pd_df['Year']==201)].index"
      ],
      "metadata": {
        "id": "kyc7h0OOkXT8"
      },
      "execution_count": 68,
      "outputs": []
    },
    {
      "cell_type": "code",
      "source": [
        "temp2"
      ],
      "metadata": {
        "colab": {
          "base_uri": "https://localhost:8080/"
        },
        "id": "BW2tMkD_mAGu",
        "outputId": "faf271b4-fe56-4274-cce1-8931185dd722"
      },
      "execution_count": 69,
      "outputs": [
        {
          "output_type": "execute_result",
          "data": {
            "text/plain": [
              "Int64Index([  58178,   58179,   58180,   58181,   58182,   58183,   58184,\n",
              "              58185,   58186,   58187,\n",
              "            ...\n",
              "            1212422, 1212423, 1212424, 1212425, 1212426, 1212427, 1212428,\n",
              "            1212429, 1212430, 1212431],\n",
              "           dtype='int64', length=295)"
            ]
          },
          "metadata": {},
          "execution_count": 69
        }
      ]
    },
    {
      "cell_type": "code",
      "source": [
        "pd_df.drop(temp2, inplace = True)"
      ],
      "metadata": {
        "id": "0C5s9yOfmBrZ"
      },
      "execution_count": 70,
      "outputs": []
    },
    {
      "cell_type": "code",
      "source": [
        "pd_df.groupby(['Year'])['AvgTemperature'].count()"
      ],
      "metadata": {
        "colab": {
          "base_uri": "https://localhost:8080/"
        },
        "id": "uyMbmREkm0yL",
        "outputId": "e6d968a3-e712-4dbb-bc7e-3fa262ccef64"
      },
      "execution_count": 71,
      "outputs": [
        {
          "output_type": "execute_result",
          "data": {
            "text/plain": [
              "Year\n",
              "1995    117886\n",
              "1996    118218\n",
              "1997    117926\n",
              "1998    118352\n",
              "1999    118625\n",
              "2000    118950\n",
              "2001    118625\n",
              "2002    118625\n",
              "2003    118410\n",
              "2004    117913\n",
              "2005    117165\n",
              "2006    116917\n",
              "2007    114685\n",
              "2008    113831\n",
              "2009    113517\n",
              "2010    114533\n",
              "2011    112313\n",
              "2012    111261\n",
              "2013    110291\n",
              "2014    108288\n",
              "2015    106768\n",
              "2016    106505\n",
              "2017    106216\n",
              "2018    105660\n",
              "2019    105295\n",
              "2020     38542\n",
              "Name: AvgTemperature, dtype: int64"
            ]
          },
          "metadata": {},
          "execution_count": 71
        }
      ]
    },
    {
      "cell_type": "code",
      "source": [
        "for i in pd_df[['Month', 'Day', 'Year', 'AvgTemperature']]:\n",
        "  plt.figure()\n",
        "  sns.boxplot(pd_df[i])"
      ],
      "metadata": {
        "colab": {
          "base_uri": "https://localhost:8080/",
          "height": 1000
        },
        "id": "Ojkkm0fgnOI5",
        "outputId": "5512bd45-ff35-45b0-a79b-4571665ecd42"
      },
      "execution_count": 72,
      "outputs": [
        {
          "output_type": "stream",
          "name": "stderr",
          "text": [
            "/usr/local/lib/python3.7/dist-packages/seaborn/_decorators.py:43: FutureWarning:\n",
            "\n",
            "Pass the following variable as a keyword arg: x. From version 0.12, the only valid positional argument will be `data`, and passing other arguments without an explicit keyword will result in an error or misinterpretation.\n",
            "\n",
            "/usr/local/lib/python3.7/dist-packages/seaborn/_decorators.py:43: FutureWarning:\n",
            "\n",
            "Pass the following variable as a keyword arg: x. From version 0.12, the only valid positional argument will be `data`, and passing other arguments without an explicit keyword will result in an error or misinterpretation.\n",
            "\n",
            "/usr/local/lib/python3.7/dist-packages/seaborn/_decorators.py:43: FutureWarning:\n",
            "\n",
            "Pass the following variable as a keyword arg: x. From version 0.12, the only valid positional argument will be `data`, and passing other arguments without an explicit keyword will result in an error or misinterpretation.\n",
            "\n",
            "/usr/local/lib/python3.7/dist-packages/seaborn/_decorators.py:43: FutureWarning:\n",
            "\n",
            "Pass the following variable as a keyword arg: x. From version 0.12, the only valid positional argument will be `data`, and passing other arguments without an explicit keyword will result in an error or misinterpretation.\n",
            "\n"
          ]
        },
        {
          "output_type": "display_data",
          "data": {
            "text/plain": [
              "<Figure size 432x288 with 1 Axes>"
            ],
            "image/png": "[encoded data removed]"
          },
          "metadata": {
            "needs_background": "light"
          }
        },
        {
          "output_type": "display_data",
          "data": {
            "text/plain": [
              "<Figure size 432x288 with 1 Axes>"
            ],
            "image/png": "[encoded data removed]"
          },
          "metadata": {
            "needs_background": "light"
          }
        },
        {
          "output_type": "display_data",
          "data": {
            "text/plain": [
              "<Figure size 432x288 with 1 Axes>"
            ],
            "image/png": "[encoded data removed]"
          },
          "metadata": {
            "needs_background": "light"
          }
        },
        {
          "output_type": "display_data",
          "data": {
            "text/plain": [
              "<Figure size 432x288 with 1 Axes>"
            ],
            "image/png": "[encoded data removed]"
          },
          "metadata": {
            "needs_background": "light"
          }
        }
      ]
    },
    {
      "cell_type": "code",
      "source": [
        "temp3 = pd_df[pd_df['AvgTemperature'] < 0].index"
      ],
      "metadata": {
        "id": "kvUfzFLDnRoU"
      },
      "execution_count": 73,
      "outputs": []
    },
    {
      "cell_type": "code",
      "source": [
        "temp3"
      ],
      "metadata": {
        "colab": {
          "base_uri": "https://localhost:8080/"
        },
        "id": "dY-hj_meoJqK",
        "outputId": "4ce9b61b-fe25-4cef-cd95-e5e1e2188a5b"
      },
      "execution_count": 74,
      "outputs": [
        {
          "output_type": "execute_result",
          "data": {
            "text/plain": [
              "Int64Index([    220,     221,     408,     409,    1453,    1454,    1459,\n",
              "               1460,    1470,    2725,\n",
              "            ...\n",
              "            2905333, 2905365, 2905372, 2905436, 2905459, 2905471, 2905534,\n",
              "            2905689, 2905726, 2905749],\n",
              "           dtype='int64', length=89575)"
            ]
          },
          "metadata": {},
          "execution_count": 74
        }
      ]
    },
    {
      "cell_type": "code",
      "source": [
        "pd_df.drop(temp3 , inplace = True)"
      ],
      "metadata": {
        "id": "JgxDUua3oKU9"
      },
      "execution_count": 75,
      "outputs": []
    },
    {
      "cell_type": "code",
      "source": [
        "for i in pd_df[['Month', 'Day', 'Year', 'AvgTemperature']]:\n",
        "  plt.figure()\n",
        "  sns.boxplot(pd_df[i])"
      ],
      "metadata": {
        "colab": {
          "base_uri": "https://localhost:8080/",
          "height": 1000
        },
        "id": "LioL8qvYoTLL",
        "outputId": "6cac496e-7ef0-4126-946e-9c5a9b4aee8c"
      },
      "execution_count": 76,
      "outputs": [
        {
          "output_type": "stream",
          "name": "stderr",
          "text": [
            "/usr/local/lib/python3.7/dist-packages/seaborn/_decorators.py:43: FutureWarning:\n",
            "\n",
            "Pass the following variable as a keyword arg: x. From version 0.12, the only valid positional argument will be `data`, and passing other arguments without an explicit keyword will result in an error or misinterpretation.\n",
            "\n",
            "/usr/local/lib/python3.7/dist-packages/seaborn/_decorators.py:43: FutureWarning:\n",
            "\n",
            "Pass the following variable as a keyword arg: x. From version 0.12, the only valid positional argument will be `data`, and passing other arguments without an explicit keyword will result in an error or misinterpretation.\n",
            "\n",
            "/usr/local/lib/python3.7/dist-packages/seaborn/_decorators.py:43: FutureWarning:\n",
            "\n",
            "Pass the following variable as a keyword arg: x. From version 0.12, the only valid positional argument will be `data`, and passing other arguments without an explicit keyword will result in an error or misinterpretation.\n",
            "\n",
            "/usr/local/lib/python3.7/dist-packages/seaborn/_decorators.py:43: FutureWarning:\n",
            "\n",
            "Pass the following variable as a keyword arg: x. From version 0.12, the only valid positional argument will be `data`, and passing other arguments without an explicit keyword will result in an error or misinterpretation.\n",
            "\n"
          ]
        },
        {
          "output_type": "display_data",
          "data": {
            "text/plain": [
              "<Figure size 432x288 with 1 Axes>"
            ],
            "image/png": "[encoded data removed]"
          },
          "metadata": {
            "needs_background": "light"
          }
        },
        {
          "output_type": "display_data",
          "data": {
            "text/plain": [
              "<Figure size 432x288 with 1 Axes>"
            ],
            "image/png": "[encoded data removed]"
          },
          "metadata": {
            "needs_background": "light"
          }
        },
        {
          "output_type": "display_data",
          "data": {
            "text/plain": [
              "<Figure size 432x288 with 1 Axes>"
            ],
            "image/png": "[encoded data removed]"
          },
          "metadata": {
            "needs_background": "light"
          }
        },
        {
          "output_type": "display_data",
          "data": {
            "text/plain": [
              "<Figure size 432x288 with 1 Axes>"
            ],
            "image/png": "[encoded data removed]"
          },
          "metadata": {
            "needs_background": "light"
          }
        }
      ]
    },
    {
      "cell_type": "code",
      "source": [
        "temp4 = pd_df[pd_df['AvgTemperature'] < 10].index\n",
        "\n",
        "pd_df.drop(temp4 , inplace= True)"
      ],
      "metadata": {
        "id": "HimdiZt-oWyP"
      },
      "execution_count": 77,
      "outputs": []
    },
    {
      "cell_type": "code",
      "source": [
        "for i in pd_df[['Month', 'Day', 'Year', 'AvgTemperature']]:\n",
        "  plt.figure()\n",
        "  sns.boxplot(pd_df[i])"
      ],
      "metadata": {
        "colab": {
          "base_uri": "https://localhost:8080/",
          "height": 1000
        },
        "id": "H2CF8JC6okqv",
        "outputId": "71c7bf6c-b24c-47a1-c4d7-98319f7bed74"
      },
      "execution_count": 78,
      "outputs": [
        {
          "output_type": "stream",
          "name": "stderr",
          "text": [
            "/usr/local/lib/python3.7/dist-packages/seaborn/_decorators.py:43: FutureWarning:\n",
            "\n",
            "Pass the following variable as a keyword arg: x. From version 0.12, the only valid positional argument will be `data`, and passing other arguments without an explicit keyword will result in an error or misinterpretation.\n",
            "\n",
            "/usr/local/lib/python3.7/dist-packages/seaborn/_decorators.py:43: FutureWarning:\n",
            "\n",
            "Pass the following variable as a keyword arg: x. From version 0.12, the only valid positional argument will be `data`, and passing other arguments without an explicit keyword will result in an error or misinterpretation.\n",
            "\n",
            "/usr/local/lib/python3.7/dist-packages/seaborn/_decorators.py:43: FutureWarning:\n",
            "\n",
            "Pass the following variable as a keyword arg: x. From version 0.12, the only valid positional argument will be `data`, and passing other arguments without an explicit keyword will result in an error or misinterpretation.\n",
            "\n",
            "/usr/local/lib/python3.7/dist-packages/seaborn/_decorators.py:43: FutureWarning:\n",
            "\n",
            "Pass the following variable as a keyword arg: x. From version 0.12, the only valid positional argument will be `data`, and passing other arguments without an explicit keyword will result in an error or misinterpretation.\n",
            "\n"
          ]
        },
        {
          "output_type": "display_data",
          "data": {
            "text/plain": [
              "<Figure size 432x288 with 1 Axes>"
            ],
            "image/png": "[encoded data removed]"
          },
          "metadata": {
            "needs_background": "light"
          }
        },
        {
          "output_type": "display_data",
          "data": {
            "text/plain": [
              "<Figure size 432x288 with 1 Axes>"
            ],
            "image/png": "[encoded data removed]"
          },
          "metadata": {
            "needs_background": "light"
          }
        },
        {
          "output_type": "display_data",
          "data": {
            "text/plain": [
              "<Figure size 432x288 with 1 Axes>"
            ],
            "image/png": "[encoded data removed]"
          },
          "metadata": {
            "needs_background": "light"
          }
        },
        {
          "output_type": "display_data",
          "data": {
            "text/plain": [
              "<Figure size 432x288 with 1 Axes>"
            ],
            "image/png": "[encoded data removed]"
          },
          "metadata": {
            "needs_background": "light"
          }
        }
      ]
    },
    {
      "cell_type": "code",
      "source": [
        "pd_df.count()"
      ],
      "metadata": {
        "colab": {
          "base_uri": "https://localhost:8080/"
        },
        "id": "XmlIYIXxonRG",
        "outputId": "195428b1-aefc-48fe-e84e-56c91f108f4d"
      },
      "execution_count": 79,
      "outputs": [
        {
          "output_type": "execute_result",
          "data": {
            "text/plain": [
              "Region            2776834\n",
              "Country           2776834\n",
              "State             1414218\n",
              "City              2776834\n",
              "Month             2776834\n",
              "Day               2776834\n",
              "Year              2776834\n",
              "AvgTemperature    2776834\n",
              "dtype: int64"
            ]
          },
          "metadata": {},
          "execution_count": 79
        }
      ]
    },
    {
      "cell_type": "markdown",
      "source": [
        "**Creating Data for India Only**"
      ],
      "metadata": {
        "id": "Snx3NrjyxCph"
      }
    },
    {
      "cell_type": "code",
      "source": [
        "India_df = pd_df[ pd_df['Country'] =='India']"
      ],
      "metadata": {
        "id": "QqMpyhOTotT2"
      },
      "execution_count": 80,
      "outputs": []
    },
    {
      "cell_type": "code",
      "source": [
        "India_df"
      ],
      "metadata": {
        "colab": {
          "base_uri": "https://localhost:8080/",
          "height": 424
        },
        "id": "WpqS-5OMo9gB",
        "outputId": "4113a7e1-9435-4355-e491-68dd0659021f"
      },
      "execution_count": 81,
      "outputs": [
        {
          "output_type": "execute_result",
          "data": {
            "text/plain": [
              "       Region Country State             City  Month  Day  Year  AvgTemperature\n",
              "312523   Asia   India  None  Bombay (Mumbai)      1    1  1995            71.8\n",
              "312524   Asia   India  None  Bombay (Mumbai)      1    2  1995            72.0\n",
              "312525   Asia   India  None  Bombay (Mumbai)      1    3  1995            70.3\n",
              "312526   Asia   India  None  Bombay (Mumbai)      1    4  1995            69.7\n",
              "312527   Asia   India  None  Bombay (Mumbai)      1    5  1995            71.3\n",
              "...       ...     ...   ...              ...    ...  ...   ...             ...\n",
              "349581   Asia   India  None            Delhi      5    8  2020            89.9\n",
              "349582   Asia   India  None            Delhi      5    9  2020            92.3\n",
              "349583   Asia   India  None            Delhi      5   10  2020            81.9\n",
              "349584   Asia   India  None            Delhi      5   11  2020            84.7\n",
              "349585   Asia   India  None            Delhi      5   12  2020            88.1\n",
              "\n",
              "[36903 rows x 8 columns]"
            ],
            "text/html": [
              "\n",
              "  <div id=\"df-ebf6ed58-a6ae-48f6-aa31-8a1340613c50\">\n",
              "    <div class=\"colab-df-container\">\n",
              "      <div>\n",
              "<style scoped>\n",
              "    .dataframe tbody tr th:only-of-type {\n",
              "        vertical-align: middle;\n",
              "    }\n",
              "\n",
              "    .dataframe tbody tr th {\n",
              "        vertical-align: top;\n",
              "    }\n",
              "\n",
              "    .dataframe thead th {\n",
              "        text-align: right;\n",
              "    }\n",
              "</style>\n",
              "<table border=\"1\" class=\"dataframe\">\n",
              "  <thead>\n",
              "    <tr style=\"text-align: right;\">\n",
              "      <th></th>\n",
              "      <th>Region</th>\n",
              "      <th>Country</th>\n",
              "      <th>State</th>\n",
              "      <th>City</th>\n",
              "      <th>Month</th>\n",
              "      <th>Day</th>\n",
              "      <th>Year</th>\n",
              "      <th>AvgTemperature</th>\n",
              "    </tr>\n",
              "  </thead>\n",
              "  <tbody>\n",
              "    <tr>\n",
              "      <th>312523</th>\n",
              "      <td>Asia</td>\n",
              "      <td>India</td>\n",
              "      <td>None</td>\n",
              "      <td>Bombay (Mumbai)</td>\n",
              "      <td>1</td>\n",
              "      <td>1</td>\n",
              "      <td>1995</td>\n",
              "      <td>71.8</td>\n",
              "    </tr>\n",
              "    <tr>\n",
              "      <th>312524</th>\n",
              "      <td>Asia</td>\n",
              "      <td>India</td>\n",
              "      <td>None</td>\n",
              "      <td>Bombay (Mumbai)</td>\n",
              "      <td>1</td>\n",
              "      <td>2</td>\n",
              "      <td>1995</td>\n",
              "      <td>72.0</td>\n",
              "    </tr>\n",
              "    <tr>\n",
              "      <th>312525</th>\n",
              "      <td>Asia</td>\n",
              "      <td>India</td>\n",
              "      <td>None</td>\n",
              "      <td>Bombay (Mumbai)</td>\n",
              "      <td>1</td>\n",
              "      <td>3</td>\n",
              "      <td>1995</td>\n",
              "      <td>70.3</td>\n",
              "    </tr>\n",
              "    <tr>\n",
              "      <th>312526</th>\n",
              "      <td>Asia</td>\n",
              "      <td>India</td>\n",
              "      <td>None</td>\n",
              "      <td>Bombay (Mumbai)</td>\n",
              "      <td>1</td>\n",
              "      <td>4</td>\n",
              "      <td>1995</td>\n",
              "      <td>69.7</td>\n",
              "    </tr>\n",
              "    <tr>\n",
              "      <th>312527</th>\n",
              "      <td>Asia</td>\n",
              "      <td>India</td>\n",
              "      <td>None</td>\n",
              "      <td>Bombay (Mumbai)</td>\n",
              "      <td>1</td>\n",
              "      <td>5</td>\n",
              "      <td>1995</td>\n",
              "      <td>71.3</td>\n",
              "    </tr>\n",
              "    <tr>\n",
              "      <th>...</th>\n",
              "      <td>...</td>\n",
              "      <td>...</td>\n",
              "      <td>...</td>\n",
              "      <td>...</td>\n",
              "      <td>...</td>\n",
              "      <td>...</td>\n",
              "      <td>...</td>\n",
              "      <td>...</td>\n",
              "    </tr>\n",
              "    <tr>\n",
              "      <th>349581</th>\n",
              "      <td>Asia</td>\n",
              "      <td>India</td>\n",
              "      <td>None</td>\n",
              "      <td>Delhi</td>\n",
              "      <td>5</td>\n",
              "      <td>8</td>\n",
              "      <td>2020</td>\n",
              "      <td>89.9</td>\n",
              "    </tr>\n",
              "    <tr>\n",
              "      <th>349582</th>\n",
              "      <td>Asia</td>\n",
              "      <td>India</td>\n",
              "      <td>None</td>\n",
              "      <td>Delhi</td>\n",
              "      <td>5</td>\n",
              "      <td>9</td>\n",
              "      <td>2020</td>\n",
              "      <td>92.3</td>\n",
              "    </tr>\n",
              "    <tr>\n",
              "      <th>349583</th>\n",
              "      <td>Asia</td>\n",
              "      <td>India</td>\n",
              "      <td>None</td>\n",
              "      <td>Delhi</td>\n",
              "      <td>5</td>\n",
              "      <td>10</td>\n",
              "      <td>2020</td>\n",
              "      <td>81.9</td>\n",
              "    </tr>\n",
              "    <tr>\n",
              "      <th>349584</th>\n",
              "      <td>Asia</td>\n",
              "      <td>India</td>\n",
              "      <td>None</td>\n",
              "      <td>Delhi</td>\n",
              "      <td>5</td>\n",
              "      <td>11</td>\n",
              "      <td>2020</td>\n",
              "      <td>84.7</td>\n",
              "    </tr>\n",
              "    <tr>\n",
              "      <th>349585</th>\n",
              "      <td>Asia</td>\n",
              "      <td>India</td>\n",
              "      <td>None</td>\n",
              "      <td>Delhi</td>\n",
              "      <td>5</td>\n",
              "      <td>12</td>\n",
              "      <td>2020</td>\n",
              "      <td>88.1</td>\n",
              "    </tr>\n",
              "  </tbody>\n",
              "</table>\n",
              "<p>36903 rows × 8 columns</p>\n",
              "</div>\n",
              "      <button class=\"colab-df-convert\" onclick=\"convertToInteractive('df-ebf6ed58-a6ae-48f6-aa31-8a1340613c50')\"\n",
              "              title=\"Convert this dataframe to an interactive table.\"\n",
              "              style=\"display:none;\">\n",
              "        \n",
              "  <svg xmlns=\"http://www.w3.org/2000/svg\" height=\"24px\"viewBox=\"0 0 24 24\"\n",
              "       width=\"24px\">\n",
              "    <path d=\"M0 0h24v24H0V0z\" fill=\"none\"/>\n",
              "    <path d=\"M18.56 5.44l.94 2.06.94-2.06 2.06-.94-2.06-.94-.94-2.06-.94 2.06-2.06.94zm-11 1L8.5 8.5l.94-2.06 2.06-.94-2.06-.94L8.5 2.5l-.94 2.06-2.06.94zm10 10l.94 2.06.94-2.06 2.06-.94-2.06-.94-.94-2.06-.94 2.06-2.06.94z\"/><path d=\"M17.41 7.96l-1.37-1.37c-.4-.4-.92-.59-1.43-.59-.52 0-1.04.2-1.43.59L10.3 9.45l-7.72 7.72c-.78.78-.78 2.05 0 2.83L4 21.41c.39.39.9.59 1.41.59.51 0 1.02-.2 1.41-.59l7.78-7.78 2.81-2.81c.8-.78.8-2.07 0-2.86zM5.41 20L4 18.59l7.72-7.72 1.47 1.35L5.41 20z\"/>\n",
              "  </svg>\n",
              "      </button>\n",
              "      \n",
              "  <style>\n",
              "    .colab-df-container {\n",
              "      display:flex;\n",
              "      flex-wrap:wrap;\n",
              "      gap: 12px;\n",
              "    }\n",
              "\n",
              "    .colab-df-convert {\n",
              "      background-color: #E8F0FE;\n",
              "      border: none;\n",
              "      border-radius: 50%;\n",
              "      cursor: pointer;\n",
              "      display: none;\n",
              "      fill: #1967D2;\n",
              "      height: 32px;\n",
              "      padding: 0 0 0 0;\n",
              "      width: 32px;\n",
              "    }\n",
              "\n",
              "    .colab-df-convert:hover {\n",
              "      background-color: #E2EBFA;\n",
              "      box-shadow: 0px 1px 2px rgba(60, 64, 67, 0.3), 0px 1px 3px 1px rgba(60, 64, 67, 0.15);\n",
              "      fill: #174EA6;\n",
              "    }\n",
              "\n",
              "    [theme=dark] .colab-df-convert {\n",
              "      background-color: #3B4455;\n",
              "      fill: #D2E3FC;\n",
              "    }\n",
              "\n",
              "    [theme=dark] .colab-df-convert:hover {\n",
              "      background-color: #434B5C;\n",
              "      box-shadow: 0px 1px 3px 1px rgba(0, 0, 0, 0.15);\n",
              "      filter: drop-shadow(0px 1px 2px rgba(0, 0, 0, 0.3));\n",
              "      fill: #FFFFFF;\n",
              "    }\n",
              "  </style>\n",
              "\n",
              "      <script>\n",
              "        const buttonEl =\n",
              "          document.querySelector('#df-ebf6ed58-a6ae-48f6-aa31-8a1340613c50 button.colab-df-convert');\n",
              "        buttonEl.style.display =\n",
              "          google.colab.kernel.accessAllowed ? 'block' : 'none';\n",
              "\n",
              "        async function convertToInteractive(key) {\n",
              "          const element = document.querySelector('#df-ebf6ed58-a6ae-48f6-aa31-8a1340613c50');\n",
              "          const dataTable =\n",
              "            await google.colab.kernel.invokeFunction('convertToInteractive',\n",
              "                                                     [key], {});\n",
              "          if (!dataTable) return;\n",
              "\n",
              "          const docLinkHtml = 'Like what you see? Visit the ' +\n",
              "            '<a target=\"_blank\" href=https://colab.research.google.com/notebooks/data_table.ipynb>data table notebook</a>'\n",
              "            + ' to learn more about interactive tables.';\n",
              "          element.innerHTML = '';\n",
              "          dataTable['output_type'] = 'display_data';\n",
              "          await google.colab.output.renderOutput(dataTable, element);\n",
              "          const docLink = document.createElement('div');\n",
              "          docLink.innerHTML = docLinkHtml;\n",
              "          element.appendChild(docLink);\n",
              "        }\n",
              "      </script>\n",
              "    </div>\n",
              "  </div>\n",
              "  "
            ]
          },
          "metadata": {},
          "execution_count": 81
        }
      ]
    },
    {
      "cell_type": "markdown",
      "source": [
        "**Cleaning chunk of data**"
      ],
      "metadata": {
        "id": "3A1xKUguxReL"
      }
    },
    {
      "cell_type": "code",
      "source": [
        "India_df['City'] = India_df['City'].replace('Bombay (Mumbai)', 'Mumbai')"
      ],
      "metadata": {
        "colab": {
          "base_uri": "https://localhost:8080/"
        },
        "id": "BY8sJ8yAo_ev",
        "outputId": "21812f81-afe9-4df9-f48a-fc5993efab91"
      },
      "execution_count": 82,
      "outputs": [
        {
          "output_type": "stream",
          "name": "stderr",
          "text": [
            "/usr/local/lib/python3.7/dist-packages/ipykernel_launcher.py:1: SettingWithCopyWarning:\n",
            "\n",
            "\n",
            "A value is trying to be set on a copy of a slice from a DataFrame.\n",
            "Try using .loc[row_indexer,col_indexer] = value instead\n",
            "\n",
            "See the caveats in the documentation: https://pandas.pydata.org/pandas-docs/stable/user_guide/indexing.html#returning-a-view-versus-a-copy\n",
            "\n"
          ]
        }
      ]
    },
    {
      "cell_type": "code",
      "source": [
        "India_df"
      ],
      "metadata": {
        "colab": {
          "base_uri": "https://localhost:8080/",
          "height": 424
        },
        "id": "RJhBkRu_paf5",
        "outputId": "b24b8674-fcd9-4ca8-e32d-553f0c2859b6"
      },
      "execution_count": 83,
      "outputs": [
        {
          "output_type": "execute_result",
          "data": {
            "text/plain": [
              "       Region Country State    City  Month  Day  Year  AvgTemperature\n",
              "312523   Asia   India  None  Mumbai      1    1  1995            71.8\n",
              "312524   Asia   India  None  Mumbai      1    2  1995            72.0\n",
              "312525   Asia   India  None  Mumbai      1    3  1995            70.3\n",
              "312526   Asia   India  None  Mumbai      1    4  1995            69.7\n",
              "312527   Asia   India  None  Mumbai      1    5  1995            71.3\n",
              "...       ...     ...   ...     ...    ...  ...   ...             ...\n",
              "349581   Asia   India  None   Delhi      5    8  2020            89.9\n",
              "349582   Asia   India  None   Delhi      5    9  2020            92.3\n",
              "349583   Asia   India  None   Delhi      5   10  2020            81.9\n",
              "349584   Asia   India  None   Delhi      5   11  2020            84.7\n",
              "349585   Asia   India  None   Delhi      5   12  2020            88.1\n",
              "\n",
              "[36903 rows x 8 columns]"
            ],
            "text/html": [
              "\n",
              "  <div id=\"df-a93b316b-abb7-41dc-9d71-ad20bb8eaa1d\">\n",
              "    <div class=\"colab-df-container\">\n",
              "      <div>\n",
              "<style scoped>\n",
              "    .dataframe tbody tr th:only-of-type {\n",
              "        vertical-align: middle;\n",
              "    }\n",
              "\n",
              "    .dataframe tbody tr th {\n",
              "        vertical-align: top;\n",
              "    }\n",
              "\n",
              "    .dataframe thead th {\n",
              "        text-align: right;\n",
              "    }\n",
              "</style>\n",
              "<table border=\"1\" class=\"dataframe\">\n",
              "  <thead>\n",
              "    <tr style=\"text-align: right;\">\n",
              "      <th></th>\n",
              "      <th>Region</th>\n",
              "      <th>Country</th>\n",
              "      <th>State</th>\n",
              "      <th>City</th>\n",
              "      <th>Month</th>\n",
              "      <th>Day</th>\n",
              "      <th>Year</th>\n",
              "      <th>AvgTemperature</th>\n",
              "    </tr>\n",
              "  </thead>\n",
              "  <tbody>\n",
              "    <tr>\n",
              "      <th>312523</th>\n",
              "      <td>Asia</td>\n",
              "      <td>India</td>\n",
              "      <td>None</td>\n",
              "      <td>Mumbai</td>\n",
              "      <td>1</td>\n",
              "      <td>1</td>\n",
              "      <td>1995</td>\n",
              "      <td>71.8</td>\n",
              "    </tr>\n",
              "    <tr>\n",
              "      <th>312524</th>\n",
              "      <td>Asia</td>\n",
              "      <td>India</td>\n",
              "      <td>None</td>\n",
              "      <td>Mumbai</td>\n",
              "      <td>1</td>\n",
              "      <td>2</td>\n",
              "      <td>1995</td>\n",
              "      <td>72.0</td>\n",
              "    </tr>\n",
              "    <tr>\n",
              "      <th>312525</th>\n",
              "      <td>Asia</td>\n",
              "      <td>India</td>\n",
              "      <td>None</td>\n",
              "      <td>Mumbai</td>\n",
              "      <td>1</td>\n",
              "      <td>3</td>\n",
              "      <td>1995</td>\n",
              "      <td>70.3</td>\n",
              "    </tr>\n",
              "    <tr>\n",
              "      <th>312526</th>\n",
              "      <td>Asia</td>\n",
              "      <td>India</td>\n",
              "      <td>None</td>\n",
              "      <td>Mumbai</td>\n",
              "      <td>1</td>\n",
              "      <td>4</td>\n",
              "      <td>1995</td>\n",
              "      <td>69.7</td>\n",
              "    </tr>\n",
              "    <tr>\n",
              "      <th>312527</th>\n",
              "      <td>Asia</td>\n",
              "      <td>India</td>\n",
              "      <td>None</td>\n",
              "      <td>Mumbai</td>\n",
              "      <td>1</td>\n",
              "      <td>5</td>\n",
              "      <td>1995</td>\n",
              "      <td>71.3</td>\n",
              "    </tr>\n",
              "    <tr>\n",
              "      <th>...</th>\n",
              "      <td>...</td>\n",
              "      <td>...</td>\n",
              "      <td>...</td>\n",
              "      <td>...</td>\n",
              "      <td>...</td>\n",
              "      <td>...</td>\n",
              "      <td>...</td>\n",
              "      <td>...</td>\n",
              "    </tr>\n",
              "    <tr>\n",
              "      <th>349581</th>\n",
              "      <td>Asia</td>\n",
              "      <td>India</td>\n",
              "      <td>None</td>\n",
              "      <td>Delhi</td>\n",
              "      <td>5</td>\n",
              "      <td>8</td>\n",
              "      <td>2020</td>\n",
              "      <td>89.9</td>\n",
              "    </tr>\n",
              "    <tr>\n",
              "      <th>349582</th>\n",
              "      <td>Asia</td>\n",
              "      <td>India</td>\n",
              "      <td>None</td>\n",
              "      <td>Delhi</td>\n",
              "      <td>5</td>\n",
              "      <td>9</td>\n",
              "      <td>2020</td>\n",
              "      <td>92.3</td>\n",
              "    </tr>\n",
              "    <tr>\n",
              "      <th>349583</th>\n",
              "      <td>Asia</td>\n",
              "      <td>India</td>\n",
              "      <td>None</td>\n",
              "      <td>Delhi</td>\n",
              "      <td>5</td>\n",
              "      <td>10</td>\n",
              "      <td>2020</td>\n",
              "      <td>81.9</td>\n",
              "    </tr>\n",
              "    <tr>\n",
              "      <th>349584</th>\n",
              "      <td>Asia</td>\n",
              "      <td>India</td>\n",
              "      <td>None</td>\n",
              "      <td>Delhi</td>\n",
              "      <td>5</td>\n",
              "      <td>11</td>\n",
              "      <td>2020</td>\n",
              "      <td>84.7</td>\n",
              "    </tr>\n",
              "    <tr>\n",
              "      <th>349585</th>\n",
              "      <td>Asia</td>\n",
              "      <td>India</td>\n",
              "      <td>None</td>\n",
              "      <td>Delhi</td>\n",
              "      <td>5</td>\n",
              "      <td>12</td>\n",
              "      <td>2020</td>\n",
              "      <td>88.1</td>\n",
              "    </tr>\n",
              "  </tbody>\n",
              "</table>\n",
              "<p>36903 rows × 8 columns</p>\n",
              "</div>\n",
              "      <button class=\"colab-df-convert\" onclick=\"convertToInteractive('df-a93b316b-abb7-41dc-9d71-ad20bb8eaa1d')\"\n",
              "              title=\"Convert this dataframe to an interactive table.\"\n",
              "              style=\"display:none;\">\n",
              "        \n",
              "  <svg xmlns=\"http://www.w3.org/2000/svg\" height=\"24px\"viewBox=\"0 0 24 24\"\n",
              "       width=\"24px\">\n",
              "    <path d=\"M0 0h24v24H0V0z\" fill=\"none\"/>\n",
              "    <path d=\"M18.56 5.44l.94 2.06.94-2.06 2.06-.94-2.06-.94-.94-2.06-.94 2.06-2.06.94zm-11 1L8.5 8.5l.94-2.06 2.06-.94-2.06-.94L8.5 2.5l-.94 2.06-2.06.94zm10 10l.94 2.06.94-2.06 2.06-.94-2.06-.94-.94-2.06-.94 2.06-2.06.94z\"/><path d=\"M17.41 7.96l-1.37-1.37c-.4-.4-.92-.59-1.43-.59-.52 0-1.04.2-1.43.59L10.3 9.45l-7.72 7.72c-.78.78-.78 2.05 0 2.83L4 21.41c.39.39.9.59 1.41.59.51 0 1.02-.2 1.41-.59l7.78-7.78 2.81-2.81c.8-.78.8-2.07 0-2.86zM5.41 20L4 18.59l7.72-7.72 1.47 1.35L5.41 20z\"/>\n",
              "  </svg>\n",
              "      </button>\n",
              "      \n",
              "  <style>\n",
              "    .colab-df-container {\n",
              "      display:flex;\n",
              "      flex-wrap:wrap;\n",
              "      gap: 12px;\n",
              "    }\n",
              "\n",
              "    .colab-df-convert {\n",
              "      background-color: #E8F0FE;\n",
              "      border: none;\n",
              "      border-radius: 50%;\n",
              "      cursor: pointer;\n",
              "      display: none;\n",
              "      fill: #1967D2;\n",
              "      height: 32px;\n",
              "      padding: 0 0 0 0;\n",
              "      width: 32px;\n",
              "    }\n",
              "\n",
              "    .colab-df-convert:hover {\n",
              "      background-color: #E2EBFA;\n",
              "      box-shadow: 0px 1px 2px rgba(60, 64, 67, 0.3), 0px 1px 3px 1px rgba(60, 64, 67, 0.15);\n",
              "      fill: #174EA6;\n",
              "    }\n",
              "\n",
              "    [theme=dark] .colab-df-convert {\n",
              "      background-color: #3B4455;\n",
              "      fill: #D2E3FC;\n",
              "    }\n",
              "\n",
              "    [theme=dark] .colab-df-convert:hover {\n",
              "      background-color: #434B5C;\n",
              "      box-shadow: 0px 1px 3px 1px rgba(0, 0, 0, 0.15);\n",
              "      filter: drop-shadow(0px 1px 2px rgba(0, 0, 0, 0.3));\n",
              "      fill: #FFFFFF;\n",
              "    }\n",
              "  </style>\n",
              "\n",
              "      <script>\n",
              "        const buttonEl =\n",
              "          document.querySelector('#df-a93b316b-abb7-41dc-9d71-ad20bb8eaa1d button.colab-df-convert');\n",
              "        buttonEl.style.display =\n",
              "          google.colab.kernel.accessAllowed ? 'block' : 'none';\n",
              "\n",
              "        async function convertToInteractive(key) {\n",
              "          const element = document.querySelector('#df-a93b316b-abb7-41dc-9d71-ad20bb8eaa1d');\n",
              "          const dataTable =\n",
              "            await google.colab.kernel.invokeFunction('convertToInteractive',\n",
              "                                                     [key], {});\n",
              "          if (!dataTable) return;\n",
              "\n",
              "          const docLinkHtml = 'Like what you see? Visit the ' +\n",
              "            '<a target=\"_blank\" href=https://colab.research.google.com/notebooks/data_table.ipynb>data table notebook</a>'\n",
              "            + ' to learn more about interactive tables.';\n",
              "          element.innerHTML = '';\n",
              "          dataTable['output_type'] = 'display_data';\n",
              "          await google.colab.output.renderOutput(dataTable, element);\n",
              "          const docLink = document.createElement('div');\n",
              "          docLink.innerHTML = docLinkHtml;\n",
              "          element.appendChild(docLink);\n",
              "        }\n",
              "      </script>\n",
              "    </div>\n",
              "  </div>\n",
              "  "
            ]
          },
          "metadata": {},
          "execution_count": 83
        }
      ]
    },
    {
      "cell_type": "code",
      "source": [
        "India_df.groupby('City')['Country'].count()"
      ],
      "metadata": {
        "colab": {
          "base_uri": "https://localhost:8080/"
        },
        "id": "ffE5VKJupebK",
        "outputId": "10e06b59-045f-4603-cda5-045d921650d2"
      },
      "execution_count": 84,
      "outputs": [
        {
          "output_type": "execute_result",
          "data": {
            "text/plain": [
              "City\n",
              "Calcutta            9225\n",
              "Chennai (Madras)    9237\n",
              "Delhi               9205\n",
              "Mumbai              9236\n",
              "Name: Country, dtype: int64"
            ]
          },
          "metadata": {},
          "execution_count": 84
        }
      ]
    },
    {
      "cell_type": "code",
      "source": [
        "India_df['City'] = India_df['City'].replace('Chennai (Madras)', 'Chennai')\n",
        "India_df['City'] = India_df['City'].replace('Calcutta', 'Kolkata')"
      ],
      "metadata": {
        "colab": {
          "base_uri": "https://localhost:8080/"
        },
        "id": "2AhAYwzNqFD-",
        "outputId": "0c75f6dc-30f7-417a-f17a-2002dc3b4862"
      },
      "execution_count": 85,
      "outputs": [
        {
          "output_type": "stream",
          "name": "stderr",
          "text": [
            "/usr/local/lib/python3.7/dist-packages/ipykernel_launcher.py:1: SettingWithCopyWarning:\n",
            "\n",
            "\n",
            "A value is trying to be set on a copy of a slice from a DataFrame.\n",
            "Try using .loc[row_indexer,col_indexer] = value instead\n",
            "\n",
            "See the caveats in the documentation: https://pandas.pydata.org/pandas-docs/stable/user_guide/indexing.html#returning-a-view-versus-a-copy\n",
            "\n",
            "/usr/local/lib/python3.7/dist-packages/ipykernel_launcher.py:2: SettingWithCopyWarning:\n",
            "\n",
            "\n",
            "A value is trying to be set on a copy of a slice from a DataFrame.\n",
            "Try using .loc[row_indexer,col_indexer] = value instead\n",
            "\n",
            "See the caveats in the documentation: https://pandas.pydata.org/pandas-docs/stable/user_guide/indexing.html#returning-a-view-versus-a-copy\n",
            "\n"
          ]
        }
      ]
    },
    {
      "cell_type": "code",
      "source": [
        "India_df"
      ],
      "metadata": {
        "colab": {
          "base_uri": "https://localhost:8080/",
          "height": 424
        },
        "id": "ox0W3-_3qRvr",
        "outputId": "5ef0c04e-66c3-4ba4-dd38-2bcd2e7c20fe"
      },
      "execution_count": 86,
      "outputs": [
        {
          "output_type": "execute_result",
          "data": {
            "text/plain": [
              "       Region Country State    City  Month  Day  Year  AvgTemperature\n",
              "312523   Asia   India  None  Mumbai      1    1  1995            71.8\n",
              "312524   Asia   India  None  Mumbai      1    2  1995            72.0\n",
              "312525   Asia   India  None  Mumbai      1    3  1995            70.3\n",
              "312526   Asia   India  None  Mumbai      1    4  1995            69.7\n",
              "312527   Asia   India  None  Mumbai      1    5  1995            71.3\n",
              "...       ...     ...   ...     ...    ...  ...   ...             ...\n",
              "349581   Asia   India  None   Delhi      5    8  2020            89.9\n",
              "349582   Asia   India  None   Delhi      5    9  2020            92.3\n",
              "349583   Asia   India  None   Delhi      5   10  2020            81.9\n",
              "349584   Asia   India  None   Delhi      5   11  2020            84.7\n",
              "349585   Asia   India  None   Delhi      5   12  2020            88.1\n",
              "\n",
              "[36903 rows x 8 columns]"
            ],
            "text/html": [
              "\n",
              "  <div id=\"df-e54ebc31-e4ce-49ee-bb32-1fb16221b192\">\n",
              "    <div class=\"colab-df-container\">\n",
              "      <div>\n",
              "<style scoped>\n",
              "    .dataframe tbody tr th:only-of-type {\n",
              "        vertical-align: middle;\n",
              "    }\n",
              "\n",
              "    .dataframe tbody tr th {\n",
              "        vertical-align: top;\n",
              "    }\n",
              "\n",
              "    .dataframe thead th {\n",
              "        text-align: right;\n",
              "    }\n",
              "</style>\n",
              "<table border=\"1\" class=\"dataframe\">\n",
              "  <thead>\n",
              "    <tr style=\"text-align: right;\">\n",
              "      <th></th>\n",
              "      <th>Region</th>\n",
              "      <th>Country</th>\n",
              "      <th>State</th>\n",
              "      <th>City</th>\n",
              "      <th>Month</th>\n",
              "      <th>Day</th>\n",
              "      <th>Year</th>\n",
              "      <th>AvgTemperature</th>\n",
              "    </tr>\n",
              "  </thead>\n",
              "  <tbody>\n",
              "    <tr>\n",
              "      <th>312523</th>\n",
              "      <td>Asia</td>\n",
              "      <td>India</td>\n",
              "      <td>None</td>\n",
              "      <td>Mumbai</td>\n",
              "      <td>1</td>\n",
              "      <td>1</td>\n",
              "      <td>1995</td>\n",
              "      <td>71.8</td>\n",
              "    </tr>\n",
              "    <tr>\n",
              "      <th>312524</th>\n",
              "      <td>Asia</td>\n",
              "      <td>India</td>\n",
              "      <td>None</td>\n",
              "      <td>Mumbai</td>\n",
              "      <td>1</td>\n",
              "      <td>2</td>\n",
              "      <td>1995</td>\n",
              "      <td>72.0</td>\n",
              "    </tr>\n",
              "    <tr>\n",
              "      <th>312525</th>\n",
              "      <td>Asia</td>\n",
              "      <td>India</td>\n",
              "      <td>None</td>\n",
              "      <td>Mumbai</td>\n",
              "      <td>1</td>\n",
              "      <td>3</td>\n",
              "      <td>1995</td>\n",
              "      <td>70.3</td>\n",
              "    </tr>\n",
              "    <tr>\n",
              "      <th>312526</th>\n",
              "      <td>Asia</td>\n",
              "      <td>India</td>\n",
              "      <td>None</td>\n",
              "      <td>Mumbai</td>\n",
              "      <td>1</td>\n",
              "      <td>4</td>\n",
              "      <td>1995</td>\n",
              "      <td>69.7</td>\n",
              "    </tr>\n",
              "    <tr>\n",
              "      <th>312527</th>\n",
              "      <td>Asia</td>\n",
              "      <td>India</td>\n",
              "      <td>None</td>\n",
              "      <td>Mumbai</td>\n",
              "      <td>1</td>\n",
              "      <td>5</td>\n",
              "      <td>1995</td>\n",
              "      <td>71.3</td>\n",
              "    </tr>\n",
              "    <tr>\n",
              "      <th>...</th>\n",
              "      <td>...</td>\n",
              "      <td>...</td>\n",
              "      <td>...</td>\n",
              "      <td>...</td>\n",
              "      <td>...</td>\n",
              "      <td>...</td>\n",
              "      <td>...</td>\n",
              "      <td>...</td>\n",
              "    </tr>\n",
              "    <tr>\n",
              "      <th>349581</th>\n",
              "      <td>Asia</td>\n",
              "      <td>India</td>\n",
              "      <td>None</td>\n",
              "      <td>Delhi</td>\n",
              "      <td>5</td>\n",
              "      <td>8</td>\n",
              "      <td>2020</td>\n",
              "      <td>89.9</td>\n",
              "    </tr>\n",
              "    <tr>\n",
              "      <th>349582</th>\n",
              "      <td>Asia</td>\n",
              "      <td>India</td>\n",
              "      <td>None</td>\n",
              "      <td>Delhi</td>\n",
              "      <td>5</td>\n",
              "      <td>9</td>\n",
              "      <td>2020</td>\n",
              "      <td>92.3</td>\n",
              "    </tr>\n",
              "    <tr>\n",
              "      <th>349583</th>\n",
              "      <td>Asia</td>\n",
              "      <td>India</td>\n",
              "      <td>None</td>\n",
              "      <td>Delhi</td>\n",
              "      <td>5</td>\n",
              "      <td>10</td>\n",
              "      <td>2020</td>\n",
              "      <td>81.9</td>\n",
              "    </tr>\n",
              "    <tr>\n",
              "      <th>349584</th>\n",
              "      <td>Asia</td>\n",
              "      <td>India</td>\n",
              "      <td>None</td>\n",
              "      <td>Delhi</td>\n",
              "      <td>5</td>\n",
              "      <td>11</td>\n",
              "      <td>2020</td>\n",
              "      <td>84.7</td>\n",
              "    </tr>\n",
              "    <tr>\n",
              "      <th>349585</th>\n",
              "      <td>Asia</td>\n",
              "      <td>India</td>\n",
              "      <td>None</td>\n",
              "      <td>Delhi</td>\n",
              "      <td>5</td>\n",
              "      <td>12</td>\n",
              "      <td>2020</td>\n",
              "      <td>88.1</td>\n",
              "    </tr>\n",
              "  </tbody>\n",
              "</table>\n",
              "<p>36903 rows × 8 columns</p>\n",
              "</div>\n",
              "      <button class=\"colab-df-convert\" onclick=\"convertToInteractive('df-e54ebc31-e4ce-49ee-bb32-1fb16221b192')\"\n",
              "              title=\"Convert this dataframe to an interactive table.\"\n",
              "              style=\"display:none;\">\n",
              "        \n",
              "  <svg xmlns=\"http://www.w3.org/2000/svg\" height=\"24px\"viewBox=\"0 0 24 24\"\n",
              "       width=\"24px\">\n",
              "    <path d=\"M0 0h24v24H0V0z\" fill=\"none\"/>\n",
              "    <path d=\"M18.56 5.44l.94 2.06.94-2.06 2.06-.94-2.06-.94-.94-2.06-.94 2.06-2.06.94zm-11 1L8.5 8.5l.94-2.06 2.06-.94-2.06-.94L8.5 2.5l-.94 2.06-2.06.94zm10 10l.94 2.06.94-2.06 2.06-.94-2.06-.94-.94-2.06-.94 2.06-2.06.94z\"/><path d=\"M17.41 7.96l-1.37-1.37c-.4-.4-.92-.59-1.43-.59-.52 0-1.04.2-1.43.59L10.3 9.45l-7.72 7.72c-.78.78-.78 2.05 0 2.83L4 21.41c.39.39.9.59 1.41.59.51 0 1.02-.2 1.41-.59l7.78-7.78 2.81-2.81c.8-.78.8-2.07 0-2.86zM5.41 20L4 18.59l7.72-7.72 1.47 1.35L5.41 20z\"/>\n",
              "  </svg>\n",
              "      </button>\n",
              "      \n",
              "  <style>\n",
              "    .colab-df-container {\n",
              "      display:flex;\n",
              "      flex-wrap:wrap;\n",
              "      gap: 12px;\n",
              "    }\n",
              "\n",
              "    .colab-df-convert {\n",
              "      background-color: #E8F0FE;\n",
              "      border: none;\n",
              "      border-radius: 50%;\n",
              "      cursor: pointer;\n",
              "      display: none;\n",
              "      fill: #1967D2;\n",
              "      height: 32px;\n",
              "      padding: 0 0 0 0;\n",
              "      width: 32px;\n",
              "    }\n",
              "\n",
              "    .colab-df-convert:hover {\n",
              "      background-color: #E2EBFA;\n",
              "      box-shadow: 0px 1px 2px rgba(60, 64, 67, 0.3), 0px 1px 3px 1px rgba(60, 64, 67, 0.15);\n",
              "      fill: #174EA6;\n",
              "    }\n",
              "\n",
              "    [theme=dark] .colab-df-convert {\n",
              "      background-color: #3B4455;\n",
              "      fill: #D2E3FC;\n",
              "    }\n",
              "\n",
              "    [theme=dark] .colab-df-convert:hover {\n",
              "      background-color: #434B5C;\n",
              "      box-shadow: 0px 1px 3px 1px rgba(0, 0, 0, 0.15);\n",
              "      filter: drop-shadow(0px 1px 2px rgba(0, 0, 0, 0.3));\n",
              "      fill: #FFFFFF;\n",
              "    }\n",
              "  </style>\n",
              "\n",
              "      <script>\n",
              "        const buttonEl =\n",
              "          document.querySelector('#df-e54ebc31-e4ce-49ee-bb32-1fb16221b192 button.colab-df-convert');\n",
              "        buttonEl.style.display =\n",
              "          google.colab.kernel.accessAllowed ? 'block' : 'none';\n",
              "\n",
              "        async function convertToInteractive(key) {\n",
              "          const element = document.querySelector('#df-e54ebc31-e4ce-49ee-bb32-1fb16221b192');\n",
              "          const dataTable =\n",
              "            await google.colab.kernel.invokeFunction('convertToInteractive',\n",
              "                                                     [key], {});\n",
              "          if (!dataTable) return;\n",
              "\n",
              "          const docLinkHtml = 'Like what you see? Visit the ' +\n",
              "            '<a target=\"_blank\" href=https://colab.research.google.com/notebooks/data_table.ipynb>data table notebook</a>'\n",
              "            + ' to learn more about interactive tables.';\n",
              "          element.innerHTML = '';\n",
              "          dataTable['output_type'] = 'display_data';\n",
              "          await google.colab.output.renderOutput(dataTable, element);\n",
              "          const docLink = document.createElement('div');\n",
              "          docLink.innerHTML = docLinkHtml;\n",
              "          element.appendChild(docLink);\n",
              "        }\n",
              "      </script>\n",
              "    </div>\n",
              "  </div>\n",
              "  "
            ]
          },
          "metadata": {},
          "execution_count": 86
        }
      ]
    },
    {
      "cell_type": "code",
      "source": [
        "India_df.groupby('City')['Country'].count()"
      ],
      "metadata": {
        "colab": {
          "base_uri": "https://localhost:8080/"
        },
        "id": "FC9DlrlQqTlD",
        "outputId": "b21bfdd7-416c-4bd7-cd37-3e4ac7d0872f"
      },
      "execution_count": 87,
      "outputs": [
        {
          "output_type": "execute_result",
          "data": {
            "text/plain": [
              "City\n",
              "Chennai    9237\n",
              "Delhi      9205\n",
              "Kolkata    9225\n",
              "Mumbai     9236\n",
              "Name: Country, dtype: int64"
            ]
          },
          "metadata": {},
          "execution_count": 87
        }
      ]
    },
    {
      "cell_type": "code",
      "source": [
        "In_df1 = India_df.groupby(['City', 'Year']).mean()"
      ],
      "metadata": {
        "id": "LcrFLog0xhcs"
      },
      "execution_count": 88,
      "outputs": []
    },
    {
      "cell_type": "code",
      "source": [
        "In_df1"
      ],
      "metadata": {
        "colab": {
          "base_uri": "https://localhost:8080/",
          "height": 455
        },
        "id": "iIv5hYcdxizy",
        "outputId": "c02a2e20-403c-4fad-af91-d6d96a5a3e17"
      },
      "execution_count": 97,
      "outputs": [
        {
          "output_type": "execute_result",
          "data": {
            "text/plain": [
              "                 Month        Day  AvgTemperature\n",
              "City    Year                                     \n",
              "Chennai 1995  6.537190  15.666667       82.625895\n",
              "        1996  6.504110  15.728767       82.612877\n",
              "        1997  6.526027  15.720548       83.383836\n",
              "        1998  6.461111  15.588889       84.006944\n",
              "        1999  6.541209  15.736264       83.254670\n",
              "...                ...        ...             ...\n",
              "Mumbai  2016  6.510989  15.785714       82.832967\n",
              "        2017  6.526027  15.720548       83.404384\n",
              "        2018  6.488950  15.723757       83.754696\n",
              "        2019  6.565460  15.657382       82.854318\n",
              "        2020  2.738806  14.798507       82.382090\n",
              "\n",
              "[104 rows x 3 columns]"
            ],
            "text/html": [
              "\n",
              "  <div id=\"df-09fea89d-bd2e-4484-995e-d3b9da9e7007\">\n",
              "    <div class=\"colab-df-container\">\n",
              "      <div>\n",
              "<style scoped>\n",
              "    .dataframe tbody tr th:only-of-type {\n",
              "        vertical-align: middle;\n",
              "    }\n",
              "\n",
              "    .dataframe tbody tr th {\n",
              "        vertical-align: top;\n",
              "    }\n",
              "\n",
              "    .dataframe thead th {\n",
              "        text-align: right;\n",
              "    }\n",
              "</style>\n",
              "<table border=\"1\" class=\"dataframe\">\n",
              "  <thead>\n",
              "    <tr style=\"text-align: right;\">\n",
              "      <th></th>\n",
              "      <th></th>\n",
              "      <th>Month</th>\n",
              "      <th>Day</th>\n",
              "      <th>AvgTemperature</th>\n",
              "    </tr>\n",
              "    <tr>\n",
              "      <th>City</th>\n",
              "      <th>Year</th>\n",
              "      <th></th>\n",
              "      <th></th>\n",
              "      <th></th>\n",
              "    </tr>\n",
              "  </thead>\n",
              "  <tbody>\n",
              "    <tr>\n",
              "      <th rowspan=\"5\" valign=\"top\">Chennai</th>\n",
              "      <th>1995</th>\n",
              "      <td>6.537190</td>\n",
              "      <td>15.666667</td>\n",
              "      <td>82.625895</td>\n",
              "    </tr>\n",
              "    <tr>\n",
              "      <th>1996</th>\n",
              "      <td>6.504110</td>\n",
              "      <td>15.728767</td>\n",
              "      <td>82.612877</td>\n",
              "    </tr>\n",
              "    <tr>\n",
              "      <th>1997</th>\n",
              "      <td>6.526027</td>\n",
              "      <td>15.720548</td>\n",
              "      <td>83.383836</td>\n",
              "    </tr>\n",
              "    <tr>\n",
              "      <th>1998</th>\n",
              "      <td>6.461111</td>\n",
              "      <td>15.588889</td>\n",
              "      <td>84.006944</td>\n",
              "    </tr>\n",
              "    <tr>\n",
              "      <th>1999</th>\n",
              "      <td>6.541209</td>\n",
              "      <td>15.736264</td>\n",
              "      <td>83.254670</td>\n",
              "    </tr>\n",
              "    <tr>\n",
              "      <th>...</th>\n",
              "      <th>...</th>\n",
              "      <td>...</td>\n",
              "      <td>...</td>\n",
              "      <td>...</td>\n",
              "    </tr>\n",
              "    <tr>\n",
              "      <th rowspan=\"5\" valign=\"top\">Mumbai</th>\n",
              "      <th>2016</th>\n",
              "      <td>6.510989</td>\n",
              "      <td>15.785714</td>\n",
              "      <td>82.832967</td>\n",
              "    </tr>\n",
              "    <tr>\n",
              "      <th>2017</th>\n",
              "      <td>6.526027</td>\n",
              "      <td>15.720548</td>\n",
              "      <td>83.404384</td>\n",
              "    </tr>\n",
              "    <tr>\n",
              "      <th>2018</th>\n",
              "      <td>6.488950</td>\n",
              "      <td>15.723757</td>\n",
              "      <td>83.754696</td>\n",
              "    </tr>\n",
              "    <tr>\n",
              "      <th>2019</th>\n",
              "      <td>6.565460</td>\n",
              "      <td>15.657382</td>\n",
              "      <td>82.854318</td>\n",
              "    </tr>\n",
              "    <tr>\n",
              "      <th>2020</th>\n",
              "      <td>2.738806</td>\n",
              "      <td>14.798507</td>\n",
              "      <td>82.382090</td>\n",
              "    </tr>\n",
              "  </tbody>\n",
              "</table>\n",
              "<p>104 rows × 3 columns</p>\n",
              "</div>\n",
              "      <button class=\"colab-df-convert\" onclick=\"convertToInteractive('df-09fea89d-bd2e-4484-995e-d3b9da9e7007')\"\n",
              "              title=\"Convert this dataframe to an interactive table.\"\n",
              "              style=\"display:none;\">\n",
              "        \n",
              "  <svg xmlns=\"http://www.w3.org/2000/svg\" height=\"24px\"viewBox=\"0 0 24 24\"\n",
              "       width=\"24px\">\n",
              "    <path d=\"M0 0h24v24H0V0z\" fill=\"none\"/>\n",
              "    <path d=\"M18.56 5.44l.94 2.06.94-2.06 2.06-.94-2.06-.94-.94-2.06-.94 2.06-2.06.94zm-11 1L8.5 8.5l.94-2.06 2.06-.94-2.06-.94L8.5 2.5l-.94 2.06-2.06.94zm10 10l.94 2.06.94-2.06 2.06-.94-2.06-.94-.94-2.06-.94 2.06-2.06.94z\"/><path d=\"M17.41 7.96l-1.37-1.37c-.4-.4-.92-.59-1.43-.59-.52 0-1.04.2-1.43.59L10.3 9.45l-7.72 7.72c-.78.78-.78 2.05 0 2.83L4 21.41c.39.39.9.59 1.41.59.51 0 1.02-.2 1.41-.59l7.78-7.78 2.81-2.81c.8-.78.8-2.07 0-2.86zM5.41 20L4 18.59l7.72-7.72 1.47 1.35L5.41 20z\"/>\n",
              "  </svg>\n",
              "      </button>\n",
              "      \n",
              "  <style>\n",
              "    .colab-df-container {\n",
              "      display:flex;\n",
              "      flex-wrap:wrap;\n",
              "      gap: 12px;\n",
              "    }\n",
              "\n",
              "    .colab-df-convert {\n",
              "      background-color: #E8F0FE;\n",
              "      border: none;\n",
              "      border-radius: 50%;\n",
              "      cursor: pointer;\n",
              "      display: none;\n",
              "      fill: #1967D2;\n",
              "      height: 32px;\n",
              "      padding: 0 0 0 0;\n",
              "      width: 32px;\n",
              "    }\n",
              "\n",
              "    .colab-df-convert:hover {\n",
              "      background-color: #E2EBFA;\n",
              "      box-shadow: 0px 1px 2px rgba(60, 64, 67, 0.3), 0px 1px 3px 1px rgba(60, 64, 67, 0.15);\n",
              "      fill: #174EA6;\n",
              "    }\n",
              "\n",
              "    [theme=dark] .colab-df-convert {\n",
              "      background-color: #3B4455;\n",
              "      fill: #D2E3FC;\n",
              "    }\n",
              "\n",
              "    [theme=dark] .colab-df-convert:hover {\n",
              "      background-color: #434B5C;\n",
              "      box-shadow: 0px 1px 3px 1px rgba(0, 0, 0, 0.15);\n",
              "      filter: drop-shadow(0px 1px 2px rgba(0, 0, 0, 0.3));\n",
              "      fill: #FFFFFF;\n",
              "    }\n",
              "  </style>\n",
              "\n",
              "      <script>\n",
              "        const buttonEl =\n",
              "          document.querySelector('#df-09fea89d-bd2e-4484-995e-d3b9da9e7007 button.colab-df-convert');\n",
              "        buttonEl.style.display =\n",
              "          google.colab.kernel.accessAllowed ? 'block' : 'none';\n",
              "\n",
              "        async function convertToInteractive(key) {\n",
              "          const element = document.querySelector('#df-09fea89d-bd2e-4484-995e-d3b9da9e7007');\n",
              "          const dataTable =\n",
              "            await google.colab.kernel.invokeFunction('convertToInteractive',\n",
              "                                                     [key], {});\n",
              "          if (!dataTable) return;\n",
              "\n",
              "          const docLinkHtml = 'Like what you see? Visit the ' +\n",
              "            '<a target=\"_blank\" href=https://colab.research.google.com/notebooks/data_table.ipynb>data table notebook</a>'\n",
              "            + ' to learn more about interactive tables.';\n",
              "          element.innerHTML = '';\n",
              "          dataTable['output_type'] = 'display_data';\n",
              "          await google.colab.output.renderOutput(dataTable, element);\n",
              "          const docLink = document.createElement('div');\n",
              "          docLink.innerHTML = docLinkHtml;\n",
              "          element.appendChild(docLink);\n",
              "        }\n",
              "      </script>\n",
              "    </div>\n",
              "  </div>\n",
              "  "
            ]
          },
          "metadata": {},
          "execution_count": 97
        }
      ]
    },
    {
      "cell_type": "code",
      "source": [
        "data4 = India_df[['Country','City','Year','AvgTemperature']].groupby(['Country','City','Year']).mean().reset_index()\n",
        "\n",
        "\n",
        "px.choropleth(data_frame=data4,locations=\"Country\",locationmode='country names',animation_frame=\"Year\",color='AvgTemperature',color_continuous_scale = 'Turbo',title=\"Average temperature of Cities in India over the years 1995 to 2019\")"
      ],
      "metadata": {
        "colab": {
          "base_uri": "https://localhost:8080/",
          "height": 542
        },
        "id": "Qu8Jt8BtxjiE",
        "outputId": "d3fa723d-49ed-4dc2-96d8-1e14f56f0052"
      },
      "execution_count": 102,
      "outputs": [
        {
          "output_type": "display_data",
          "data": {
            "text/html": [
              "<html>\n",
              "<head><meta charset=\"utf-8\" /></head>\n",
              "<body>\n",
              "    <div>            <script src=\"https://cdnjs.cloudflare.com/ajax/libs/mathjax/2.7.5/MathJax.js?config=TeX-AMS-MML_SVG\"></script><script type=\"text/javascript\">if (window.MathJax) {MathJax.Hub.Config({SVG: {font: \"STIX-Web\"}});}</script>                <script type=\"text/javascript\">window.PlotlyConfig = {MathJaxConfig: 'local'};</script>\n",
              "        <script src=\"https://cdn.plot.ly/plotly-2.8.3.min.js\"></script>                <div id=\"690f363f-2659-4b3a-9ac6-6388247dde36\" class=\"plotly-graph-div\" style=\"height:525px; width:100%;\"></div>            <script type=\"text/javascript\">                                    window.PLOTLYENV=window.PLOTLYENV || {};                                    if (document.getElementById(\"690f363f-2659-4b3a-9ac6-6388247dde36\")) {                    Plotly.newPlot(                        \"690f363f-2659-4b3a-9ac6-6388247dde36\",                        [{\"coloraxis\":\"coloraxis\",\"geo\":\"geo\",\"hovertemplate\":\"Year=1995<br>Country=%{location}<br>AvgTemperature=%{z}<extra></extra>\",\"locationmode\":\"country names\",\"locations\":[\"India\",\"India\",\"India\",\"India\"],\"name\":\"\",\"z\":[82.6258953168044,76.9379120879121,79.30082872928178,81.05549450549451],\"type\":\"choropleth\"}],                        {\"template\":{\"data\":{\"bar\":[{\"error_x\":{\"color\":\"#2a3f5f\"},\"error_y\":{\"color\":\"#2a3f5f\"},\"marker\":{\"line\":{\"color\":\"#E5ECF6\",\"width\":0.5},\"pattern\":{\"fillmode\":\"overlay\",\"size\":10,\"solidity\":0.2}},\"type\":\"bar\"}],\"barpolar\":[{\"marker\":{\"line\":{\"color\":\"#E5ECF6\",\"width\":0.5},\"pattern\":{\"fillmode\":\"overlay\",\"size\":10,\"solidity\":0.2}},\"type\":\"barpolar\"}],\"carpet\":[{\"aaxis\":{\"endlinecolor\":\"#2a3f5f\",\"gridcolor\":\"white\",\"linecolor\":\"white\",\"minorgridcolor\":\"white\",\"startlinecolor\":\"#2a3f5f\"},\"baxis\":{\"endlinecolor\":\"#2a3f5f\",\"gridcolor\":\"white\",\"linecolor\":\"white\",\"minorgridcolor\":\"white\",\"startlinecolor\":\"#2a3f5f\"},\"type\":\"carpet\"}],\"choropleth\":[{\"colorbar\":{\"outlinewidth\":0,\"ticks\":\"\"},\"type\":\"choropleth\"}],\"contour\":[{\"colorbar\":{\"outlinewidth\":0,\"ticks\":\"\"},\"colorscale\":[[0.0,\"#0d0887\"],[0.1111111111111111,\"#46039f\"],[0.2222222222222222,\"#7201a8\"],[0.3333333333333333,\"#9c179e\"],[0.4444444444444444,\"#bd3786\"],[0.5555555555555556,\"#d8576b\"],[0.6666666666666666,\"#ed7953\"],[0.7777777777777778,\"#fb9f3a\"],[0.8888888888888888,\"#fdca26\"],[1.0,\"#f0f921\"]],\"type\":\"contour\"}],\"contourcarpet\":[{\"colorbar\":{\"outlinewidth\":0,\"ticks\":\"\"},\"type\":\"contourcarpet\"}],\"heatmap\":[{\"colorbar\":{\"outlinewidth\":0,\"ticks\":\"\"},\"colorscale\":[[0.0,\"#0d0887\"],[0.1111111111111111,\"#46039f\"],[0.2222222222222222,\"#7201a8\"],[0.3333333333333333,\"#9c179e\"],[0.4444444444444444,\"#bd3786\"],[0.5555555555555556,\"#d8576b\"],[0.6666666666666666,\"#ed7953\"],[0.7777777777777778,\"#fb9f3a\"],[0.8888888888888888,\"#fdca26\"],[1.0,\"#f0f921\"]],\"type\":\"heatmap\"}],\"heatmapgl\":[{\"colorbar\":{\"outlinewidth\":0,\"ticks\":\"\"},\"colorscale\":[[0.0,\"#0d0887\"],[0.1111111111111111,\"#46039f\"],[0.2222222222222222,\"#7201a8\"],[0.3333333333333333,\"#9c179e\"],[0.4444444444444444,\"#bd3786\"],[0.5555555555555556,\"#d8576b\"],[0.6666666666666666,\"#ed7953\"],[0.7777777777777778,\"#fb9f3a\"],[0.8888888888888888,\"#fdca26\"],[1.0,\"#f0f921\"]],\"type\":\"heatmapgl\"}],\"histogram\":[{\"marker\":{\"pattern\":{\"fillmode\":\"overlay\",\"size\":10,\"solidity\":0.2}},\"type\":\"histogram\"}],\"histogram2d\":[{\"colorbar\":{\"outlinewidth\":0,\"ticks\":\"\"},\"colorscale\":[[0.0,\"#0d0887\"],[0.1111111111111111,\"#46039f\"],[0.2222222222222222,\"#7201a8\"],[0.3333333333333333,\"#9c179e\"],[0.4444444444444444,\"#bd3786\"],[0.5555555555555556,\"#d8576b\"],[0.6666666666666666,\"#ed7953\"],[0.7777777777777778,\"#fb9f3a\"],[0.8888888888888888,\"#fdca26\"],[1.0,\"#f0f921\"]],\"type\":\"histogram2d\"}],\"histogram2dcontour\":[{\"colorbar\":{\"outlinewidth\":0,\"ticks\":\"\"},\"colorscale\":[[0.0,\"#0d0887\"],[0.1111111111111111,\"#46039f\"],[0.2222222222222222,\"#7201a8\"],[0.3333333333333333,\"#9c179e\"],[0.4444444444444444,\"#bd3786\"],[0.5555555555555556,\"#d8576b\"],[0.6666666666666666,\"#ed7953\"],[0.7777777777777778,\"#fb9f3a\"],[0.8888888888888888,\"#fdca26\"],[1.0,\"#f0f921\"]],\"type\":\"histogram2dcontour\"}],\"mesh3d\":[{\"colorbar\":{\"outlinewidth\":0,\"ticks\":\"\"},\"type\":\"mesh3d\"}],\"parcoords\":[{\"line\":{\"colorbar\":{\"outlinewidth\":0,\"ticks\":\"\"}},\"type\":\"parcoords\"}],\"pie\":[{\"automargin\":true,\"type\":\"pie\"}],\"scatter\":[{\"marker\":{\"colorbar\":{\"outlinewidth\":0,\"ticks\":\"\"}},\"type\":\"scatter\"}],\"scatter3d\":[{\"line\":{\"colorbar\":{\"outlinewidth\":0,\"ticks\":\"\"}},\"marker\":{\"colorbar\":{\"outlinewidth\":0,\"ticks\":\"\"}},\"type\":\"scatter3d\"}],\"scattercarpet\":[{\"marker\":{\"colorbar\":{\"outlinewidth\":0,\"ticks\":\"\"}},\"type\":\"scattercarpet\"}],\"scattergeo\":[{\"marker\":{\"colorbar\":{\"outlinewidth\":0,\"ticks\":\"\"}},\"type\":\"scattergeo\"}],\"scattergl\":[{\"marker\":{\"colorbar\":{\"outlinewidth\":0,\"ticks\":\"\"}},\"type\":\"scattergl\"}],\"scattermapbox\":[{\"marker\":{\"colorbar\":{\"outlinewidth\":0,\"ticks\":\"\"}},\"type\":\"scattermapbox\"}],\"scatterpolar\":[{\"marker\":{\"colorbar\":{\"outlinewidth\":0,\"ticks\":\"\"}},\"type\":\"scatterpolar\"}],\"scatterpolargl\":[{\"marker\":{\"colorbar\":{\"outlinewidth\":0,\"ticks\":\"\"}},\"type\":\"scatterpolargl\"}],\"scatterternary\":[{\"marker\":{\"colorbar\":{\"outlinewidth\":0,\"ticks\":\"\"}},\"type\":\"scatterternary\"}],\"surface\":[{\"colorbar\":{\"outlinewidth\":0,\"ticks\":\"\"},\"colorscale\":[[0.0,\"#0d0887\"],[0.1111111111111111,\"#46039f\"],[0.2222222222222222,\"#7201a8\"],[0.3333333333333333,\"#9c179e\"],[0.4444444444444444,\"#bd3786\"],[0.5555555555555556,\"#d8576b\"],[0.6666666666666666,\"#ed7953\"],[0.7777777777777778,\"#fb9f3a\"],[0.8888888888888888,\"#fdca26\"],[1.0,\"#f0f921\"]],\"type\":\"surface\"}],\"table\":[{\"cells\":{\"fill\":{\"color\":\"#EBF0F8\"},\"line\":{\"color\":\"white\"}},\"header\":{\"fill\":{\"color\":\"#C8D4E3\"},\"line\":{\"color\":\"white\"}},\"type\":\"table\"}]},\"layout\":{\"annotationdefaults\":{\"arrowcolor\":\"#2a3f5f\",\"arrowhead\":0,\"arrowwidth\":1},\"autotypenumbers\":\"strict\",\"coloraxis\":{\"colorbar\":{\"outlinewidth\":0,\"ticks\":\"\"}},\"colorscale\":{\"diverging\":[[0,\"#8e0152\"],[0.1,\"#c51b7d\"],[0.2,\"#de77ae\"],[0.3,\"#f1b6da\"],[0.4,\"#fde0ef\"],[0.5,\"#f7f7f7\"],[0.6,\"#e6f5d0\"],[0.7,\"#b8e186\"],[0.8,\"#7fbc41\"],[0.9,\"#4d9221\"],[1,\"#276419\"]],\"sequential\":[[0.0,\"#0d0887\"],[0.1111111111111111,\"#46039f\"],[0.2222222222222222,\"#7201a8\"],[0.3333333333333333,\"#9c179e\"],[0.4444444444444444,\"#bd3786\"],[0.5555555555555556,\"#d8576b\"],[0.6666666666666666,\"#ed7953\"],[0.7777777777777778,\"#fb9f3a\"],[0.8888888888888888,\"#fdca26\"],[1.0,\"#f0f921\"]],\"sequentialminus\":[[0.0,\"#0d0887\"],[0.1111111111111111,\"#46039f\"],[0.2222222222222222,\"#7201a8\"],[0.3333333333333333,\"#9c179e\"],[0.4444444444444444,\"#bd3786\"],[0.5555555555555556,\"#d8576b\"],[0.6666666666666666,\"#ed7953\"],[0.7777777777777778,\"#fb9f3a\"],[0.8888888888888888,\"#fdca26\"],[1.0,\"#f0f921\"]]},\"colorway\":[\"#636efa\",\"#EF553B\",\"#00cc96\",\"#ab63fa\",\"#FFA15A\",\"#19d3f3\",\"#FF6692\",\"#B6E880\",\"#FF97FF\",\"#FECB52\"],\"font\":{\"color\":\"#2a3f5f\"},\"geo\":{\"bgcolor\":\"white\",\"lakecolor\":\"white\",\"landcolor\":\"#E5ECF6\",\"showlakes\":true,\"showland\":true,\"subunitcolor\":\"white\"},\"hoverlabel\":{\"align\":\"left\"},\"hovermode\":\"closest\",\"mapbox\":{\"style\":\"light\"},\"paper_bgcolor\":\"white\",\"plot_bgcolor\":\"#E5ECF6\",\"polar\":{\"angularaxis\":{\"gridcolor\":\"white\",\"linecolor\":\"white\",\"ticks\":\"\"},\"bgcolor\":\"#E5ECF6\",\"radialaxis\":{\"gridcolor\":\"white\",\"linecolor\":\"white\",\"ticks\":\"\"}},\"scene\":{\"xaxis\":{\"backgroundcolor\":\"#E5ECF6\",\"gridcolor\":\"white\",\"gridwidth\":2,\"linecolor\":\"white\",\"showbackground\":true,\"ticks\":\"\",\"zerolinecolor\":\"white\"},\"yaxis\":{\"backgroundcolor\":\"#E5ECF6\",\"gridcolor\":\"white\",\"gridwidth\":2,\"linecolor\":\"white\",\"showbackground\":true,\"ticks\":\"\",\"zerolinecolor\":\"white\"},\"zaxis\":{\"backgroundcolor\":\"#E5ECF6\",\"gridcolor\":\"white\",\"gridwidth\":2,\"linecolor\":\"white\",\"showbackground\":true,\"ticks\":\"\",\"zerolinecolor\":\"white\"}},\"shapedefaults\":{\"line\":{\"color\":\"#2a3f5f\"}},\"ternary\":{\"aaxis\":{\"gridcolor\":\"white\",\"linecolor\":\"white\",\"ticks\":\"\"},\"baxis\":{\"gridcolor\":\"white\",\"linecolor\":\"white\",\"ticks\":\"\"},\"bgcolor\":\"#E5ECF6\",\"caxis\":{\"gridcolor\":\"white\",\"linecolor\":\"white\",\"ticks\":\"\"}},\"title\":{\"x\":0.05},\"xaxis\":{\"automargin\":true,\"gridcolor\":\"white\",\"linecolor\":\"white\",\"ticks\":\"\",\"title\":{\"standoff\":15},\"zerolinecolor\":\"white\",\"zerolinewidth\":2},\"yaxis\":{\"automargin\":true,\"gridcolor\":\"white\",\"linecolor\":\"white\",\"ticks\":\"\",\"title\":{\"standoff\":15},\"zerolinecolor\":\"white\",\"zerolinewidth\":2}}},\"geo\":{\"domain\":{\"x\":[0.0,1.0],\"y\":[0.0,1.0]},\"center\":{}},\"coloraxis\":{\"colorbar\":{\"title\":{\"text\":\"AvgTemperature\"}},\"colorscale\":[[0.0,\"#30123b\"],[0.07142857142857142,\"#4145ab\"],[0.14285714285714285,\"#4675ed\"],[0.21428571428571427,\"#39a2fc\"],[0.2857142857142857,\"#1bcfd4\"],[0.35714285714285715,\"#24eca6\"],[0.42857142857142855,\"#61fc6c\"],[0.5,\"#a4fc3b\"],[0.5714285714285714,\"#d1e834\"],[0.6428571428571429,\"#f3c63a\"],[0.7142857142857143,\"#fe9b2d\"],[0.7857142857142857,\"#f36315\"],[0.8571428571428571,\"#d93806\"],[0.9285714285714286,\"#b11901\"],[1.0,\"#7a0402\"]]},\"legend\":{\"tracegroupgap\":0},\"title\":{\"text\":\"Average temperature of Cities in India over the years 1995 to 2019\"},\"updatemenus\":[{\"buttons\":[{\"args\":[null,{\"frame\":{\"duration\":500,\"redraw\":true},\"mode\":\"immediate\",\"fromcurrent\":true,\"transition\":{\"duration\":500,\"easing\":\"linear\"}}],\"label\":\"&#9654;\",\"method\":\"animate\"},{\"args\":[[null],{\"frame\":{\"duration\":0,\"redraw\":true},\"mode\":\"immediate\",\"fromcurrent\":true,\"transition\":{\"duration\":0,\"easing\":\"linear\"}}],\"label\":\"&#9724;\",\"method\":\"animate\"}],\"direction\":\"left\",\"pad\":{\"r\":10,\"t\":70},\"showactive\":false,\"type\":\"buttons\",\"x\":0.1,\"xanchor\":\"right\",\"y\":0,\"yanchor\":\"top\"}],\"sliders\":[{\"active\":0,\"currentvalue\":{\"prefix\":\"Year=\"},\"len\":0.9,\"pad\":{\"b\":10,\"t\":60},\"steps\":[{\"args\":[[\"1995\"],{\"frame\":{\"duration\":0,\"redraw\":true},\"mode\":\"immediate\",\"fromcurrent\":true,\"transition\":{\"duration\":0,\"easing\":\"linear\"}}],\"label\":\"1995\",\"method\":\"animate\"},{\"args\":[[\"1996\"],{\"frame\":{\"duration\":0,\"redraw\":true},\"mode\":\"immediate\",\"fromcurrent\":true,\"transition\":{\"duration\":0,\"easing\":\"linear\"}}],\"label\":\"1996\",\"method\":\"animate\"},{\"args\":[[\"1997\"],{\"frame\":{\"duration\":0,\"redraw\":true},\"mode\":\"immediate\",\"fromcurrent\":true,\"transition\":{\"duration\":0,\"easing\":\"linear\"}}],\"label\":\"1997\",\"method\":\"animate\"},{\"args\":[[\"1998\"],{\"frame\":{\"duration\":0,\"redraw\":true},\"mode\":\"immediate\",\"fromcurrent\":true,\"transition\":{\"duration\":0,\"easing\":\"linear\"}}],\"label\":\"1998\",\"method\":\"animate\"},{\"args\":[[\"1999\"],{\"frame\":{\"duration\":0,\"redraw\":true},\"mode\":\"immediate\",\"fromcurrent\":true,\"transition\":{\"duration\":0,\"easing\":\"linear\"}}],\"label\":\"1999\",\"method\":\"animate\"},{\"args\":[[\"2000\"],{\"frame\":{\"duration\":0,\"redraw\":true},\"mode\":\"immediate\",\"fromcurrent\":true,\"transition\":{\"duration\":0,\"easing\":\"linear\"}}],\"label\":\"2000\",\"method\":\"animate\"},{\"args\":[[\"2001\"],{\"frame\":{\"duration\":0,\"redraw\":true},\"mode\":\"immediate\",\"fromcurrent\":true,\"transition\":{\"duration\":0,\"easing\":\"linear\"}}],\"label\":\"2001\",\"method\":\"animate\"},{\"args\":[[\"2002\"],{\"frame\":{\"duration\":0,\"redraw\":true},\"mode\":\"immediate\",\"fromcurrent\":true,\"transition\":{\"duration\":0,\"easing\":\"linear\"}}],\"label\":\"2002\",\"method\":\"animate\"},{\"args\":[[\"2003\"],{\"frame\":{\"duration\":0,\"redraw\":true},\"mode\":\"immediate\",\"fromcurrent\":true,\"transition\":{\"duration\":0,\"easing\":\"linear\"}}],\"label\":\"2003\",\"method\":\"animate\"},{\"args\":[[\"2004\"],{\"frame\":{\"duration\":0,\"redraw\":true},\"mode\":\"immediate\",\"fromcurrent\":true,\"transition\":{\"duration\":0,\"easing\":\"linear\"}}],\"label\":\"2004\",\"method\":\"animate\"},{\"args\":[[\"2005\"],{\"frame\":{\"duration\":0,\"redraw\":true},\"mode\":\"immediate\",\"fromcurrent\":true,\"transition\":{\"duration\":0,\"easing\":\"linear\"}}],\"label\":\"2005\",\"method\":\"animate\"},{\"args\":[[\"2006\"],{\"frame\":{\"duration\":0,\"redraw\":true},\"mode\":\"immediate\",\"fromcurrent\":true,\"transition\":{\"duration\":0,\"easing\":\"linear\"}}],\"label\":\"2006\",\"method\":\"animate\"},{\"args\":[[\"2007\"],{\"frame\":{\"duration\":0,\"redraw\":true},\"mode\":\"immediate\",\"fromcurrent\":true,\"transition\":{\"duration\":0,\"easing\":\"linear\"}}],\"label\":\"2007\",\"method\":\"animate\"},{\"args\":[[\"2008\"],{\"frame\":{\"duration\":0,\"redraw\":true},\"mode\":\"immediate\",\"fromcurrent\":true,\"transition\":{\"duration\":0,\"easing\":\"linear\"}}],\"label\":\"2008\",\"method\":\"animate\"},{\"args\":[[\"2009\"],{\"frame\":{\"duration\":0,\"redraw\":true},\"mode\":\"immediate\",\"fromcurrent\":true,\"transition\":{\"duration\":0,\"easing\":\"linear\"}}],\"label\":\"2009\",\"method\":\"animate\"},{\"args\":[[\"2010\"],{\"frame\":{\"duration\":0,\"redraw\":true},\"mode\":\"immediate\",\"fromcurrent\":true,\"transition\":{\"duration\":0,\"easing\":\"linear\"}}],\"label\":\"2010\",\"method\":\"animate\"},{\"args\":[[\"2011\"],{\"frame\":{\"duration\":0,\"redraw\":true},\"mode\":\"immediate\",\"fromcurrent\":true,\"transition\":{\"duration\":0,\"easing\":\"linear\"}}],\"label\":\"2011\",\"method\":\"animate\"},{\"args\":[[\"2012\"],{\"frame\":{\"duration\":0,\"redraw\":true},\"mode\":\"immediate\",\"fromcurrent\":true,\"transition\":{\"duration\":0,\"easing\":\"linear\"}}],\"label\":\"2012\",\"method\":\"animate\"},{\"args\":[[\"2013\"],{\"frame\":{\"duration\":0,\"redraw\":true},\"mode\":\"immediate\",\"fromcurrent\":true,\"transition\":{\"duration\":0,\"easing\":\"linear\"}}],\"label\":\"2013\",\"method\":\"animate\"},{\"args\":[[\"2014\"],{\"frame\":{\"duration\":0,\"redraw\":true},\"mode\":\"immediate\",\"fromcurrent\":true,\"transition\":{\"duration\":0,\"easing\":\"linear\"}}],\"label\":\"2014\",\"method\":\"animate\"},{\"args\":[[\"2015\"],{\"frame\":{\"duration\":0,\"redraw\":true},\"mode\":\"immediate\",\"fromcurrent\":true,\"transition\":{\"duration\":0,\"easing\":\"linear\"}}],\"label\":\"2015\",\"method\":\"animate\"},{\"args\":[[\"2016\"],{\"frame\":{\"duration\":0,\"redraw\":true},\"mode\":\"immediate\",\"fromcurrent\":true,\"transition\":{\"duration\":0,\"easing\":\"linear\"}}],\"label\":\"2016\",\"method\":\"animate\"},{\"args\":[[\"2017\"],{\"frame\":{\"duration\":0,\"redraw\":true},\"mode\":\"immediate\",\"fromcurrent\":true,\"transition\":{\"duration\":0,\"easing\":\"linear\"}}],\"label\":\"2017\",\"method\":\"animate\"},{\"args\":[[\"2018\"],{\"frame\":{\"duration\":0,\"redraw\":true},\"mode\":\"immediate\",\"fromcurrent\":true,\"transition\":{\"duration\":0,\"easing\":\"linear\"}}],\"label\":\"2018\",\"method\":\"animate\"},{\"args\":[[\"2019\"],{\"frame\":{\"duration\":0,\"redraw\":true},\"mode\":\"immediate\",\"fromcurrent\":true,\"transition\":{\"duration\":0,\"easing\":\"linear\"}}],\"label\":\"2019\",\"method\":\"animate\"},{\"args\":[[\"2020\"],{\"frame\":{\"duration\":0,\"redraw\":true},\"mode\":\"immediate\",\"fromcurrent\":true,\"transition\":{\"duration\":0,\"easing\":\"linear\"}}],\"label\":\"2020\",\"method\":\"animate\"}],\"x\":0.1,\"xanchor\":\"left\",\"y\":0,\"yanchor\":\"top\"}]},                        {\"responsive\": true}                    ).then(function(){\n",
              "                            Plotly.addFrames('690f363f-2659-4b3a-9ac6-6388247dde36', [{\"data\":[{\"coloraxis\":\"coloraxis\",\"geo\":\"geo\",\"hovertemplate\":\"Year=1995<br>Country=%{location}<br>AvgTemperature=%{z}<extra></extra>\",\"locationmode\":\"country names\",\"locations\":[\"India\",\"India\",\"India\",\"India\"],\"name\":\"\",\"z\":[82.6258953168044,76.9379120879121,79.30082872928178,81.05549450549451],\"type\":\"choropleth\"}],\"name\":\"1995\"},{\"data\":[{\"coloraxis\":\"coloraxis\",\"geo\":\"geo\",\"hovertemplate\":\"Year=1996<br>Country=%{location}<br>AvgTemperature=%{z}<extra></extra>\",\"locationmode\":\"country names\",\"locations\":[\"India\",\"India\",\"India\",\"India\"],\"name\":\"\",\"z\":[82.61287671232877,75.75409836065573,79.25290858725762,81.74508196721311],\"type\":\"choropleth\"}],\"name\":\"1996\"},{\"data\":[{\"coloraxis\":\"coloraxis\",\"geo\":\"geo\",\"hovertemplate\":\"Year=1997<br>Country=%{location}<br>AvgTemperature=%{z}<extra></extra>\",\"locationmode\":\"country names\",\"locations\":[\"India\",\"India\",\"India\",\"India\"],\"name\":\"\",\"z\":[83.38383561643835,74.45726027397261,78.73013698630137,81.78575342465753],\"type\":\"choropleth\"}],\"name\":\"1997\"},{\"data\":[{\"coloraxis\":\"coloraxis\",\"geo\":\"geo\",\"hovertemplate\":\"Year=1998<br>Country=%{location}<br>AvgTemperature=%{z}<extra></extra>\",\"locationmode\":\"country names\",\"locations\":[\"India\",\"India\",\"India\",\"India\"],\"name\":\"\",\"z\":[84.00694444444444,76.40529247910864,79.75346260387812,82.01163434903047],\"type\":\"choropleth\"}],\"name\":\"1998\"},{\"data\":[{\"coloraxis\":\"coloraxis\",\"geo\":\"geo\",\"hovertemplate\":\"Year=1999<br>Country=%{location}<br>AvgTemperature=%{z}<extra></extra>\",\"locationmode\":\"country names\",\"locations\":[\"India\",\"India\",\"India\",\"India\"],\"name\":\"\",\"z\":[83.25467032967033,76.95607734806629,79.74972527472528,81.77417582417583],\"type\":\"choropleth\"}],\"name\":\"1999\"},{\"data\":[{\"coloraxis\":\"coloraxis\",\"geo\":\"geo\",\"hovertemplate\":\"Year=2000<br>Country=%{location}<br>AvgTemperature=%{z}<extra></extra>\",\"locationmode\":\"country names\",\"locations\":[\"India\",\"India\",\"India\",\"India\"],\"name\":\"\",\"z\":[82.98196721311476,76.59535519125683,79.54132231404958,81.7103825136612],\"type\":\"choropleth\"}],\"name\":\"2000\"},{\"data\":[{\"coloraxis\":\"coloraxis\",\"geo\":\"geo\",\"hovertemplate\":\"Year=2001<br>Country=%{location}<br>AvgTemperature=%{z}<extra></extra>\",\"locationmode\":\"country names\",\"locations\":[\"India\",\"India\",\"India\",\"India\"],\"name\":\"\",\"z\":[83.21232876712328,76.14807692307693,78.90219178082192,81.06301369863014],\"type\":\"choropleth\"}],\"name\":\"2001\"},{\"data\":[{\"coloraxis\":\"coloraxis\",\"geo\":\"geo\",\"hovertemplate\":\"Year=2002<br>Country=%{location}<br>AvgTemperature=%{z}<extra></extra>\",\"locationmode\":\"country names\",\"locations\":[\"India\",\"India\",\"India\",\"India\"],\"name\":\"\",\"z\":[83.25027777777777,77.38805555555555,79.98055555555555,82.08975069252078],\"type\":\"choropleth\"}],\"name\":\"2002\"},{\"data\":[{\"coloraxis\":\"coloraxis\",\"geo\":\"geo\",\"hovertemplate\":\"Year=2003<br>Country=%{location}<br>AvgTemperature=%{z}<extra></extra>\",\"locationmode\":\"country names\",\"locations\":[\"India\",\"India\",\"India\",\"India\"],\"name\":\"\",\"z\":[83.44945054945055,75.86630136986301,79.82657534246576,81.43698630136986],\"type\":\"choropleth\"}],\"name\":\"2003\"},{\"data\":[{\"coloraxis\":\"coloraxis\",\"geo\":\"geo\",\"hovertemplate\":\"Year=2004<br>Country=%{location}<br>AvgTemperature=%{z}<extra></extra>\",\"locationmode\":\"country names\",\"locations\":[\"India\",\"India\",\"India\",\"India\"],\"name\":\"\",\"z\":[82.54672131147541,77.27868852459017,80.38852459016394,80.60273224043715],\"type\":\"choropleth\"}],\"name\":\"2004\"},{\"data\":[{\"coloraxis\":\"coloraxis\",\"geo\":\"geo\",\"hovertemplate\":\"Year=2005<br>Country=%{location}<br>AvgTemperature=%{z}<extra></extra>\",\"locationmode\":\"country names\",\"locations\":[\"India\",\"India\",\"India\",\"India\"],\"name\":\"\",\"z\":[82.73287671232876,76.55945205479452,79.11424657534246,81.26246575342465],\"type\":\"choropleth\"}],\"name\":\"2005\"},{\"data\":[{\"coloraxis\":\"coloraxis\",\"geo\":\"geo\",\"hovertemplate\":\"Year=2006<br>Country=%{location}<br>AvgTemperature=%{z}<extra></extra>\",\"locationmode\":\"country names\",\"locations\":[\"India\",\"India\",\"India\",\"India\"],\"name\":\"\",\"z\":[82.96465753424657,77.79835616438356,79.95890410958904,81.30054794520548],\"type\":\"choropleth\"}],\"name\":\"2006\"},{\"data\":[{\"coloraxis\":\"coloraxis\",\"geo\":\"geo\",\"hovertemplate\":\"Year=2007<br>Country=%{location}<br>AvgTemperature=%{z}<extra></extra>\",\"locationmode\":\"country names\",\"locations\":[\"India\",\"India\",\"India\",\"India\"],\"name\":\"\",\"z\":[81.98708791208792,76.708356545961,79.36038781163434,82.46253443526172],\"type\":\"choropleth\"}],\"name\":\"2007\"},{\"data\":[{\"coloraxis\":\"coloraxis\",\"geo\":\"geo\",\"hovertemplate\":\"Year=2008<br>Country=%{location}<br>AvgTemperature=%{z}<extra></extra>\",\"locationmode\":\"country names\",\"locations\":[\"India\",\"India\",\"India\",\"India\"],\"name\":\"\",\"z\":[82.31013698630137,76.20328767123289,79.21835616438356,81.97603305785124],\"type\":\"choropleth\"}],\"name\":\"2008\"},{\"data\":[{\"coloraxis\":\"coloraxis\",\"geo\":\"geo\",\"hovertemplate\":\"Year=2009<br>Country=%{location}<br>AvgTemperature=%{z}<extra></extra>\",\"locationmode\":\"country names\",\"locations\":[\"India\",\"India\",\"India\",\"India\"],\"name\":\"\",\"z\":[84.28901098901099,77.76501377410469,80.44532967032967,83.00082417582418],\"type\":\"choropleth\"}],\"name\":\"2009\"},{\"data\":[{\"coloraxis\":\"coloraxis\",\"geo\":\"geo\",\"hovertemplate\":\"Year=2010<br>Country=%{location}<br>AvgTemperature=%{z}<extra></extra>\",\"locationmode\":\"country names\",\"locations\":[\"India\",\"India\",\"India\",\"India\"],\"name\":\"\",\"z\":[82.91945205479452,78.00637119113573,80.5627397260274,82.68712328767123],\"type\":\"choropleth\"}],\"name\":\"2010\"},{\"data\":[{\"coloraxis\":\"coloraxis\",\"geo\":\"geo\",\"hovertemplate\":\"Year=2011<br>Country=%{location}<br>AvgTemperature=%{z}<extra></extra>\",\"locationmode\":\"country names\",\"locations\":[\"India\",\"India\",\"India\",\"India\"],\"name\":\"\",\"z\":[82.9372602739726,76.38638888888889,79.41780821917808,82.28465753424658],\"type\":\"choropleth\"}],\"name\":\"2011\"},{\"data\":[{\"coloraxis\":\"coloraxis\",\"geo\":\"geo\",\"hovertemplate\":\"Year=2012<br>Country=%{location}<br>AvgTemperature=%{z}<extra></extra>\",\"locationmode\":\"country names\",\"locations\":[\"India\",\"India\",\"India\",\"India\"],\"name\":\"\",\"z\":[83.88961748633879,76.90491803278688,80.17923497267759,81.6964480874317],\"type\":\"choropleth\"}],\"name\":\"2012\"},{\"data\":[{\"coloraxis\":\"coloraxis\",\"geo\":\"geo\",\"hovertemplate\":\"Year=2013<br>Country=%{location}<br>AvgTemperature=%{z}<extra></extra>\",\"locationmode\":\"country names\",\"locations\":[\"India\",\"India\",\"India\",\"India\"],\"name\":\"\",\"z\":[82.96219178082193,76.70137362637362,79.3854794520548,81.73917808219178],\"type\":\"choropleth\"}],\"name\":\"2013\"},{\"data\":[{\"coloraxis\":\"coloraxis\",\"geo\":\"geo\",\"hovertemplate\":\"Year=2014<br>Country=%{location}<br>AvgTemperature=%{z}<extra></extra>\",\"locationmode\":\"country names\",\"locations\":[\"India\",\"India\",\"India\",\"India\"],\"name\":\"\",\"z\":[83.4401098901099,76.94065934065935,79.82857142857142,82.74945054945054],\"type\":\"choropleth\"}],\"name\":\"2014\"},{\"data\":[{\"coloraxis\":\"coloraxis\",\"geo\":\"geo\",\"hovertemplate\":\"Year=2015<br>Country=%{location}<br>AvgTemperature=%{z}<extra></extra>\",\"locationmode\":\"country names\",\"locations\":[\"India\",\"India\",\"India\",\"India\"],\"name\":\"\",\"z\":[84.09752747252747,77.48956043956044,80.55576923076923,83.61456043956044],\"type\":\"choropleth\"}],\"name\":\"2015\"},{\"data\":[{\"coloraxis\":\"coloraxis\",\"geo\":\"geo\",\"hovertemplate\":\"Year=2016<br>Country=%{location}<br>AvgTemperature=%{z}<extra></extra>\",\"locationmode\":\"country names\",\"locations\":[\"India\",\"India\",\"India\",\"India\"],\"name\":\"\",\"z\":[84.42032967032966,80.29002770083103,81.22335164835165,82.83296703296703],\"type\":\"choropleth\"}],\"name\":\"2016\"},{\"data\":[{\"coloraxis\":\"coloraxis\",\"geo\":\"geo\",\"hovertemplate\":\"Year=2017<br>Country=%{location}<br>AvgTemperature=%{z}<extra></extra>\",\"locationmode\":\"country names\",\"locations\":[\"India\",\"India\",\"India\",\"India\"],\"name\":\"\",\"z\":[84.75863013698631,78.88292011019284,79.85835616438357,83.40438356164383],\"type\":\"choropleth\"}],\"name\":\"2017\"},{\"data\":[{\"coloraxis\":\"coloraxis\",\"geo\":\"geo\",\"hovertemplate\":\"Year=2018<br>Country=%{location}<br>AvgTemperature=%{z}<extra></extra>\",\"locationmode\":\"country names\",\"locations\":[\"India\",\"India\",\"India\",\"India\"],\"name\":\"\",\"z\":[84.89641873278238,78.00947075208914,79.60193370165746,83.75469613259669],\"type\":\"choropleth\"}],\"name\":\"2018\"},{\"data\":[{\"coloraxis\":\"coloraxis\",\"geo\":\"geo\",\"hovertemplate\":\"Year=2019<br>Country=%{location}<br>AvgTemperature=%{z}<extra></extra>\",\"locationmode\":\"country names\",\"locations\":[\"India\",\"India\",\"India\",\"India\"],\"name\":\"\",\"z\":[85.54736842105262,77.85617977528089,79.13955431754874,82.85431754874652],\"type\":\"choropleth\"}],\"name\":\"2019\"},{\"data\":[{\"coloraxis\":\"coloraxis\",\"geo\":\"geo\",\"hovertemplate\":\"Year=2020<br>Country=%{location}<br>AvgTemperature=%{z}<extra></extra>\",\"locationmode\":\"country names\",\"locations\":[\"India\",\"India\",\"India\",\"India\"],\"name\":\"\",\"z\":[83.44179104477612,69.41428571428571,74.95970149253732,82.38208955223881],\"type\":\"choropleth\"}],\"name\":\"2020\"}]);\n",
              "                        }).then(function(){\n",
              "                            \n",
              "var gd = document.getElementById('690f363f-2659-4b3a-9ac6-6388247dde36');\n",
              "var x = new MutationObserver(function (mutations, observer) {{\n",
              "        var display = window.getComputedStyle(gd).display;\n",
              "        if (!display || display === 'none') {{\n",
              "            console.log([gd, 'removed!']);\n",
              "            Plotly.purge(gd);\n",
              "            observer.disconnect();\n",
              "        }}\n",
              "}});\n",
              "\n",
              "// Listen for the removal of the full notebook cells\n",
              "var notebookContainer = gd.closest('#notebook-container');\n",
              "if (notebookContainer) {{\n",
              "    x.observe(notebookContainer, {childList: true});\n",
              "}}\n",
              "\n",
              "// Listen for the clearing of the current output cell\n",
              "var outputEl = gd.closest('.output');\n",
              "if (outputEl) {{\n",
              "    x.observe(outputEl, {childList: true});\n",
              "}}\n",
              "\n",
              "                        })                };                            </script>        </div>\n",
              "</body>\n",
              "</html>"
            ]
          },
          "metadata": {}
        }
      ]
    },
    {
      "cell_type": "markdown",
      "source": [
        "**Back to World dataset**"
      ],
      "metadata": {
        "id": "gl3k61EsxaGK"
      }
    },
    {
      "cell_type": "code",
      "source": [
        "data = pd_df[['Country', 'Year', 'AvgTemperature']]\n"
      ],
      "metadata": {
        "id": "6WdEmHlfqW0u"
      },
      "execution_count": 89,
      "outputs": []
    },
    {
      "cell_type": "code",
      "source": [
        "data.head()"
      ],
      "metadata": {
        "colab": {
          "base_uri": "https://localhost:8080/",
          "height": 206
        },
        "id": "uf0uc0D9wxrh",
        "outputId": "e94a739e-c0ae-4222-feea-4cae2dc564a9"
      },
      "execution_count": 90,
      "outputs": [
        {
          "output_type": "execute_result",
          "data": {
            "text/plain": [
              "   Country  Year  AvgTemperature\n",
              "0  Algeria  1995            64.2\n",
              "1  Algeria  1995            49.4\n",
              "2  Algeria  1995            48.8\n",
              "3  Algeria  1995            46.4\n",
              "4  Algeria  1995            47.9"
            ],
            "text/html": [
              "\n",
              "  <div id=\"df-3ed8c2d6-bc0b-4ac6-873d-f9af31985f4a\">\n",
              "    <div class=\"colab-df-container\">\n",
              "      <div>\n",
              "<style scoped>\n",
              "    .dataframe tbody tr th:only-of-type {\n",
              "        vertical-align: middle;\n",
              "    }\n",
              "\n",
              "    .dataframe tbody tr th {\n",
              "        vertical-align: top;\n",
              "    }\n",
              "\n",
              "    .dataframe thead th {\n",
              "        text-align: right;\n",
              "    }\n",
              "</style>\n",
              "<table border=\"1\" class=\"dataframe\">\n",
              "  <thead>\n",
              "    <tr style=\"text-align: right;\">\n",
              "      <th></th>\n",
              "      <th>Country</th>\n",
              "      <th>Year</th>\n",
              "      <th>AvgTemperature</th>\n",
              "    </tr>\n",
              "  </thead>\n",
              "  <tbody>\n",
              "    <tr>\n",
              "      <th>0</th>\n",
              "      <td>Algeria</td>\n",
              "      <td>1995</td>\n",
              "      <td>64.2</td>\n",
              "    </tr>\n",
              "    <tr>\n",
              "      <th>1</th>\n",
              "      <td>Algeria</td>\n",
              "      <td>1995</td>\n",
              "      <td>49.4</td>\n",
              "    </tr>\n",
              "    <tr>\n",
              "      <th>2</th>\n",
              "      <td>Algeria</td>\n",
              "      <td>1995</td>\n",
              "      <td>48.8</td>\n",
              "    </tr>\n",
              "    <tr>\n",
              "      <th>3</th>\n",
              "      <td>Algeria</td>\n",
              "      <td>1995</td>\n",
              "      <td>46.4</td>\n",
              "    </tr>\n",
              "    <tr>\n",
              "      <th>4</th>\n",
              "      <td>Algeria</td>\n",
              "      <td>1995</td>\n",
              "      <td>47.9</td>\n",
              "    </tr>\n",
              "  </tbody>\n",
              "</table>\n",
              "</div>\n",
              "      <button class=\"colab-df-convert\" onclick=\"convertToInteractive('df-3ed8c2d6-bc0b-4ac6-873d-f9af31985f4a')\"\n",
              "              title=\"Convert this dataframe to an interactive table.\"\n",
              "              style=\"display:none;\">\n",
              "        \n",
              "  <svg xmlns=\"http://www.w3.org/2000/svg\" height=\"24px\"viewBox=\"0 0 24 24\"\n",
              "       width=\"24px\">\n",
              "    <path d=\"M0 0h24v24H0V0z\" fill=\"none\"/>\n",
              "    <path d=\"M18.56 5.44l.94 2.06.94-2.06 2.06-.94-2.06-.94-.94-2.06-.94 2.06-2.06.94zm-11 1L8.5 8.5l.94-2.06 2.06-.94-2.06-.94L8.5 2.5l-.94 2.06-2.06.94zm10 10l.94 2.06.94-2.06 2.06-.94-2.06-.94-.94-2.06-.94 2.06-2.06.94z\"/><path d=\"M17.41 7.96l-1.37-1.37c-.4-.4-.92-.59-1.43-.59-.52 0-1.04.2-1.43.59L10.3 9.45l-7.72 7.72c-.78.78-.78 2.05 0 2.83L4 21.41c.39.39.9.59 1.41.59.51 0 1.02-.2 1.41-.59l7.78-7.78 2.81-2.81c.8-.78.8-2.07 0-2.86zM5.41 20L4 18.59l7.72-7.72 1.47 1.35L5.41 20z\"/>\n",
              "  </svg>\n",
              "      </button>\n",
              "      \n",
              "  <style>\n",
              "    .colab-df-container {\n",
              "      display:flex;\n",
              "      flex-wrap:wrap;\n",
              "      gap: 12px;\n",
              "    }\n",
              "\n",
              "    .colab-df-convert {\n",
              "      background-color: #E8F0FE;\n",
              "      border: none;\n",
              "      border-radius: 50%;\n",
              "      cursor: pointer;\n",
              "      display: none;\n",
              "      fill: #1967D2;\n",
              "      height: 32px;\n",
              "      padding: 0 0 0 0;\n",
              "      width: 32px;\n",
              "    }\n",
              "\n",
              "    .colab-df-convert:hover {\n",
              "      background-color: #E2EBFA;\n",
              "      box-shadow: 0px 1px 2px rgba(60, 64, 67, 0.3), 0px 1px 3px 1px rgba(60, 64, 67, 0.15);\n",
              "      fill: #174EA6;\n",
              "    }\n",
              "\n",
              "    [theme=dark] .colab-df-convert {\n",
              "      background-color: #3B4455;\n",
              "      fill: #D2E3FC;\n",
              "    }\n",
              "\n",
              "    [theme=dark] .colab-df-convert:hover {\n",
              "      background-color: #434B5C;\n",
              "      box-shadow: 0px 1px 3px 1px rgba(0, 0, 0, 0.15);\n",
              "      filter: drop-shadow(0px 1px 2px rgba(0, 0, 0, 0.3));\n",
              "      fill: #FFFFFF;\n",
              "    }\n",
              "  </style>\n",
              "\n",
              "      <script>\n",
              "        const buttonEl =\n",
              "          document.querySelector('#df-3ed8c2d6-bc0b-4ac6-873d-f9af31985f4a button.colab-df-convert');\n",
              "        buttonEl.style.display =\n",
              "          google.colab.kernel.accessAllowed ? 'block' : 'none';\n",
              "\n",
              "        async function convertToInteractive(key) {\n",
              "          const element = document.querySelector('#df-3ed8c2d6-bc0b-4ac6-873d-f9af31985f4a');\n",
              "          const dataTable =\n",
              "            await google.colab.kernel.invokeFunction('convertToInteractive',\n",
              "                                                     [key], {});\n",
              "          if (!dataTable) return;\n",
              "\n",
              "          const docLinkHtml = 'Like what you see? Visit the ' +\n",
              "            '<a target=\"_blank\" href=https://colab.research.google.com/notebooks/data_table.ipynb>data table notebook</a>'\n",
              "            + ' to learn more about interactive tables.';\n",
              "          element.innerHTML = '';\n",
              "          dataTable['output_type'] = 'display_data';\n",
              "          await google.colab.output.renderOutput(dataTable, element);\n",
              "          const docLink = document.createElement('div');\n",
              "          docLink.innerHTML = docLinkHtml;\n",
              "          element.appendChild(docLink);\n",
              "        }\n",
              "      </script>\n",
              "    </div>\n",
              "  </div>\n",
              "  "
            ]
          },
          "metadata": {},
          "execution_count": 90
        }
      ]
    },
    {
      "cell_type": "code",
      "source": [
        "data1 = data.groupby(['Country', 'Year']).mean()"
      ],
      "metadata": {
        "id": "hj--EpepxAwb"
      },
      "execution_count": 91,
      "outputs": []
    },
    {
      "cell_type": "code",
      "source": [
        "data1.head()"
      ],
      "metadata": {
        "colab": {
          "base_uri": "https://localhost:8080/",
          "height": 238
        },
        "id": "_zSuxRJG1obD",
        "outputId": "341a296d-354f-463b-8fdb-ab03081e624c"
      },
      "execution_count": 92,
      "outputs": [
        {
          "output_type": "execute_result",
          "data": {
            "text/plain": [
              "              AvgTemperature\n",
              "Country Year                \n",
              "Albania 1997       71.934783\n",
              "        1998       61.612500\n",
              "        1999       63.116961\n",
              "        2000       63.176945\n",
              "        2001       61.235600"
            ],
            "text/html": [
              "\n",
              "  <div id=\"df-2d82bf92-3daa-4df8-87a5-355e762a5b43\">\n",
              "    <div class=\"colab-df-container\">\n",
              "      <div>\n",
              "<style scoped>\n",
              "    .dataframe tbody tr th:only-of-type {\n",
              "        vertical-align: middle;\n",
              "    }\n",
              "\n",
              "    .dataframe tbody tr th {\n",
              "        vertical-align: top;\n",
              "    }\n",
              "\n",
              "    .dataframe thead th {\n",
              "        text-align: right;\n",
              "    }\n",
              "</style>\n",
              "<table border=\"1\" class=\"dataframe\">\n",
              "  <thead>\n",
              "    <tr style=\"text-align: right;\">\n",
              "      <th></th>\n",
              "      <th></th>\n",
              "      <th>AvgTemperature</th>\n",
              "    </tr>\n",
              "    <tr>\n",
              "      <th>Country</th>\n",
              "      <th>Year</th>\n",
              "      <th></th>\n",
              "    </tr>\n",
              "  </thead>\n",
              "  <tbody>\n",
              "    <tr>\n",
              "      <th rowspan=\"5\" valign=\"top\">Albania</th>\n",
              "      <th>1997</th>\n",
              "      <td>71.934783</td>\n",
              "    </tr>\n",
              "    <tr>\n",
              "      <th>1998</th>\n",
              "      <td>61.612500</td>\n",
              "    </tr>\n",
              "    <tr>\n",
              "      <th>1999</th>\n",
              "      <td>63.116961</td>\n",
              "    </tr>\n",
              "    <tr>\n",
              "      <th>2000</th>\n",
              "      <td>63.176945</td>\n",
              "    </tr>\n",
              "    <tr>\n",
              "      <th>2001</th>\n",
              "      <td>61.235600</td>\n",
              "    </tr>\n",
              "  </tbody>\n",
              "</table>\n",
              "</div>\n",
              "      <button class=\"colab-df-convert\" onclick=\"convertToInteractive('df-2d82bf92-3daa-4df8-87a5-355e762a5b43')\"\n",
              "              title=\"Convert this dataframe to an interactive table.\"\n",
              "              style=\"display:none;\">\n",
              "        \n",
              "  <svg xmlns=\"http://www.w3.org/2000/svg\" height=\"24px\"viewBox=\"0 0 24 24\"\n",
              "       width=\"24px\">\n",
              "    <path d=\"M0 0h24v24H0V0z\" fill=\"none\"/>\n",
              "    <path d=\"M18.56 5.44l.94 2.06.94-2.06 2.06-.94-2.06-.94-.94-2.06-.94 2.06-2.06.94zm-11 1L8.5 8.5l.94-2.06 2.06-.94-2.06-.94L8.5 2.5l-.94 2.06-2.06.94zm10 10l.94 2.06.94-2.06 2.06-.94-2.06-.94-.94-2.06-.94 2.06-2.06.94z\"/><path d=\"M17.41 7.96l-1.37-1.37c-.4-.4-.92-.59-1.43-.59-.52 0-1.04.2-1.43.59L10.3 9.45l-7.72 7.72c-.78.78-.78 2.05 0 2.83L4 21.41c.39.39.9.59 1.41.59.51 0 1.02-.2 1.41-.59l7.78-7.78 2.81-2.81c.8-.78.8-2.07 0-2.86zM5.41 20L4 18.59l7.72-7.72 1.47 1.35L5.41 20z\"/>\n",
              "  </svg>\n",
              "      </button>\n",
              "      \n",
              "  <style>\n",
              "    .colab-df-container {\n",
              "      display:flex;\n",
              "      flex-wrap:wrap;\n",
              "      gap: 12px;\n",
              "    }\n",
              "\n",
              "    .colab-df-convert {\n",
              "      background-color: #E8F0FE;\n",
              "      border: none;\n",
              "      border-radius: 50%;\n",
              "      cursor: pointer;\n",
              "      display: none;\n",
              "      fill: #1967D2;\n",
              "      height: 32px;\n",
              "      padding: 0 0 0 0;\n",
              "      width: 32px;\n",
              "    }\n",
              "\n",
              "    .colab-df-convert:hover {\n",
              "      background-color: #E2EBFA;\n",
              "      box-shadow: 0px 1px 2px rgba(60, 64, 67, 0.3), 0px 1px 3px 1px rgba(60, 64, 67, 0.15);\n",
              "      fill: #174EA6;\n",
              "    }\n",
              "\n",
              "    [theme=dark] .colab-df-convert {\n",
              "      background-color: #3B4455;\n",
              "      fill: #D2E3FC;\n",
              "    }\n",
              "\n",
              "    [theme=dark] .colab-df-convert:hover {\n",
              "      background-color: #434B5C;\n",
              "      box-shadow: 0px 1px 3px 1px rgba(0, 0, 0, 0.15);\n",
              "      filter: drop-shadow(0px 1px 2px rgba(0, 0, 0, 0.3));\n",
              "      fill: #FFFFFF;\n",
              "    }\n",
              "  </style>\n",
              "\n",
              "      <script>\n",
              "        const buttonEl =\n",
              "          document.querySelector('#df-2d82bf92-3daa-4df8-87a5-355e762a5b43 button.colab-df-convert');\n",
              "        buttonEl.style.display =\n",
              "          google.colab.kernel.accessAllowed ? 'block' : 'none';\n",
              "\n",
              "        async function convertToInteractive(key) {\n",
              "          const element = document.querySelector('#df-2d82bf92-3daa-4df8-87a5-355e762a5b43');\n",
              "          const dataTable =\n",
              "            await google.colab.kernel.invokeFunction('convertToInteractive',\n",
              "                                                     [key], {});\n",
              "          if (!dataTable) return;\n",
              "\n",
              "          const docLinkHtml = 'Like what you see? Visit the ' +\n",
              "            '<a target=\"_blank\" href=https://colab.research.google.com/notebooks/data_table.ipynb>data table notebook</a>'\n",
              "            + ' to learn more about interactive tables.';\n",
              "          element.innerHTML = '';\n",
              "          dataTable['output_type'] = 'display_data';\n",
              "          await google.colab.output.renderOutput(dataTable, element);\n",
              "          const docLink = document.createElement('div');\n",
              "          docLink.innerHTML = docLinkHtml;\n",
              "          element.appendChild(docLink);\n",
              "        }\n",
              "      </script>\n",
              "    </div>\n",
              "  </div>\n",
              "  "
            ]
          },
          "metadata": {},
          "execution_count": 92
        }
      ]
    },
    {
      "cell_type": "code",
      "source": [
        "data1.sort_values(by = ['Country' , 'Year'], inplace = True)"
      ],
      "metadata": {
        "id": "vgEb3sPa1JpJ"
      },
      "execution_count": 93,
      "outputs": []
    },
    {
      "cell_type": "code",
      "source": [
        "data1.head(100)"
      ],
      "metadata": {
        "colab": {
          "base_uri": "https://localhost:8080/",
          "height": 455
        },
        "id": "0JccWragxv4F",
        "outputId": "5cdbeef6-42ea-40c0-b204-e795c9b33c19"
      },
      "execution_count": 94,
      "outputs": [
        {
          "output_type": "execute_result",
          "data": {
            "text/plain": [
              "                AvgTemperature\n",
              "Country   Year                \n",
              "Albania   1997       71.934783\n",
              "          1998       61.612500\n",
              "          1999       63.116961\n",
              "          2000       63.176945\n",
              "          2001       61.235600\n",
              "...                        ...\n",
              "Australia 2014       63.483956\n",
              "          2015       63.063626\n",
              "          2016       63.408223\n",
              "          2017       63.455647\n",
              "          2018       63.264100\n",
              "\n",
              "[100 rows x 1 columns]"
            ],
            "text/html": [
              "\n",
              "  <div id=\"df-f2caf60f-07ea-44ce-9208-39c76348422f\">\n",
              "    <div class=\"colab-df-container\">\n",
              "      <div>\n",
              "<style scoped>\n",
              "    .dataframe tbody tr th:only-of-type {\n",
              "        vertical-align: middle;\n",
              "    }\n",
              "\n",
              "    .dataframe tbody tr th {\n",
              "        vertical-align: top;\n",
              "    }\n",
              "\n",
              "    .dataframe thead th {\n",
              "        text-align: right;\n",
              "    }\n",
              "</style>\n",
              "<table border=\"1\" class=\"dataframe\">\n",
              "  <thead>\n",
              "    <tr style=\"text-align: right;\">\n",
              "      <th></th>\n",
              "      <th></th>\n",
              "      <th>AvgTemperature</th>\n",
              "    </tr>\n",
              "    <tr>\n",
              "      <th>Country</th>\n",
              "      <th>Year</th>\n",
              "      <th></th>\n",
              "    </tr>\n",
              "  </thead>\n",
              "  <tbody>\n",
              "    <tr>\n",
              "      <th rowspan=\"5\" valign=\"top\">Albania</th>\n",
              "      <th>1997</th>\n",
              "      <td>71.934783</td>\n",
              "    </tr>\n",
              "    <tr>\n",
              "      <th>1998</th>\n",
              "      <td>61.612500</td>\n",
              "    </tr>\n",
              "    <tr>\n",
              "      <th>1999</th>\n",
              "      <td>63.116961</td>\n",
              "    </tr>\n",
              "    <tr>\n",
              "      <th>2000</th>\n",
              "      <td>63.176945</td>\n",
              "    </tr>\n",
              "    <tr>\n",
              "      <th>2001</th>\n",
              "      <td>61.235600</td>\n",
              "    </tr>\n",
              "    <tr>\n",
              "      <th>...</th>\n",
              "      <th>...</th>\n",
              "      <td>...</td>\n",
              "    </tr>\n",
              "    <tr>\n",
              "      <th rowspan=\"5\" valign=\"top\">Australia</th>\n",
              "      <th>2014</th>\n",
              "      <td>63.483956</td>\n",
              "    </tr>\n",
              "    <tr>\n",
              "      <th>2015</th>\n",
              "      <td>63.063626</td>\n",
              "    </tr>\n",
              "    <tr>\n",
              "      <th>2016</th>\n",
              "      <td>63.408223</td>\n",
              "    </tr>\n",
              "    <tr>\n",
              "      <th>2017</th>\n",
              "      <td>63.455647</td>\n",
              "    </tr>\n",
              "    <tr>\n",
              "      <th>2018</th>\n",
              "      <td>63.264100</td>\n",
              "    </tr>\n",
              "  </tbody>\n",
              "</table>\n",
              "<p>100 rows × 1 columns</p>\n",
              "</div>\n",
              "      <button class=\"colab-df-convert\" onclick=\"convertToInteractive('df-f2caf60f-07ea-44ce-9208-39c76348422f')\"\n",
              "              title=\"Convert this dataframe to an interactive table.\"\n",
              "              style=\"display:none;\">\n",
              "        \n",
              "  <svg xmlns=\"http://www.w3.org/2000/svg\" height=\"24px\"viewBox=\"0 0 24 24\"\n",
              "       width=\"24px\">\n",
              "    <path d=\"M0 0h24v24H0V0z\" fill=\"none\"/>\n",
              "    <path d=\"M18.56 5.44l.94 2.06.94-2.06 2.06-.94-2.06-.94-.94-2.06-.94 2.06-2.06.94zm-11 1L8.5 8.5l.94-2.06 2.06-.94-2.06-.94L8.5 2.5l-.94 2.06-2.06.94zm10 10l.94 2.06.94-2.06 2.06-.94-2.06-.94-.94-2.06-.94 2.06-2.06.94z\"/><path d=\"M17.41 7.96l-1.37-1.37c-.4-.4-.92-.59-1.43-.59-.52 0-1.04.2-1.43.59L10.3 9.45l-7.72 7.72c-.78.78-.78 2.05 0 2.83L4 21.41c.39.39.9.59 1.41.59.51 0 1.02-.2 1.41-.59l7.78-7.78 2.81-2.81c.8-.78.8-2.07 0-2.86zM5.41 20L4 18.59l7.72-7.72 1.47 1.35L5.41 20z\"/>\n",
              "  </svg>\n",
              "      </button>\n",
              "      \n",
              "  <style>\n",
              "    .colab-df-container {\n",
              "      display:flex;\n",
              "      flex-wrap:wrap;\n",
              "      gap: 12px;\n",
              "    }\n",
              "\n",
              "    .colab-df-convert {\n",
              "      background-color: #E8F0FE;\n",
              "      border: none;\n",
              "      border-radius: 50%;\n",
              "      cursor: pointer;\n",
              "      display: none;\n",
              "      fill: #1967D2;\n",
              "      height: 32px;\n",
              "      padding: 0 0 0 0;\n",
              "      width: 32px;\n",
              "    }\n",
              "\n",
              "    .colab-df-convert:hover {\n",
              "      background-color: #E2EBFA;\n",
              "      box-shadow: 0px 1px 2px rgba(60, 64, 67, 0.3), 0px 1px 3px 1px rgba(60, 64, 67, 0.15);\n",
              "      fill: #174EA6;\n",
              "    }\n",
              "\n",
              "    [theme=dark] .colab-df-convert {\n",
              "      background-color: #3B4455;\n",
              "      fill: #D2E3FC;\n",
              "    }\n",
              "\n",
              "    [theme=dark] .colab-df-convert:hover {\n",
              "      background-color: #434B5C;\n",
              "      box-shadow: 0px 1px 3px 1px rgba(0, 0, 0, 0.15);\n",
              "      filter: drop-shadow(0px 1px 2px rgba(0, 0, 0, 0.3));\n",
              "      fill: #FFFFFF;\n",
              "    }\n",
              "  </style>\n",
              "\n",
              "      <script>\n",
              "        const buttonEl =\n",
              "          document.querySelector('#df-f2caf60f-07ea-44ce-9208-39c76348422f button.colab-df-convert');\n",
              "        buttonEl.style.display =\n",
              "          google.colab.kernel.accessAllowed ? 'block' : 'none';\n",
              "\n",
              "        async function convertToInteractive(key) {\n",
              "          const element = document.querySelector('#df-f2caf60f-07ea-44ce-9208-39c76348422f');\n",
              "          const dataTable =\n",
              "            await google.colab.kernel.invokeFunction('convertToInteractive',\n",
              "                                                     [key], {});\n",
              "          if (!dataTable) return;\n",
              "\n",
              "          const docLinkHtml = 'Like what you see? Visit the ' +\n",
              "            '<a target=\"_blank\" href=https://colab.research.google.com/notebooks/data_table.ipynb>data table notebook</a>'\n",
              "            + ' to learn more about interactive tables.';\n",
              "          element.innerHTML = '';\n",
              "          dataTable['output_type'] = 'display_data';\n",
              "          await google.colab.output.renderOutput(dataTable, element);\n",
              "          const docLink = document.createElement('div');\n",
              "          docLink.innerHTML = docLinkHtml;\n",
              "          element.appendChild(docLink);\n",
              "        }\n",
              "      </script>\n",
              "    </div>\n",
              "  </div>\n",
              "  "
            ]
          },
          "metadata": {},
          "execution_count": 94
        }
      ]
    },
    {
      "cell_type": "code",
      "source": [
        "data3 = pd_df[['Country','Year','AvgTemperature']].groupby(['Country','Year']).mean().reset_index()\n",
        "\n",
        "\n",
        "px.choropleth(data_frame=data3,locations=\"Country\",locationmode='country names',animation_frame=\"Year\",color='AvgTemperature',color_continuous_scale = 'Turbo',title=\"Average temperature of countries over the years 1995 to 2019\")"
      ],
      "metadata": {
        "colab": {
          "base_uri": "https://localhost:8080/",
          "height": 542
        },
        "id": "Ymc0qDsBrRHR",
        "outputId": "6bc96166-ba75-4e50-c216-846477f5d45f"
      },
      "execution_count": 95,
      "outputs": [
        {
          "output_type": "display_data",
          "data": {
            "text/html": [
              "<html>\n",
              "<head><meta charset=\"utf-8\" /></head>\n",
              "<body>\n",
              "    <div>            <script src=\"https://cdnjs.cloudflare.com/ajax/libs/mathjax/2.7.5/MathJax.js?config=TeX-AMS-MML_SVG\"></script><script type=\"text/javascript\">if (window.MathJax) {MathJax.Hub.Config({SVG: {font: \"STIX-Web\"}});}</script>                <script type=\"text/javascript\">window.PlotlyConfig = {MathJaxConfig: 'local'};</script>\n",
              "        <script src=\"https://cdn.plot.ly/plotly-2.8.3.min.js\"></script>                <div id=\"f9febad0-da14-4cde-af9e-c75d5f442a65\" class=\"plotly-graph-div\" style=\"height:525px; width:100%;\"></div>            <script type=\"text/javascript\">                                    window.PLOTLYENV=window.PLOTLYENV || {};                                    if (document.getElementById(\"f9febad0-da14-4cde-af9e-c75d5f442a65\")) {                    Plotly.newPlot(                        \"f9febad0-da14-4cde-af9e-c75d5f442a65\",                        [{\"coloraxis\":\"coloraxis\",\"geo\":\"geo\",\"hovertemplate\":\"Year=1997<br>Country=%{location}<br>AvgTemperature=%{z}<extra></extra>\",\"locationmode\":\"country names\",\"locations\":[\"Albania\",\"Algeria\",\"Argentina\",\"Australia\",\"Austria\",\"Bahamas\",\"Bahrain\",\"Bangladesh\",\"Barbados\",\"Belarus\",\"Belgium\",\"Belize\",\"Benin\",\"Bermuda\",\"Bolivia\",\"Brazil\",\"Bulgaria\",\"Burundi\",\"Canada\",\"Central African Republic\",\"China\",\"Colombia\",\"Congo\",\"Costa Rica\",\"Croatia\",\"Cuba\",\"Cyprus\",\"Czech Republic\",\"Denmark\",\"Dominican Republic\",\"Egypt\",\"Equador\",\"Ethiopia\",\"Finland\",\"France\",\"Gabon\",\"Gambia\",\"Georgia\",\"Germany\",\"Greece\",\"Guatemala\",\"Guinea\",\"Guinea-Bissau\",\"Guyana\",\"Haiti\",\"Honduras\",\"Hong Kong\",\"Hungary\",\"Iceland\",\"India\",\"Indonesia\",\"Ireland\",\"Israel\",\"Italy\",\"Ivory Coast\",\"Japan\",\"Jordan\",\"Kazakhstan\",\"Kenya\",\"Kuwait\",\"Kyrgyzstan\",\"Laos\",\"Latvia\",\"Lebanon\",\"Macedonia\",\"Madagascar\",\"Malawi\",\"Malaysia\",\"Mauritania\",\"Mexico\",\"Mongolia\",\"Morocco\",\"Mozambique\",\"Myanmar (Burma)\",\"Namibia\",\"Nepal\",\"New Zealand\",\"Nicaragua\",\"Nigeria\",\"North Korea\",\"Norway\",\"Pakistan\",\"Panama\",\"Peru\",\"Philippines\",\"Poland\",\"Portugal\",\"Qatar\",\"Romania\",\"Russia\",\"Saudi Arabia\",\"Senegal\",\"Serbia-Montenegro\",\"Sierra Leone\",\"Singapore\",\"Slovakia\",\"South Africa\",\"South Korea\",\"Spain\",\"Sri Lanka\",\"Suriname\",\"Sweden\",\"Switzerland\",\"Syria\",\"Taiwan\",\"Tajikistan\",\"Tanzania\",\"Thailand\",\"The Netherlands\",\"Togo\",\"Tunisia\",\"Turkey\",\"Turkmenistan\",\"US\",\"Uganda\",\"Ukraine\",\"United Arab Emirates\",\"United Kingdom\",\"Uruguay\",\"Uzbekistan\",\"Venezuela\",\"Vietnam\",\"Yugoslavia\",\"Zambia\"],\"name\":\"\",\"z\":[71.93478260869566,64.92630136986301,63.14383561643836,62.15178082191781,49.6827397260274,77.23691460055096,78.7972602739726,77.15481927710844,80.78,43.69275766016713,51.248901098901094,81.85883977900554,80.90614525139665,71.25188284518829,45.04547945205479,71.55490767735665,48.78,78.43391304347826,45.18237716975581,78.83278688524591,61.34661781285231,56.23150684931507,78.52470588235295,73.29063360881543,51.82138888888889,77.2272997032641,63.424637681159425,46.34120879120879,47.078630136986305,79.40552486187845,70.76657534246576,69.07686676427525,62.87546583850932,42.47202216066482,56.87465753424657,80.52794117647059,79.756,55.50547945205479,49.17304785894207,63.93534246575343,67.53561643835616,82.54428571428572,83.40970149253731,80.69999999999999,87.43142857142857,72.06363636363636,75.25315068493151,50.38602739726028,41.36821917808219,79.58924657534247,82.58518518518518,50.08958904109589,68.4775,57.5854794520548,80.28463687150838,55.9392694063927,62.61287671232877,51.95885714285714,66.86888888888889,79.12258953168045,29.703333333333333,81.53816155988858,45.75371900826446,68.64246575342466,54.949041095890415,66.86541786743516,68.17662835249041,81.97190082644627,79.42616279069767,68.4449602122016,45.95643939393939,64.58876712328768,73.9665644171779,81.75530085959885,67.58407821229049,58.15454545454545,58.70328767123288,81.91041095890411,85.85581395348838,51.692582417582415,43.94914772727273,74.13425797503467,81.85287671232877,71.93095890410959,81.7854794520548,46.82222222222222,64.80027472527472,80.69228650137741,50.571349862258955,48.67830985915493,78.41150684931507,76.78021978021978,49.02602739726027,82.41333333333334,82.96082191780822,50.100273972602736,61.751506849315064,52.60246575342466,60.825479452054786,81.53136531365314,78.90559701492538,45.30821917808219,50.25100548446069,61.67032967032967,73.14767123287672,67.08242424242424,78.38387096774194,85.98931506849314,50.4882191780822,80.90114068441065,67.09150684931507,52.99312242090784,63.038356164383565,56.07837595413134,72.64893617021276,46.54410112359551,80.8182191780822,52.67379972565158,60.919999999999995,60.76424418604652,80.17397260273972,75.91808219178081,52.22438356164384,72.88607594936708],\"type\":\"choropleth\"}],                        {\"template\":{\"data\":{\"bar\":[{\"error_x\":{\"color\":\"#2a3f5f\"},\"error_y\":{\"color\":\"#2a3f5f\"},\"marker\":{\"line\":{\"color\":\"#E5ECF6\",\"width\":0.5},\"pattern\":{\"fillmode\":\"overlay\",\"size\":10,\"solidity\":0.2}},\"type\":\"bar\"}],\"barpolar\":[{\"marker\":{\"line\":{\"color\":\"#E5ECF6\",\"width\":0.5},\"pattern\":{\"fillmode\":\"overlay\",\"size\":10,\"solidity\":0.2}},\"type\":\"barpolar\"}],\"carpet\":[{\"aaxis\":{\"endlinecolor\":\"#2a3f5f\",\"gridcolor\":\"white\",\"linecolor\":\"white\",\"minorgridcolor\":\"white\",\"startlinecolor\":\"#2a3f5f\"},\"baxis\":{\"endlinecolor\":\"#2a3f5f\",\"gridcolor\":\"white\",\"linecolor\":\"white\",\"minorgridcolor\":\"white\",\"startlinecolor\":\"#2a3f5f\"},\"type\":\"carpet\"}],\"choropleth\":[{\"colorbar\":{\"outlinewidth\":0,\"ticks\":\"\"},\"type\":\"choropleth\"}],\"contour\":[{\"colorbar\":{\"outlinewidth\":0,\"ticks\":\"\"},\"colorscale\":[[0.0,\"#0d0887\"],[0.1111111111111111,\"#46039f\"],[0.2222222222222222,\"#7201a8\"],[0.3333333333333333,\"#9c179e\"],[0.4444444444444444,\"#bd3786\"],[0.5555555555555556,\"#d8576b\"],[0.6666666666666666,\"#ed7953\"],[0.7777777777777778,\"#fb9f3a\"],[0.8888888888888888,\"#fdca26\"],[1.0,\"#f0f921\"]],\"type\":\"contour\"}],\"contourcarpet\":[{\"colorbar\":{\"outlinewidth\":0,\"ticks\":\"\"},\"type\":\"contourcarpet\"}],\"heatmap\":[{\"colorbar\":{\"outlinewidth\":0,\"ticks\":\"\"},\"colorscale\":[[0.0,\"#0d0887\"],[0.1111111111111111,\"#46039f\"],[0.2222222222222222,\"#7201a8\"],[0.3333333333333333,\"#9c179e\"],[0.4444444444444444,\"#bd3786\"],[0.5555555555555556,\"#d8576b\"],[0.6666666666666666,\"#ed7953\"],[0.7777777777777778,\"#fb9f3a\"],[0.8888888888888888,\"#fdca26\"],[1.0,\"#f0f921\"]],\"type\":\"heatmap\"}],\"heatmapgl\":[{\"colorbar\":{\"outlinewidth\":0,\"ticks\":\"\"},\"colorscale\":[[0.0,\"#0d0887\"],[0.1111111111111111,\"#46039f\"],[0.2222222222222222,\"#7201a8\"],[0.3333333333333333,\"#9c179e\"],[0.4444444444444444,\"#bd3786\"],[0.5555555555555556,\"#d8576b\"],[0.6666666666666666,\"#ed7953\"],[0.7777777777777778,\"#fb9f3a\"],[0.8888888888888888,\"#fdca26\"],[1.0,\"#f0f921\"]],\"type\":\"heatmapgl\"}],\"histogram\":[{\"marker\":{\"pattern\":{\"fillmode\":\"overlay\",\"size\":10,\"solidity\":0.2}},\"type\":\"histogram\"}],\"histogram2d\":[{\"colorbar\":{\"outlinewidth\":0,\"ticks\":\"\"},\"colorscale\":[[0.0,\"#0d0887\"],[0.1111111111111111,\"#46039f\"],[0.2222222222222222,\"#7201a8\"],[0.3333333333333333,\"#9c179e\"],[0.4444444444444444,\"#bd3786\"],[0.5555555555555556,\"#d8576b\"],[0.6666666666666666,\"#ed7953\"],[0.7777777777777778,\"#fb9f3a\"],[0.8888888888888888,\"#fdca26\"],[1.0,\"#f0f921\"]],\"type\":\"histogram2d\"}],\"histogram2dcontour\":[{\"colorbar\":{\"outlinewidth\":0,\"ticks\":\"\"},\"colorscale\":[[0.0,\"#0d0887\"],[0.1111111111111111,\"#46039f\"],[0.2222222222222222,\"#7201a8\"],[0.3333333333333333,\"#9c179e\"],[0.4444444444444444,\"#bd3786\"],[0.5555555555555556,\"#d8576b\"],[0.6666666666666666,\"#ed7953\"],[0.7777777777777778,\"#fb9f3a\"],[0.8888888888888888,\"#fdca26\"],[1.0,\"#f0f921\"]],\"type\":\"histogram2dcontour\"}],\"mesh3d\":[{\"colorbar\":{\"outlinewidth\":0,\"ticks\":\"\"},\"type\":\"mesh3d\"}],\"parcoords\":[{\"line\":{\"colorbar\":{\"outlinewidth\":0,\"ticks\":\"\"}},\"type\":\"parcoords\"}],\"pie\":[{\"automargin\":true,\"type\":\"pie\"}],\"scatter\":[{\"marker\":{\"colorbar\":{\"outlinewidth\":0,\"ticks\":\"\"}},\"type\":\"scatter\"}],\"scatter3d\":[{\"line\":{\"colorbar\":{\"outlinewidth\":0,\"ticks\":\"\"}},\"marker\":{\"colorbar\":{\"outlinewidth\":0,\"ticks\":\"\"}},\"type\":\"scatter3d\"}],\"scattercarpet\":[{\"marker\":{\"colorbar\":{\"outlinewidth\":0,\"ticks\":\"\"}},\"type\":\"scattercarpet\"}],\"scattergeo\":[{\"marker\":{\"colorbar\":{\"outlinewidth\":0,\"ticks\":\"\"}},\"type\":\"scattergeo\"}],\"scattergl\":[{\"marker\":{\"colorbar\":{\"outlinewidth\":0,\"ticks\":\"\"}},\"type\":\"scattergl\"}],\"scattermapbox\":[{\"marker\":{\"colorbar\":{\"outlinewidth\":0,\"ticks\":\"\"}},\"type\":\"scattermapbox\"}],\"scatterpolar\":[{\"marker\":{\"colorbar\":{\"outlinewidth\":0,\"ticks\":\"\"}},\"type\":\"scatterpolar\"}],\"scatterpolargl\":[{\"marker\":{\"colorbar\":{\"outlinewidth\":0,\"ticks\":\"\"}},\"type\":\"scatterpolargl\"}],\"scatterternary\":[{\"marker\":{\"colorbar\":{\"outlinewidth\":0,\"ticks\":\"\"}},\"type\":\"scatterternary\"}],\"surface\":[{\"colorbar\":{\"outlinewidth\":0,\"ticks\":\"\"},\"colorscale\":[[0.0,\"#0d0887\"],[0.1111111111111111,\"#46039f\"],[0.2222222222222222,\"#7201a8\"],[0.3333333333333333,\"#9c179e\"],[0.4444444444444444,\"#bd3786\"],[0.5555555555555556,\"#d8576b\"],[0.6666666666666666,\"#ed7953\"],[0.7777777777777778,\"#fb9f3a\"],[0.8888888888888888,\"#fdca26\"],[1.0,\"#f0f921\"]],\"type\":\"surface\"}],\"table\":[{\"cells\":{\"fill\":{\"color\":\"#EBF0F8\"},\"line\":{\"color\":\"white\"}},\"header\":{\"fill\":{\"color\":\"#C8D4E3\"},\"line\":{\"color\":\"white\"}},\"type\":\"table\"}]},\"layout\":{\"annotationdefaults\":{\"arrowcolor\":\"#2a3f5f\",\"arrowhead\":0,\"arrowwidth\":1},\"autotypenumbers\":\"strict\",\"coloraxis\":{\"colorbar\":{\"outlinewidth\":0,\"ticks\":\"\"}},\"colorscale\":{\"diverging\":[[0,\"#8e0152\"],[0.1,\"#c51b7d\"],[0.2,\"#de77ae\"],[0.3,\"#f1b6da\"],[0.4,\"#fde0ef\"],[0.5,\"#f7f7f7\"],[0.6,\"#e6f5d0\"],[0.7,\"#b8e186\"],[0.8,\"#7fbc41\"],[0.9,\"#4d9221\"],[1,\"#276419\"]],\"sequential\":[[0.0,\"#0d0887\"],[0.1111111111111111,\"#46039f\"],[0.2222222222222222,\"#7201a8\"],[0.3333333333333333,\"#9c179e\"],[0.4444444444444444,\"#bd3786\"],[0.5555555555555556,\"#d8576b\"],[0.6666666666666666,\"#ed7953\"],[0.7777777777777778,\"#fb9f3a\"],[0.8888888888888888,\"#fdca26\"],[1.0,\"#f0f921\"]],\"sequentialminus\":[[0.0,\"#0d0887\"],[0.1111111111111111,\"#46039f\"],[0.2222222222222222,\"#7201a8\"],[0.3333333333333333,\"#9c179e\"],[0.4444444444444444,\"#bd3786\"],[0.5555555555555556,\"#d8576b\"],[0.6666666666666666,\"#ed7953\"],[0.7777777777777778,\"#fb9f3a\"],[0.8888888888888888,\"#fdca26\"],[1.0,\"#f0f921\"]]},\"colorway\":[\"#636efa\",\"#EF553B\",\"#00cc96\",\"#ab63fa\",\"#FFA15A\",\"#19d3f3\",\"#FF6692\",\"#B6E880\",\"#FF97FF\",\"#FECB52\"],\"font\":{\"color\":\"#2a3f5f\"},\"geo\":{\"bgcolor\":\"white\",\"lakecolor\":\"white\",\"landcolor\":\"#E5ECF6\",\"showlakes\":true,\"showland\":true,\"subunitcolor\":\"white\"},\"hoverlabel\":{\"align\":\"left\"},\"hovermode\":\"closest\",\"mapbox\":{\"style\":\"light\"},\"paper_bgcolor\":\"white\",\"plot_bgcolor\":\"#E5ECF6\",\"polar\":{\"angularaxis\":{\"gridcolor\":\"white\",\"linecolor\":\"white\",\"ticks\":\"\"},\"bgcolor\":\"#E5ECF6\",\"radialaxis\":{\"gridcolor\":\"white\",\"linecolor\":\"white\",\"ticks\":\"\"}},\"scene\":{\"xaxis\":{\"backgroundcolor\":\"#E5ECF6\",\"gridcolor\":\"white\",\"gridwidth\":2,\"linecolor\":\"white\",\"showbackground\":true,\"ticks\":\"\",\"zerolinecolor\":\"white\"},\"yaxis\":{\"backgroundcolor\":\"#E5ECF6\",\"gridcolor\":\"white\",\"gridwidth\":2,\"linecolor\":\"white\",\"showbackground\":true,\"ticks\":\"\",\"zerolinecolor\":\"white\"},\"zaxis\":{\"backgroundcolor\":\"#E5ECF6\",\"gridcolor\":\"white\",\"gridwidth\":2,\"linecolor\":\"white\",\"showbackground\":true,\"ticks\":\"\",\"zerolinecolor\":\"white\"}},\"shapedefaults\":{\"line\":{\"color\":\"#2a3f5f\"}},\"ternary\":{\"aaxis\":{\"gridcolor\":\"white\",\"linecolor\":\"white\",\"ticks\":\"\"},\"baxis\":{\"gridcolor\":\"white\",\"linecolor\":\"white\",\"ticks\":\"\"},\"bgcolor\":\"#E5ECF6\",\"caxis\":{\"gridcolor\":\"white\",\"linecolor\":\"white\",\"ticks\":\"\"}},\"title\":{\"x\":0.05},\"xaxis\":{\"automargin\":true,\"gridcolor\":\"white\",\"linecolor\":\"white\",\"ticks\":\"\",\"title\":{\"standoff\":15},\"zerolinecolor\":\"white\",\"zerolinewidth\":2},\"yaxis\":{\"automargin\":true,\"gridcolor\":\"white\",\"linecolor\":\"white\",\"ticks\":\"\",\"title\":{\"standoff\":15},\"zerolinecolor\":\"white\",\"zerolinewidth\":2}}},\"geo\":{\"domain\":{\"x\":[0.0,1.0],\"y\":[0.0,1.0]},\"center\":{}},\"coloraxis\":{\"colorbar\":{\"title\":{\"text\":\"AvgTemperature\"}},\"colorscale\":[[0.0,\"#30123b\"],[0.07142857142857142,\"#4145ab\"],[0.14285714285714285,\"#4675ed\"],[0.21428571428571427,\"#39a2fc\"],[0.2857142857142857,\"#1bcfd4\"],[0.35714285714285715,\"#24eca6\"],[0.42857142857142855,\"#61fc6c\"],[0.5,\"#a4fc3b\"],[0.5714285714285714,\"#d1e834\"],[0.6428571428571429,\"#f3c63a\"],[0.7142857142857143,\"#fe9b2d\"],[0.7857142857142857,\"#f36315\"],[0.8571428571428571,\"#d93806\"],[0.9285714285714286,\"#b11901\"],[1.0,\"#7a0402\"]]},\"legend\":{\"tracegroupgap\":0},\"title\":{\"text\":\"Average temperature of countries over the years 1995 to 2019\"},\"updatemenus\":[{\"buttons\":[{\"args\":[null,{\"frame\":{\"duration\":500,\"redraw\":true},\"mode\":\"immediate\",\"fromcurrent\":true,\"transition\":{\"duration\":500,\"easing\":\"linear\"}}],\"label\":\"&#9654;\",\"method\":\"animate\"},{\"args\":[[null],{\"frame\":{\"duration\":0,\"redraw\":true},\"mode\":\"immediate\",\"fromcurrent\":true,\"transition\":{\"duration\":0,\"easing\":\"linear\"}}],\"label\":\"&#9724;\",\"method\":\"animate\"}],\"direction\":\"left\",\"pad\":{\"r\":10,\"t\":70},\"showactive\":false,\"type\":\"buttons\",\"x\":0.1,\"xanchor\":\"right\",\"y\":0,\"yanchor\":\"top\"}],\"sliders\":[{\"active\":0,\"currentvalue\":{\"prefix\":\"Year=\"},\"len\":0.9,\"pad\":{\"b\":10,\"t\":60},\"steps\":[{\"args\":[[\"1997\"],{\"frame\":{\"duration\":0,\"redraw\":true},\"mode\":\"immediate\",\"fromcurrent\":true,\"transition\":{\"duration\":0,\"easing\":\"linear\"}}],\"label\":\"1997\",\"method\":\"animate\"},{\"args\":[[\"1998\"],{\"frame\":{\"duration\":0,\"redraw\":true},\"mode\":\"immediate\",\"fromcurrent\":true,\"transition\":{\"duration\":0,\"easing\":\"linear\"}}],\"label\":\"1998\",\"method\":\"animate\"},{\"args\":[[\"1999\"],{\"frame\":{\"duration\":0,\"redraw\":true},\"mode\":\"immediate\",\"fromcurrent\":true,\"transition\":{\"duration\":0,\"easing\":\"linear\"}}],\"label\":\"1999\",\"method\":\"animate\"},{\"args\":[[\"2000\"],{\"frame\":{\"duration\":0,\"redraw\":true},\"mode\":\"immediate\",\"fromcurrent\":true,\"transition\":{\"duration\":0,\"easing\":\"linear\"}}],\"label\":\"2000\",\"method\":\"animate\"},{\"args\":[[\"2001\"],{\"frame\":{\"duration\":0,\"redraw\":true},\"mode\":\"immediate\",\"fromcurrent\":true,\"transition\":{\"duration\":0,\"easing\":\"linear\"}}],\"label\":\"2001\",\"method\":\"animate\"},{\"args\":[[\"2002\"],{\"frame\":{\"duration\":0,\"redraw\":true},\"mode\":\"immediate\",\"fromcurrent\":true,\"transition\":{\"duration\":0,\"easing\":\"linear\"}}],\"label\":\"2002\",\"method\":\"animate\"},{\"args\":[[\"2003\"],{\"frame\":{\"duration\":0,\"redraw\":true},\"mode\":\"immediate\",\"fromcurrent\":true,\"transition\":{\"duration\":0,\"easing\":\"linear\"}}],\"label\":\"2003\",\"method\":\"animate\"},{\"args\":[[\"2004\"],{\"frame\":{\"duration\":0,\"redraw\":true},\"mode\":\"immediate\",\"fromcurrent\":true,\"transition\":{\"duration\":0,\"easing\":\"linear\"}}],\"label\":\"2004\",\"method\":\"animate\"},{\"args\":[[\"2005\"],{\"frame\":{\"duration\":0,\"redraw\":true},\"mode\":\"immediate\",\"fromcurrent\":true,\"transition\":{\"duration\":0,\"easing\":\"linear\"}}],\"label\":\"2005\",\"method\":\"animate\"},{\"args\":[[\"2006\"],{\"frame\":{\"duration\":0,\"redraw\":true},\"mode\":\"immediate\",\"fromcurrent\":true,\"transition\":{\"duration\":0,\"easing\":\"linear\"}}],\"label\":\"2006\",\"method\":\"animate\"},{\"args\":[[\"2007\"],{\"frame\":{\"duration\":0,\"redraw\":true},\"mode\":\"immediate\",\"fromcurrent\":true,\"transition\":{\"duration\":0,\"easing\":\"linear\"}}],\"label\":\"2007\",\"method\":\"animate\"},{\"args\":[[\"2008\"],{\"frame\":{\"duration\":0,\"redraw\":true},\"mode\":\"immediate\",\"fromcurrent\":true,\"transition\":{\"duration\":0,\"easing\":\"linear\"}}],\"label\":\"2008\",\"method\":\"animate\"},{\"args\":[[\"2009\"],{\"frame\":{\"duration\":0,\"redraw\":true},\"mode\":\"immediate\",\"fromcurrent\":true,\"transition\":{\"duration\":0,\"easing\":\"linear\"}}],\"label\":\"2009\",\"method\":\"animate\"},{\"args\":[[\"2010\"],{\"frame\":{\"duration\":0,\"redraw\":true},\"mode\":\"immediate\",\"fromcurrent\":true,\"transition\":{\"duration\":0,\"easing\":\"linear\"}}],\"label\":\"2010\",\"method\":\"animate\"},{\"args\":[[\"2011\"],{\"frame\":{\"duration\":0,\"redraw\":true},\"mode\":\"immediate\",\"fromcurrent\":true,\"transition\":{\"duration\":0,\"easing\":\"linear\"}}],\"label\":\"2011\",\"method\":\"animate\"},{\"args\":[[\"2012\"],{\"frame\":{\"duration\":0,\"redraw\":true},\"mode\":\"immediate\",\"fromcurrent\":true,\"transition\":{\"duration\":0,\"easing\":\"linear\"}}],\"label\":\"2012\",\"method\":\"animate\"},{\"args\":[[\"2013\"],{\"frame\":{\"duration\":0,\"redraw\":true},\"mode\":\"immediate\",\"fromcurrent\":true,\"transition\":{\"duration\":0,\"easing\":\"linear\"}}],\"label\":\"2013\",\"method\":\"animate\"},{\"args\":[[\"2014\"],{\"frame\":{\"duration\":0,\"redraw\":true},\"mode\":\"immediate\",\"fromcurrent\":true,\"transition\":{\"duration\":0,\"easing\":\"linear\"}}],\"label\":\"2014\",\"method\":\"animate\"},{\"args\":[[\"2015\"],{\"frame\":{\"duration\":0,\"redraw\":true},\"mode\":\"immediate\",\"fromcurrent\":true,\"transition\":{\"duration\":0,\"easing\":\"linear\"}}],\"label\":\"2015\",\"method\":\"animate\"},{\"args\":[[\"2016\"],{\"frame\":{\"duration\":0,\"redraw\":true},\"mode\":\"immediate\",\"fromcurrent\":true,\"transition\":{\"duration\":0,\"easing\":\"linear\"}}],\"label\":\"2016\",\"method\":\"animate\"},{\"args\":[[\"2017\"],{\"frame\":{\"duration\":0,\"redraw\":true},\"mode\":\"immediate\",\"fromcurrent\":true,\"transition\":{\"duration\":0,\"easing\":\"linear\"}}],\"label\":\"2017\",\"method\":\"animate\"},{\"args\":[[\"2018\"],{\"frame\":{\"duration\":0,\"redraw\":true},\"mode\":\"immediate\",\"fromcurrent\":true,\"transition\":{\"duration\":0,\"easing\":\"linear\"}}],\"label\":\"2018\",\"method\":\"animate\"},{\"args\":[[\"2019\"],{\"frame\":{\"duration\":0,\"redraw\":true},\"mode\":\"immediate\",\"fromcurrent\":true,\"transition\":{\"duration\":0,\"easing\":\"linear\"}}],\"label\":\"2019\",\"method\":\"animate\"},{\"args\":[[\"2020\"],{\"frame\":{\"duration\":0,\"redraw\":true},\"mode\":\"immediate\",\"fromcurrent\":true,\"transition\":{\"duration\":0,\"easing\":\"linear\"}}],\"label\":\"2020\",\"method\":\"animate\"},{\"args\":[[\"1995\"],{\"frame\":{\"duration\":0,\"redraw\":true},\"mode\":\"immediate\",\"fromcurrent\":true,\"transition\":{\"duration\":0,\"easing\":\"linear\"}}],\"label\":\"1995\",\"method\":\"animate\"},{\"args\":[[\"1996\"],{\"frame\":{\"duration\":0,\"redraw\":true},\"mode\":\"immediate\",\"fromcurrent\":true,\"transition\":{\"duration\":0,\"easing\":\"linear\"}}],\"label\":\"1996\",\"method\":\"animate\"}],\"x\":0.1,\"xanchor\":\"left\",\"y\":0,\"yanchor\":\"top\"}]},                        {\"responsive\": true}                    ).then(function(){\n",
              "                            Plotly.addFrames('f9febad0-da14-4cde-af9e-c75d5f442a65', [{\"data\":[{\"coloraxis\":\"coloraxis\",\"geo\":\"geo\",\"hovertemplate\":\"Year=1997<br>Country=%{location}<br>AvgTemperature=%{z}<extra></extra>\",\"locationmode\":\"country names\",\"locations\":[\"Albania\",\"Algeria\",\"Argentina\",\"Australia\",\"Austria\",\"Bahamas\",\"Bahrain\",\"Bangladesh\",\"Barbados\",\"Belarus\",\"Belgium\",\"Belize\",\"Benin\",\"Bermuda\",\"Bolivia\",\"Brazil\",\"Bulgaria\",\"Burundi\",\"Canada\",\"Central African Republic\",\"China\",\"Colombia\",\"Congo\",\"Costa Rica\",\"Croatia\",\"Cuba\",\"Cyprus\",\"Czech Republic\",\"Denmark\",\"Dominican Republic\",\"Egypt\",\"Equador\",\"Ethiopia\",\"Finland\",\"France\",\"Gabon\",\"Gambia\",\"Georgia\",\"Germany\",\"Greece\",\"Guatemala\",\"Guinea\",\"Guinea-Bissau\",\"Guyana\",\"Haiti\",\"Honduras\",\"Hong Kong\",\"Hungary\",\"Iceland\",\"India\",\"Indonesia\",\"Ireland\",\"Israel\",\"Italy\",\"Ivory Coast\",\"Japan\",\"Jordan\",\"Kazakhstan\",\"Kenya\",\"Kuwait\",\"Kyrgyzstan\",\"Laos\",\"Latvia\",\"Lebanon\",\"Macedonia\",\"Madagascar\",\"Malawi\",\"Malaysia\",\"Mauritania\",\"Mexico\",\"Mongolia\",\"Morocco\",\"Mozambique\",\"Myanmar (Burma)\",\"Namibia\",\"Nepal\",\"New Zealand\",\"Nicaragua\",\"Nigeria\",\"North Korea\",\"Norway\",\"Pakistan\",\"Panama\",\"Peru\",\"Philippines\",\"Poland\",\"Portugal\",\"Qatar\",\"Romania\",\"Russia\",\"Saudi Arabia\",\"Senegal\",\"Serbia-Montenegro\",\"Sierra Leone\",\"Singapore\",\"Slovakia\",\"South Africa\",\"South Korea\",\"Spain\",\"Sri Lanka\",\"Suriname\",\"Sweden\",\"Switzerland\",\"Syria\",\"Taiwan\",\"Tajikistan\",\"Tanzania\",\"Thailand\",\"The Netherlands\",\"Togo\",\"Tunisia\",\"Turkey\",\"Turkmenistan\",\"US\",\"Uganda\",\"Ukraine\",\"United Arab Emirates\",\"United Kingdom\",\"Uruguay\",\"Uzbekistan\",\"Venezuela\",\"Vietnam\",\"Yugoslavia\",\"Zambia\"],\"name\":\"\",\"z\":[71.93478260869566,64.92630136986301,63.14383561643836,62.15178082191781,49.6827397260274,77.23691460055096,78.7972602739726,77.15481927710844,80.78,43.69275766016713,51.248901098901094,81.85883977900554,80.90614525139665,71.25188284518829,45.04547945205479,71.55490767735665,48.78,78.43391304347826,45.18237716975581,78.83278688524591,61.34661781285231,56.23150684931507,78.52470588235295,73.29063360881543,51.82138888888889,77.2272997032641,63.424637681159425,46.34120879120879,47.078630136986305,79.40552486187845,70.76657534246576,69.07686676427525,62.87546583850932,42.47202216066482,56.87465753424657,80.52794117647059,79.756,55.50547945205479,49.17304785894207,63.93534246575343,67.53561643835616,82.54428571428572,83.40970149253731,80.69999999999999,87.43142857142857,72.06363636363636,75.25315068493151,50.38602739726028,41.36821917808219,79.58924657534247,82.58518518518518,50.08958904109589,68.4775,57.5854794520548,80.28463687150838,55.9392694063927,62.61287671232877,51.95885714285714,66.86888888888889,79.12258953168045,29.703333333333333,81.53816155988858,45.75371900826446,68.64246575342466,54.949041095890415,66.86541786743516,68.17662835249041,81.97190082644627,79.42616279069767,68.4449602122016,45.95643939393939,64.58876712328768,73.9665644171779,81.75530085959885,67.58407821229049,58.15454545454545,58.70328767123288,81.91041095890411,85.85581395348838,51.692582417582415,43.94914772727273,74.13425797503467,81.85287671232877,71.93095890410959,81.7854794520548,46.82222222222222,64.80027472527472,80.69228650137741,50.571349862258955,48.67830985915493,78.41150684931507,76.78021978021978,49.02602739726027,82.41333333333334,82.96082191780822,50.100273972602736,61.751506849315064,52.60246575342466,60.825479452054786,81.53136531365314,78.90559701492538,45.30821917808219,50.25100548446069,61.67032967032967,73.14767123287672,67.08242424242424,78.38387096774194,85.98931506849314,50.4882191780822,80.90114068441065,67.09150684931507,52.99312242090784,63.038356164383565,56.07837595413134,72.64893617021276,46.54410112359551,80.8182191780822,52.67379972565158,60.919999999999995,60.76424418604652,80.17397260273972,75.91808219178081,52.22438356164384,72.88607594936708],\"type\":\"choropleth\"}],\"name\":\"1997\"},{\"data\":[{\"coloraxis\":\"coloraxis\",\"geo\":\"geo\",\"hovertemplate\":\"Year=1998<br>Country=%{location}<br>AvgTemperature=%{z}<extra></extra>\",\"locationmode\":\"country names\",\"locations\":[\"Albania\",\"Algeria\",\"Argentina\",\"Australia\",\"Austria\",\"Bahamas\",\"Bahrain\",\"Bangladesh\",\"Barbados\",\"Belarus\",\"Belgium\",\"Belize\",\"Benin\",\"Bermuda\",\"Bolivia\",\"Brazil\",\"Bulgaria\",\"Burundi\",\"Canada\",\"Central African Republic\",\"China\",\"Colombia\",\"Congo\",\"Costa Rica\",\"Croatia\",\"Cuba\",\"Cyprus\",\"Czech Republic\",\"Denmark\",\"Dominican Republic\",\"Egypt\",\"Equador\",\"Ethiopia\",\"Finland\",\"France\",\"Gabon\",\"Gambia\",\"Georgia\",\"Germany\",\"Greece\",\"Guatemala\",\"Guinea\",\"Guinea-Bissau\",\"Guyana\",\"Honduras\",\"Hong Kong\",\"Hungary\",\"Iceland\",\"India\",\"Indonesia\",\"Ireland\",\"Israel\",\"Italy\",\"Ivory Coast\",\"Japan\",\"Jordan\",\"Kazakhstan\",\"Kenya\",\"Kuwait\",\"Kyrgyzstan\",\"Laos\",\"Latvia\",\"Lebanon\",\"Macedonia\",\"Madagascar\",\"Malawi\",\"Malaysia\",\"Mauritania\",\"Mexico\",\"Mongolia\",\"Morocco\",\"Mozambique\",\"Myanmar (Burma)\",\"Namibia\",\"Nepal\",\"New Zealand\",\"Nicaragua\",\"Nigeria\",\"North Korea\",\"Norway\",\"Pakistan\",\"Panama\",\"Peru\",\"Philippines\",\"Poland\",\"Portugal\",\"Qatar\",\"Romania\",\"Russia\",\"Saudi Arabia\",\"Senegal\",\"Serbia-Montenegro\",\"Singapore\",\"Slovakia\",\"South Africa\",\"South Korea\",\"Spain\",\"Sri Lanka\",\"Suriname\",\"Sweden\",\"Switzerland\",\"Syria\",\"Taiwan\",\"Tajikistan\",\"Tanzania\",\"Thailand\",\"The Netherlands\",\"Togo\",\"Tunisia\",\"Turkey\",\"Turkmenistan\",\"US\",\"Uganda\",\"Ukraine\",\"United Arab Emirates\",\"United Kingdom\",\"Uruguay\",\"Uzbekistan\",\"Venezuela\",\"Vietnam\",\"Yugoslavia\",\"Zambia\"],\"name\":\"\",\"z\":[61.6125,63.6196675900277,61.76111111111111,62.200845921450146,51.337950138504155,78.08186968838527,82.20083102493075,79.2870588235294,81.53527777777778,45.48247126436782,51.2983379501385,81.95838150289016,82.29745454545454,72.71472222222222,46.94542936288089,72.70339855818743,50.73711911357341,82.4,47.684648995048065,79.21158940397352,62.427914798206274,57.35302593659942,79.27089201877935,73.75055555555556,52.350280898876406,76.64134897360704,71.31666666666666,47.88527777777778,46.674515235457065,79.52,72.6399441340782,68.56961483594866,62.407954545454544,41.98672316384181,55.47374301675977,80.53563218390805,79.80953947368421,58.17285318559557,50.48752997601918,65.50193370165746,67.88695652173914,83.62727272727273,84.30000000000001,81.9,72.91284916201117,76.24570637119113,51.53591160220994,40.365927977839334,80.54767522553782,83.10119999999999,49.86925207756232,71.09542682926829,57.41343490304709,81.11357340720221,57.022232558139535,65.46315789473684,49.41516853932584,65.99840637450198,81.05789473684212,53.53356401384083,83.12612359550562,42.653225806451616,70.43130193905817,56.08991596638655,65.32076023391814,71.40099502487563,83.92086956521739,78.95686274509804,71.09475862068965,45.919330855018586,63.82200557103064,75.17703488372094,83.08489425981873,71.33732590529247,67.64069400630915,61.25429362880886,83.04583333333333,85.34302670623146,54.00760563380282,41.38444444444444,76.08030726256983,82.2409972299169,69.50221606648199,83.17944444444444,47.321508379888265,63.74679665738161,83.07783933518004,52.098055555555554,50.4963768115942,80.72229916897507,77.05263157894737,50.67478991596639,83.1202216066482,51.81305555555556,61.85844875346261,54.815193370165744,59.66315789473684,82.82164634146342,79.8329268292683,44.057500000000005,50.19037927844589,64.40886426592797,74.60583333333332,62.88433734939758,79.07587301587301,83.8398891966759,51.12243767313019,82.04984520123838,66.6,55.64349030470914,64.45612244897958,58.503832869870166,73.7968253968254,47.609887005649725,83.73864265927978,51.775900277008304,59.842659279778395,59.678525641025644,80.69085872576177,77.1036111111111,53.92797783933518,74.55692883895131],\"type\":\"choropleth\"}],\"name\":\"1998\"},{\"data\":[{\"coloraxis\":\"coloraxis\",\"geo\":\"geo\",\"hovertemplate\":\"Year=1999<br>Country=%{location}<br>AvgTemperature=%{z}<extra></extra>\",\"locationmode\":\"country names\",\"locations\":[\"Albania\",\"Algeria\",\"Argentina\",\"Australia\",\"Austria\",\"Bahamas\",\"Bahrain\",\"Bangladesh\",\"Barbados\",\"Belarus\",\"Belgium\",\"Belize\",\"Benin\",\"Bermuda\",\"Bolivia\",\"Brazil\",\"Bulgaria\",\"Burundi\",\"Canada\",\"Central African Republic\",\"China\",\"Colombia\",\"Congo\",\"Costa Rica\",\"Croatia\",\"Cuba\",\"Cyprus\",\"Czech Republic\",\"Denmark\",\"Dominican Republic\",\"Egypt\",\"Equador\",\"Ethiopia\",\"Finland\",\"France\",\"Gabon\",\"Gambia\",\"Georgia\",\"Germany\",\"Greece\",\"Guatemala\",\"Guinea\",\"Guyana\",\"Haiti\",\"Honduras\",\"Hong Kong\",\"Hungary\",\"Iceland\",\"India\",\"Indonesia\",\"Ireland\",\"Israel\",\"Italy\",\"Ivory Coast\",\"Japan\",\"Jordan\",\"Kazakhstan\",\"Kenya\",\"Kuwait\",\"Kyrgyzstan\",\"Laos\",\"Latvia\",\"Lebanon\",\"Macedonia\",\"Madagascar\",\"Malawi\",\"Malaysia\",\"Mauritania\",\"Mexico\",\"Mongolia\",\"Morocco\",\"Mozambique\",\"Myanmar (Burma)\",\"Namibia\",\"Nepal\",\"New Zealand\",\"Nicaragua\",\"Nigeria\",\"North Korea\",\"Norway\",\"Pakistan\",\"Panama\",\"Peru\",\"Philippines\",\"Poland\",\"Portugal\",\"Qatar\",\"Romania\",\"Russia\",\"Saudi Arabia\",\"Senegal\",\"Serbia-Montenegro\",\"Singapore\",\"Slovakia\",\"South Africa\",\"South Korea\",\"Spain\",\"Sri Lanka\",\"Suriname\",\"Sweden\",\"Switzerland\",\"Syria\",\"Taiwan\",\"Tajikistan\",\"Tanzania\",\"Thailand\",\"The Netherlands\",\"Togo\",\"Tunisia\",\"Turkey\",\"Turkmenistan\",\"US\",\"Uganda\",\"Ukraine\",\"United Arab Emirates\",\"United Kingdom\",\"Uruguay\",\"Uzbekistan\",\"Venezuela\",\"Vietnam\",\"Yugoslavia\",\"Zambia\"],\"name\":\"\",\"z\":[63.11696113074204,64.92362637362638,61.83571428571429,62.472362637362636,50.955219780219785,77.66166666666666,82.29587912087912,77.0878787878788,80.54340659340659,47.376111111111115,52.12582417582417,80.31587743732591,81.27150997150997,72.62307692307692,44.34065934065934,71.38425414364642,51.12754820936639,77.4,46.808946608946606,78.55723076923077,61.1859357696567,56.05505617977528,78.3449567723343,71.48708791208792,53.657300275482086,75.71742857142857,65.79868421052632,48.03939393939394,47.676373626373625,78.80911680911682,72.28489010989011,65.77938596491228,62.63333333333334,44.62118644067797,56.097390109890114,79.79820895522388,78.51615598885793,57.19505494505494,51.00147895335609,66.71675824175824,65.83186813186813,81.59954954954954,83.43552123552124,84.38245614035088,71.09885057471264,75.53846153846153,50.64862637362637,39.9521978021978,80.43844566712517,82.47602040816327,49.81895604395604,70.81768292682926,57.8081043956044,80.57300613496932,56.89861751152074,64.93928571428572,50.37222222222222,67.93066666666667,81.26611570247934,53.004748603351956,80.71795580110498,47.41138888888889,70.56181318681318,54.72664835164835,65.13735632183908,70.32866666666666,81.24478021978021,76.91855072463768,69.43645943097998,46.86854838709677,62.81291208791209,74.85158501440922,81.23694915254238,68.7511049723757,68.21140065146581,60.20851648351649,81.09148351648352,83.22067901234568,52.66408839779006,42.86760563380282,76.92963503649635,80.83434065934067,66.75054945054946,81.43911845730028,48.45357142857142,63.27024793388429,83.42032967032966,53.31675824175824,50.35314685314685,80.9885989010989,74.97162534435262,43.74243902439025,81.60329670329669,51.49917582417583,63.13159340659341,53.78461538461538,59.36190476190476,81.08655172413792,79.05375000000001,47.20495867768595,50.03979686057248,63.926373626373625,70.27594936708861,67.71359649122807,77.78996655518395,81.7076923076923,52.05769230769231,81.26792452830189,67.71346153846154,56.02101648351649,64.4065934065934,57.63896160941755,72.10894736842106,49.131404958677685,83.34436813186812,52.10674931129476,59.69175824175824,60.31318681318681,79.07301136363637,75.91456043956045,53.96997245179063,71.8013201320132],\"type\":\"choropleth\"}],\"name\":\"1999\"},{\"data\":[{\"coloraxis\":\"coloraxis\",\"geo\":\"geo\",\"hovertemplate\":\"Year=2000<br>Country=%{location}<br>AvgTemperature=%{z}<extra></extra>\",\"locationmode\":\"country names\",\"locations\":[\"Albania\",\"Algeria\",\"Argentina\",\"Australia\",\"Austria\",\"Bahamas\",\"Bahrain\",\"Bangladesh\",\"Barbados\",\"Belarus\",\"Belgium\",\"Belize\",\"Benin\",\"Bermuda\",\"Bolivia\",\"Brazil\",\"Bulgaria\",\"Canada\",\"Central African Republic\",\"China\",\"Colombia\",\"Congo\",\"Costa Rica\",\"Croatia\",\"Cuba\",\"Cyprus\",\"Czech Republic\",\"Denmark\",\"Dominican Republic\",\"Egypt\",\"Equador\",\"Ethiopia\",\"Finland\",\"France\",\"Gabon\",\"Gambia\",\"Georgia\",\"Germany\",\"Greece\",\"Guatemala\",\"Guinea\",\"Guyana\",\"Haiti\",\"Honduras\",\"Hong Kong\",\"Hungary\",\"Iceland\",\"India\",\"Indonesia\",\"Ireland\",\"Israel\",\"Italy\",\"Ivory Coast\",\"Japan\",\"Jordan\",\"Kazakhstan\",\"Kenya\",\"Kuwait\",\"Kyrgyzstan\",\"Laos\",\"Latvia\",\"Lebanon\",\"Macedonia\",\"Madagascar\",\"Malawi\",\"Malaysia\",\"Mauritania\",\"Mexico\",\"Mongolia\",\"Morocco\",\"Mozambique\",\"Myanmar (Burma)\",\"Namibia\",\"Nepal\",\"New Zealand\",\"Nicaragua\",\"Nigeria\",\"North Korea\",\"Norway\",\"Pakistan\",\"Panama\",\"Peru\",\"Philippines\",\"Poland\",\"Portugal\",\"Qatar\",\"Romania\",\"Russia\",\"Saudi Arabia\",\"Senegal\",\"Serbia-Montenegro\",\"Singapore\",\"Slovakia\",\"South Africa\",\"South Korea\",\"Spain\",\"Sri Lanka\",\"Suriname\",\"Sweden\",\"Switzerland\",\"Syria\",\"Taiwan\",\"Tajikistan\",\"Tanzania\",\"Thailand\",\"The Netherlands\",\"Togo\",\"Tunisia\",\"Turkey\",\"Turkmenistan\",\"US\",\"Uganda\",\"Ukraine\",\"United Arab Emirates\",\"United Kingdom\",\"Uruguay\",\"Uzbekistan\",\"Venezuela\",\"Vietnam\",\"Yugoslavia\",\"Zambia\"],\"name\":\"\",\"z\":[63.17694524495678,64.1827868852459,62.39616438356164,62.25021857923497,52.759562841530055,77.37912087912088,80.60601092896175,79.09855072463768,80.22575342465754,47.1760989010989,52.31502732240437,80.41917808219178,81.90162337662338,71.6027397260274,44.28849315068493,72.17059360730593,51.7275956284153,46.2421968787515,78.33728323699422,61.44150837988827,55.340273972602745,76.91198830409357,72.23030303030302,55.854120879120885,75.1487106017192,72.80611510791367,49.08196721311475,48.31475409836066,78.83785310734463,71.23698630136987,65.29986052998605,62.53694029850747,44.83774104683196,55.76420765027323,79.25542857142858,78.89413793103448,57.17896174863388,52.25988372093023,65.80218579234972,65.85027472527473,80.94067796610169,82.6364705882353,84.01166666666667,71.12877094972066,75.23497267759562,53.127049180327866,40.175683060109286,80.20862422997946,83.0276923076923,48.941803278688525,69.84301369863014,58.03789329685362,79.88882521489971,56.106953339432756,63.86256830601093,50.58864265927978,65.96,80.28224043715846,54.256830601092894,80.77540983606558,47.636986301369866,69.42349726775956,54.17185792349727,65.1139941690962,66.45735294117648,81.77707182320442,77.5825,68.95987963891675,47.708400000000005,63.35245901639344,74.18338762214984,80.84550561797752,68.03626062322947,65.76699346405229,59.89123287671233,81.42444444444445,84.46188436830835,51.109695290858724,43.74958904109589,79.21173553719008,81.2603825136612,65.70191780821918,81.90437158469945,49.372950819672134,62.27650273224044,82.2688524590164,53.95150684931507,49.720943134535375,79.9275956284153,75.59173553719008,52.2260989010989,81.574043715847,53.201912568306014,62.618032786885244,52.37568306010929,58.68360655737705,81.02,79.7609375,47.50054945054945,51.06207839562443,63.09836065573771,73.22299651567944,61.024844720496894,78.59917012448133,82.29754098360657,51.838524590163935,81.16239554317549,67.11967213114754,54.59546079779918,64.22377049180328,56.81129838469228,71.87118055555555,49.25851648351648,82.325,51.43821917808219,60.41397260273972,60.7863387978142,80.19173553719008,74.37814207650274,56.7372602739726,72.78242424242424],\"type\":\"choropleth\"}],\"name\":\"2000\"},{\"data\":[{\"coloraxis\":\"coloraxis\",\"geo\":\"geo\",\"hovertemplate\":\"Year=2001<br>Country=%{location}<br>AvgTemperature=%{z}<extra></extra>\",\"locationmode\":\"country names\",\"locations\":[\"Albania\",\"Algeria\",\"Argentina\",\"Australia\",\"Austria\",\"Bahamas\",\"Bahrain\",\"Bangladesh\",\"Barbados\",\"Belarus\",\"Belgium\",\"Belize\",\"Benin\",\"Bermuda\",\"Bolivia\",\"Brazil\",\"Bulgaria\",\"Canada\",\"Central African Republic\",\"China\",\"Colombia\",\"Congo\",\"Costa Rica\",\"Croatia\",\"Cuba\",\"Cyprus\",\"Czech Republic\",\"Denmark\",\"Dominican Republic\",\"Egypt\",\"Equador\",\"Ethiopia\",\"Finland\",\"France\",\"Gabon\",\"Gambia\",\"Georgia\",\"Germany\",\"Greece\",\"Guatemala\",\"Guinea\",\"Guyana\",\"Haiti\",\"Honduras\",\"Hong Kong\",\"Hungary\",\"Iceland\",\"India\",\"Indonesia\",\"Ireland\",\"Israel\",\"Italy\",\"Ivory Coast\",\"Japan\",\"Jordan\",\"Kazakhstan\",\"Kenya\",\"Kuwait\",\"Kyrgyzstan\",\"Laos\",\"Latvia\",\"Lebanon\",\"Macedonia\",\"Madagascar\",\"Malawi\",\"Malaysia\",\"Mauritania\",\"Mexico\",\"Mongolia\",\"Morocco\",\"Mozambique\",\"Myanmar (Burma)\",\"Namibia\",\"Nepal\",\"New Zealand\",\"Nicaragua\",\"Nigeria\",\"North Korea\",\"Norway\",\"Oman\",\"Pakistan\",\"Panama\",\"Peru\",\"Philippines\",\"Poland\",\"Portugal\",\"Qatar\",\"Romania\",\"Russia\",\"Saudi Arabia\",\"Senegal\",\"Serbia-Montenegro\",\"Singapore\",\"Slovakia\",\"South Africa\",\"South Korea\",\"Spain\",\"Sri Lanka\",\"Suriname\",\"Sweden\",\"Switzerland\",\"Syria\",\"Taiwan\",\"Tajikistan\",\"Tanzania\",\"Thailand\",\"The Netherlands\",\"Togo\",\"Tunisia\",\"Turkey\",\"Turkmenistan\",\"US\",\"Uganda\",\"Ukraine\",\"United Arab Emirates\",\"United Kingdom\",\"Uruguay\",\"Uzbekistan\",\"Venezuela\",\"Vietnam\",\"Yugoslavia\",\"Zambia\"],\"name\":\"\",\"z\":[61.2356,64.66986301369863,63.339835164835165,62.22906593406593,50.82301369863014,77.46785714285714,81.32301369863013,78.9565693430657,80.69530386740331,46.42647887323944,51.587397260273974,80.95357142857142,81.54407713498622,71.1076923076923,44.81043956043956,72.83223443223443,50.85,46.722940835266826,77.97242339832869,61.8,55.84038461538462,77.4595567867036,73.28980716253444,54.16164383561644,75.26938202247192,67.9695890410959,46.97013698630136,46.67643835616439,79.27802816901409,72.7372602739726,65.93240997229917,63.91201923076923,44.1178674351585,55.21260273972602,79.2939393939394,79.8253125,57.101381215469615,49.56413708690331,66.14054794520548,66.24578651685393,81.39413580246914,83.50275862068965,85.43493150684931,72.12527777777777,75.57452054794521,51.44027397260274,41.54821917808219,79.83392734749829,82.73125,48.88657534246575,69.88967551622419,57.57534246575342,79.95305555555555,55.77879069767442,65.14986301369863,51.81168091168092,65.20121212121212,80.7813698630137,54.7856338028169,81.3656338028169,46.67325905292479,70.93205479452055,55.125277777777775,66.20657534246575,68.012,81.98191780821918,78.69606741573034,68.75888888888889,46.712109375,63.95616438356164,74.75042492917848,81.20876712328767,71.00393700787401,65.9958217270195,59.79035812672177,82.07225274725275,83.15096153846153,52.29943820224719,42.06103151862464,83.33724928366762,76.50494505494505,80.35509641873278,65.16914600550965,82.32148760330578,47.20961538461538,62.21917808219178,82.9868493150685,52.98794520547945,50.33152639087019,80.2792866941015,76.9304109589041,52.57877094972067,81.70849315068493,51.12,62.144657534246576,53.26117318435754,58.61369863013699,81.06988950276244,79.53850931677019,46.42729805013928,50.23043875685558,64.82520547945205,73.72701949860725,61.329019607843136,78.0011673151751,82.64876712328767,51.153424657534245,81.00137362637362,67.51260273972602,56.735342465753426,64.28739726027398,57.23221909473942,71.73971830985916,48.6267955801105,82.52,51.06227709190672,61.88131868131868,61.3172602739726,82.285,74.33890410958904,53.87890410958904,72.72017291066282],\"type\":\"choropleth\"}],\"name\":\"2001\"},{\"data\":[{\"coloraxis\":\"coloraxis\",\"geo\":\"geo\",\"hovertemplate\":\"Year=2002<br>Country=%{location}<br>AvgTemperature=%{z}<extra></extra>\",\"locationmode\":\"country names\",\"locations\":[\"Albania\",\"Algeria\",\"Argentina\",\"Australia\",\"Austria\",\"Bahamas\",\"Bahrain\",\"Bangladesh\",\"Barbados\",\"Belarus\",\"Belgium\",\"Belize\",\"Benin\",\"Bermuda\",\"Bolivia\",\"Brazil\",\"Bulgaria\",\"Canada\",\"Central African Republic\",\"China\",\"Colombia\",\"Congo\",\"Costa Rica\",\"Croatia\",\"Cuba\",\"Cyprus\",\"Czech Republic\",\"Denmark\",\"Dominican Republic\",\"Egypt\",\"Equador\",\"Ethiopia\",\"Finland\",\"France\",\"Gabon\",\"Gambia\",\"Georgia\",\"Germany\",\"Greece\",\"Guatemala\",\"Guinea\",\"Guyana\",\"Haiti\",\"Honduras\",\"Hong Kong\",\"Hungary\",\"Iceland\",\"India\",\"Indonesia\",\"Ireland\",\"Israel\",\"Italy\",\"Ivory Coast\",\"Japan\",\"Jordan\",\"Kazakhstan\",\"Kenya\",\"Kuwait\",\"Kyrgyzstan\",\"Laos\",\"Latvia\",\"Lebanon\",\"Macedonia\",\"Madagascar\",\"Malawi\",\"Malaysia\",\"Mauritania\",\"Mexico\",\"Mongolia\",\"Morocco\",\"Mozambique\",\"Myanmar (Burma)\",\"Namibia\",\"Nepal\",\"New Zealand\",\"Nicaragua\",\"Nigeria\",\"North Korea\",\"Norway\",\"Oman\",\"Pakistan\",\"Panama\",\"Peru\",\"Philippines\",\"Poland\",\"Portugal\",\"Qatar\",\"Romania\",\"Russia\",\"Saudi Arabia\",\"Senegal\",\"Serbia-Montenegro\",\"Sierra Leone\",\"Singapore\",\"Slovakia\",\"South Africa\",\"South Korea\",\"Spain\",\"Sri Lanka\",\"Suriname\",\"Sweden\",\"Switzerland\",\"Syria\",\"Taiwan\",\"Tajikistan\",\"Tanzania\",\"Thailand\",\"The Netherlands\",\"Togo\",\"Tunisia\",\"Turkey\",\"Turkmenistan\",\"US\",\"Uganda\",\"Ukraine\",\"United Arab Emirates\",\"United Kingdom\",\"Uruguay\",\"Uzbekistan\",\"Venezuela\",\"Vietnam\",\"Yugoslavia\",\"Zambia\"],\"name\":\"\",\"z\":[63.30126582278481,64.13545706371191,63.00666666666667,62.690333333333335,51.86897506925208,78.96333333333334,80.86592797783933,78.62374429223743,81.22888888888889,47.56136363636363,52.33351800554017,81.36416666666666,81.38690807799443,72.14305555555555,45.74555555555556,73.03274418604651,50.43407202216067,45.18529238038984,78.13183098591549,61.14826815642458,56.82138888888889,78.35112359550561,74.10473537604456,54.75472222222223,76.44222222222223,67.40430107526882,48.2398891966759,47.97340720221607,79.65181058495821,72.51052631578948,67.05868347338935,66.15535714285714,43.43732193732194,55.76371191135734,79.73222222222222,79.05185185185185,56.285595567867034,51.218491484184916,65.19529085872576,67.1406162464986,81.74135802469137,83.32925925925926,85.93492647058824,72.22237960339943,75.86759002770083,52.79584487534626,41.92493074792244,80.67814018043026,85.46666666666667,49.9573407202216,70.57130681818181,57.34515235457064,80.42662116040955,55.93361111111111,63.94847645429363,50.961408450704226,65.81350210970464,80.45055555555555,54.3733893557423,80.90777777777778,47.27078651685394,70.27950138504156,53.85861111111111,65.93019390581718,72.18031496062991,82.70997229916897,77.7632768361582,68.96233766233766,47.41528925619835,63.30609418282548,74.92216066481996,81.94777777777777,73.01190476190476,66.30518731988474,59.51538461538462,82.14916666666667,83.64972375690608,51.34240687679083,42.74380403458213,83.5945558739255,76.54392655367232,82.17750000000001,66.22361111111111,82.05305555555555,49.30478873239437,62.320775623268695,82.69307479224376,53.229050279329606,49.95912408759124,79.64903047091413,75.93826815642458,53.21303116147309,81.88181818181819,82.60554016620499,52.37839335180055,61.86371191135734,53.08060941828254,59.49556786703601,80.86583333333334,79.87058823529412,46.7125348189415,50.82025901942645,63.814958448753465,75.00332409972299,60.48864265927978,78.14590163934426,84.72908587257618,51.602216066482,81.32861842105264,66.86952908587259,55.11727019498607,63.291966759002776,56.90633318603623,72.53025477707007,49.82140845070422,82.97229916897507,51.85783633841886,61.23638888888888,60.86177285318559,81.88666666666667,75.08365650969529,55.37638888888889,71.04305949008499],\"type\":\"choropleth\"}],\"name\":\"2002\"},{\"data\":[{\"coloraxis\":\"coloraxis\",\"geo\":\"geo\",\"hovertemplate\":\"Year=2003<br>Country=%{location}<br>AvgTemperature=%{z}<extra></extra>\",\"locationmode\":\"country names\",\"locations\":[\"Albania\",\"Algeria\",\"Argentina\",\"Australia\",\"Austria\",\"Bahamas\",\"Bahrain\",\"Bangladesh\",\"Barbados\",\"Belarus\",\"Belgium\",\"Belize\",\"Benin\",\"Bermuda\",\"Bolivia\",\"Brazil\",\"Bulgaria\",\"Burundi\",\"Canada\",\"Central African Republic\",\"China\",\"Colombia\",\"Congo\",\"Costa Rica\",\"Croatia\",\"Cuba\",\"Cyprus\",\"Czech Republic\",\"Denmark\",\"Dominican Republic\",\"Egypt\",\"Equador\",\"Ethiopia\",\"Finland\",\"France\",\"Gabon\",\"Gambia\",\"Georgia\",\"Germany\",\"Greece\",\"Guatemala\",\"Guinea\",\"Guyana\",\"Haiti\",\"Honduras\",\"Hong Kong\",\"Hungary\",\"Iceland\",\"India\",\"Indonesia\",\"Ireland\",\"Israel\",\"Italy\",\"Ivory Coast\",\"Japan\",\"Jordan\",\"Kazakhstan\",\"Kenya\",\"Kuwait\",\"Kyrgyzstan\",\"Laos\",\"Latvia\",\"Lebanon\",\"Macedonia\",\"Madagascar\",\"Malawi\",\"Malaysia\",\"Mauritania\",\"Mexico\",\"Mongolia\",\"Morocco\",\"Mozambique\",\"Myanmar (Burma)\",\"Namibia\",\"Nepal\",\"New Zealand\",\"Nicaragua\",\"Nigeria\",\"North Korea\",\"Norway\",\"Oman\",\"Pakistan\",\"Panama\",\"Peru\",\"Philippines\",\"Poland\",\"Portugal\",\"Qatar\",\"Romania\",\"Russia\",\"Saudi Arabia\",\"Senegal\",\"Serbia-Montenegro\",\"Sierra Leone\",\"Singapore\",\"Slovakia\",\"South Africa\",\"South Korea\",\"Spain\",\"Sri Lanka\",\"Suriname\",\"Sweden\",\"Switzerland\",\"Syria\",\"Taiwan\",\"Tajikistan\",\"Tanzania\",\"Thailand\",\"The Netherlands\",\"Togo\",\"Tunisia\",\"Turkey\",\"Turkmenistan\",\"US\",\"Uganda\",\"Ukraine\",\"United Arab Emirates\",\"United Kingdom\",\"Uruguay\",\"Uzbekistan\",\"Venezuela\",\"Vietnam\",\"Yugoslavia\",\"Zambia\"],\"name\":\"\",\"z\":[63.65484764542936,65.49340659340659,61.92424242424242,62.3826806398235,51.49506849315069,79.66703296703297,80.9764383561644,78.82487562189054,81.30087463556852,45.7061797752809,52.32383561643836,81.44819944598338,81.84472934472934,72.5013812154696,45.75414364640884,71.83783287419651,50.17205479452055,81.3,47.05255319148936,78.28607954545454,61.11720132743363,56.24944751381215,78.39479452054795,73.48980716253443,54.459452054794525,76.27438016528926,58.121428571428574,48.11260273972602,47.11150684931507,79.7782729805014,72.34945054945055,67.27875,64.15,43.48362068965517,56.390821917808225,79.86470588235294,79.66646341463414,55.84465753424657,48.66315086782376,64.9186301369863,67.23109243697479,81.5051575931232,83.01422222222223,87.50718562874252,71.7556473829201,75.74657534246575,51.85426997245179,43.20164383561644,80.14256339958877,84.45,49.970684931506845,69.74182825484765,58.35890410958904,80.28504983388704,55.33424908424909,63.907692307692315,48.41961325966851,66.6752380952381,80.83643835616438,53.259340659340666,80.73956043956044,46.63781512605042,70.11972602739726,54.658516483516486,65.86318681318681,70.972,82.15315068493152,77.51033519553073,68.81958762886597,45.652800000000006,63.815384615384616,75.1899135446686,81.72197802197802,73.8751677852349,67.14931129476584,59.297759103641454,81.9060773480663,84.34647302904564,52.648179271708685,43.105949008498584,82.765,75.68260273972604,82.10304709141275,65.73121546961326,82.05386740331491,47.32203856749312,63.05835616438356,82.7695890410959,51.93983516483516,49.31860095389507,79.96598079561042,75.94383561643835,53.04986301369863,81.21272189349114,82.07637362637362,52.26528925619834,62.15879120879121,53.521270718232046,61.50411334552103,81.3854794520548,81.906875,46.71061452513967,51.46550458715596,63.87637362637363,74.35824175824176,59.300821917808214,79.39164179104478,84.49232876712328,51.27095890410959,81.35702005730658,67.79504132231405,54.85939643347051,62.26657534246575,56.93536538054596,72.55620437956205,47.701949860724234,83.39438356164383,51.83475274725274,60.49088397790055,60.167671232876714,82.11928374655648,75.97945205479452,53.7543956043956,69.17877906976744],\"type\":\"choropleth\"}],\"name\":\"2003\"},{\"data\":[{\"coloraxis\":\"coloraxis\",\"geo\":\"geo\",\"hovertemplate\":\"Year=2004<br>Country=%{location}<br>AvgTemperature=%{z}<extra></extra>\",\"locationmode\":\"country names\",\"locations\":[\"Albania\",\"Algeria\",\"Argentina\",\"Australia\",\"Austria\",\"Bahamas\",\"Bahrain\",\"Bangladesh\",\"Barbados\",\"Belarus\",\"Belgium\",\"Belize\",\"Benin\",\"Bermuda\",\"Bolivia\",\"Brazil\",\"Bulgaria\",\"Burundi\",\"Canada\",\"Central African Republic\",\"China\",\"Colombia\",\"Congo\",\"Costa Rica\",\"Croatia\",\"Cuba\",\"Cyprus\",\"Czech Republic\",\"Denmark\",\"Dominican Republic\",\"Egypt\",\"Equador\",\"Ethiopia\",\"Finland\",\"France\",\"Gabon\",\"Gambia\",\"Georgia\",\"Germany\",\"Greece\",\"Guatemala\",\"Guinea\",\"Guyana\",\"Haiti\",\"Honduras\",\"Hong Kong\",\"Hungary\",\"Iceland\",\"India\",\"Indonesia\",\"Ireland\",\"Israel\",\"Italy\",\"Ivory Coast\",\"Japan\",\"Jordan\",\"Kazakhstan\",\"Kenya\",\"Kuwait\",\"Kyrgyzstan\",\"Laos\",\"Latvia\",\"Lebanon\",\"Macedonia\",\"Madagascar\",\"Malaysia\",\"Mauritania\",\"Mexico\",\"Mongolia\",\"Morocco\",\"Mozambique\",\"Myanmar (Burma)\",\"Namibia\",\"Nepal\",\"New Zealand\",\"Nicaragua\",\"Nigeria\",\"North Korea\",\"Norway\",\"Oman\",\"Pakistan\",\"Panama\",\"Peru\",\"Philippines\",\"Poland\",\"Portugal\",\"Qatar\",\"Romania\",\"Russia\",\"Saudi Arabia\",\"Senegal\",\"Serbia-Montenegro\",\"Sierra Leone\",\"Singapore\",\"Slovakia\",\"South Africa\",\"South Korea\",\"Spain\",\"Sri Lanka\",\"Suriname\",\"Sweden\",\"Switzerland\",\"Syria\",\"Taiwan\",\"Tajikistan\",\"Tanzania\",\"Thailand\",\"The Netherlands\",\"Togo\",\"Tunisia\",\"Turkey\",\"Turkmenistan\",\"US\",\"Uganda\",\"Ukraine\",\"United Arab Emirates\",\"United Kingdom\",\"Uruguay\",\"Uzbekistan\",\"Venezuela\",\"Vietnam\",\"Yugoslavia\",\"Zambia\"],\"name\":\"\",\"z\":[61.523835616438355,64.08743169398907,62.625956284153,62.51846994535519,50.60300546448087,78.2649275362319,80.77841530054646,78.91494845360825,81.33659217877096,45.5645251396648,51.62978142076503,81.36404494382022,81.28360655737704,71.33661202185793,45.880874316939895,71.49553734061931,50.5396174863388,76.61333333333333,46.15806547619048,78.31787709497206,61.624322830292975,55.59808743169399,78.33214285714286,73.32197802197803,53.04726775956284,76.22361111111111,72.95276595744681,47.702203856749314,47.06693989071038,79.04501424501424,72.27021857923498,68.6120178041543,63.443999999999996,42.69213483146067,54.93183060109289,79.83543543543544,79.43263473053892,56.67131147540984,50.524317617866004,64.65491803278688,66.74944444444444,81.92786885245901,84.06299212598425,86.29314285714285,71.93982808022923,75.33142076502732,48.69672131147541,42.29071038251366,80.20416666666667,84.78446601941747,49.881967213114756,69.2976401179941,56.817622950819676,80.57306590257879,57.21157702825889,64.25956284153006,51.046927374301674,67.55497076023391,80.39180327868853,54.34410958904109,80.20819672131148,45.271232876712325,69.7379781420765,54.07978142076503,65.35382513661202,82.09262295081967,77.61685082872928,68.44817596566523,47.506719367588936,63.39672131147541,74.71213872832371,81.72219178082192,70.07147335423197,67.49720670391062,58.54672131147541,81.52916666666667,84.17490909090908,52.931355932203395,42.61662049861496,83.69686609686609,76.27267759562841,81.81476323119777,66.57868852459016,82.05765027322404,47.238251366120224,62.65561643835616,82.71475409836066,51.91803278688525,43.40172413793103,79.5403005464481,76.1743169398907,42.715,81.85826086956521,82.23989071038251,50.97459016393443,62.67213114754098,54.975890410958904,60.203278688524584,81.03633879781421,81.23790849673202,45.145753424657535,50.1096803652968,63.3655737704918,73.47021857923497,61.16092896174864,78.42604790419162,84.70273224043716,51.278961748633876,81.00961538461539,66.4672131147541,54.720987654320986,63.78114754098361,57.21597021755967,72.72782608695653,47.61366120218579,83.15491803278688,51.44582763337893,61.89098360655737,61.929508196721315,81.48087431693989,73.64262295081967,53.44234972677596,69.14649859943978],\"type\":\"choropleth\"}],\"name\":\"2004\"},{\"data\":[{\"coloraxis\":\"coloraxis\",\"geo\":\"geo\",\"hovertemplate\":\"Year=2005<br>Country=%{location}<br>AvgTemperature=%{z}<extra></extra>\",\"locationmode\":\"country names\",\"locations\":[\"Albania\",\"Algeria\",\"Argentina\",\"Australia\",\"Austria\",\"Bahamas\",\"Bahrain\",\"Bangladesh\",\"Barbados\",\"Belarus\",\"Belgium\",\"Belize\",\"Benin\",\"Bermuda\",\"Bolivia\",\"Brazil\",\"Bulgaria\",\"Burundi\",\"Canada\",\"Central African Republic\",\"China\",\"Colombia\",\"Congo\",\"Costa Rica\",\"Croatia\",\"Cuba\",\"Cyprus\",\"Czech Republic\",\"Denmark\",\"Dominican Republic\",\"Egypt\",\"Equador\",\"Ethiopia\",\"Finland\",\"France\",\"Gabon\",\"Gambia\",\"Georgia\",\"Germany\",\"Greece\",\"Guatemala\",\"Guinea\",\"Guyana\",\"Haiti\",\"Honduras\",\"Hong Kong\",\"Hungary\",\"Iceland\",\"India\",\"Indonesia\",\"Ireland\",\"Israel\",\"Italy\",\"Ivory Coast\",\"Japan\",\"Jordan\",\"Kazakhstan\",\"Kenya\",\"Kuwait\",\"Kyrgyzstan\",\"Laos\",\"Latvia\",\"Lebanon\",\"Macedonia\",\"Madagascar\",\"Malaysia\",\"Mauritania\",\"Mexico\",\"Mongolia\",\"Morocco\",\"Mozambique\",\"Myanmar (Burma)\",\"Namibia\",\"Nepal\",\"New Zealand\",\"Nicaragua\",\"Nigeria\",\"North Korea\",\"Norway\",\"Oman\",\"Pakistan\",\"Panama\",\"Peru\",\"Philippines\",\"Poland\",\"Portugal\",\"Qatar\",\"Romania\",\"Russia\",\"Saudi Arabia\",\"Senegal\",\"Sierra Leone\",\"Singapore\",\"Slovakia\",\"South Africa\",\"South Korea\",\"Spain\",\"Sri Lanka\",\"Suriname\",\"Sweden\",\"Switzerland\",\"Syria\",\"Taiwan\",\"Tajikistan\",\"Tanzania\",\"Thailand\",\"The Netherlands\",\"Togo\",\"Tunisia\",\"Turkey\",\"Turkmenistan\",\"US\",\"Uganda\",\"Ukraine\",\"United Arab Emirates\",\"United Kingdom\",\"Uruguay\",\"Uzbekistan\",\"Venezuela\",\"Vietnam\",\"Yugoslavia\",\"Zambia\"],\"name\":\"\",\"z\":[60.81129476584022,62.91342465753425,62.31150684931507,62.712931506849316,50.302191780821914,79.03865546218488,80.20931506849315,77.85701754385966,82.06191780821918,45.55152354570637,52.14027397260274,81.68860398860399,81.57123287671233,71.23424657534247,45.67205479452055,71.47041095890411,49.591412742382275,74.05098039215686,47.26558499553439,78.54183381088825,61.557439640651324,56.01068493150685,78.37753424657534,72.19835616438357,52.23835616438356,75.96767123287671,66.4295890410959,47.354246575342465,47.11561643835616,79.77,72.03780821917807,68.26739726027397,64.17785016286645,43.66028169014084,55.064060356652945,79.62853185595569,80.1168,57.15726495726496,50.30930232558139,64.27342465753425,66.91346153846153,82.04581005586593,84.06929133858267,85.68904109589042,72.35536723163841,75.07917808219179,48.457967032967034,41.37589041095891,79.9172602739726,84.07959183673469,50.24684931506849,71.19529780564262,56.22958904109589,80.56465753424658,55.57712717291857,64.39123287671232,52.43187134502924,68.34550898203594,80.0121546961326,54.32520775623269,80.8813698630137,45.41353591160221,69.65260273972603,53.053698630136985,65.53671232876712,83.10027397260274,78.54401114206128,69.80034052213394,48.795102040816325,62.97260273972603,74.53081395348836,82.3841095890411,70.92760563380281,68.19119318181818,60.49178082191781,81.57961432506887,84.80189655172414,50.11039755351681,43.09173553719008,83.19279778393351,75.08972602739726,80.90027472527473,66.30794520547946,82.17479452054795,47.6013698630137,62.73653846153846,82.35698630136986,51.85497237569061,43.60771428571429,79.6413698630137,77.35369863013699,82.05566343042071,82.51369863013699,50.69424657534247,62.09616438356164,52.29369863013699,60.36392694063927,81.18273972602739,80.1205633802817,45.73021978021978,49.69926873857404,63.01068493150685,73.62301369863015,59.85506849315068,79.54092219020173,85.05506849315069,51.748493150684936,81.25178082191782,66.23506849315068,54.828630136986305,64.36356164383562,57.63669879176558,72.37355072463768,47.81988950276243,82.85232876712328,51.37023319615913,61.829863013698635,61.095342465753426,82.28082191780823,74.3054794520548,52.41381215469613,70.5975],\"type\":\"choropleth\"}],\"name\":\"2005\"},{\"data\":[{\"coloraxis\":\"coloraxis\",\"geo\":\"geo\",\"hovertemplate\":\"Year=2006<br>Country=%{location}<br>AvgTemperature=%{z}<extra></extra>\",\"locationmode\":\"country names\",\"locations\":[\"Albania\",\"Algeria\",\"Argentina\",\"Australia\",\"Austria\",\"Bahamas\",\"Bahrain\",\"Bangladesh\",\"Barbados\",\"Belarus\",\"Belgium\",\"Belize\",\"Benin\",\"Bermuda\",\"Bolivia\",\"Brazil\",\"Bulgaria\",\"Burundi\",\"Canada\",\"Central African Republic\",\"China\",\"Colombia\",\"Congo\",\"Costa Rica\",\"Croatia\",\"Cuba\",\"Cyprus\",\"Czech Republic\",\"Denmark\",\"Dominican Republic\",\"Egypt\",\"Equador\",\"Ethiopia\",\"Finland\",\"France\",\"Gabon\",\"Gambia\",\"Georgia\",\"Germany\",\"Greece\",\"Guatemala\",\"Guinea\",\"Guinea-Bissau\",\"Guyana\",\"Haiti\",\"Honduras\",\"Hong Kong\",\"Hungary\",\"Iceland\",\"India\",\"Indonesia\",\"Ireland\",\"Israel\",\"Italy\",\"Ivory Coast\",\"Japan\",\"Jordan\",\"Kazakhstan\",\"Kenya\",\"Kuwait\",\"Kyrgyzstan\",\"Laos\",\"Latvia\",\"Lebanon\",\"Macedonia\",\"Madagascar\",\"Malawi\",\"Malaysia\",\"Mauritania\",\"Mexico\",\"Mongolia\",\"Morocco\",\"Mozambique\",\"Myanmar (Burma)\",\"Namibia\",\"Nepal\",\"New Zealand\",\"Nicaragua\",\"Nigeria\",\"North Korea\",\"Norway\",\"Oman\",\"Pakistan\",\"Panama\",\"Peru\",\"Philippines\",\"Poland\",\"Portugal\",\"Qatar\",\"Romania\",\"Russia\",\"Saudi Arabia\",\"Senegal\",\"Sierra Leone\",\"Singapore\",\"Slovakia\",\"South Africa\",\"South Korea\",\"Spain\",\"Sri Lanka\",\"Suriname\",\"Sweden\",\"Switzerland\",\"Syria\",\"Taiwan\",\"Tajikistan\",\"Tanzania\",\"Thailand\",\"The Netherlands\",\"Togo\",\"Tunisia\",\"Turkey\",\"Turkmenistan\",\"US\",\"Uganda\",\"Ukraine\",\"United Arab Emirates\",\"United Kingdom\",\"Uruguay\",\"Uzbekistan\",\"Venezuela\",\"Vietnam\",\"Yugoslavia\",\"Zambia\"],\"name\":\"\",\"z\":[59.87486187845304,64.9304109589041,62.68794520547945,62.674904109589036,51.477410468319555,78.77361111111111,81.0054794520548,79.3555944055944,81.6690410958904,47.0005698005698,52.05589041095891,81.13076923076923,82.08698224852071,71.38214285714285,44.65698630136986,70.95050228310502,50.88947368421052,59.99279279279279,46.545306704707556,78.52067988668556,62.18878973786949,55.840109890109886,77.96164383561644,72.64246575342466,54.22054794520548,75.97205479452055,66.3282191780822,48.56253443526171,48.22684931506849,80.08575581395348,72.10767123287671,68.02208333333334,63.88722627737226,44.900569800569805,55.90506849315068,79.6682191780822,78.9640909090909,43.236697247706424,49.1709219858156,64.17134986225895,66.56840659340659,81.87301136363637,82.57622950819672,83.22760416666667,84.875,71.72152974504249,75.89013698630137,50.14313186813187,41.97780821917808,80.50561643835616,84.52170542635659,50.489041095890414,71.21671732522796,57.23712328767123,78.70192307692308,56.45018348623853,64.27178082191782,52.18433048433049,69.31626016260162,80.73150684931507,54.72853185595568,80.73643835616438,46.844382022471905,69.20225988700565,53.41616438356165,65.42794520547946,69.9,81.65917808219177,78.27016574585635,69.34028436018957,44.77509433962264,64.06931506849315,73.98478873239436,82.19831932773108,64.76786703601108,64.53515151515151,59.025479452054796,81.80798898071625,84.57492012779554,51.975155279503106,43.65888888888889,83.08955223880596,76.51634615384616,80.43878116343491,67.40219178082192,82.36082191780822,49.351540616246496,63.497527472527466,82.79616438356165,52.70137741046832,44.71780415430267,80.44123287671232,76.3013698630137,81.92056074766356,82.04328767123287,51.934615384615384,62.43095890410959,54.145879120879115,60.82091324200913,81.15287671232876,79.65164835164836,46.675824175824175,51.01607305936073,62.87424657534246,74.3882191780822,61.335068493150686,79.13511235955056,85.13972602739726,52.44219178082192,81.77253731343284,67.49260273972602,55.2243093922652,64.2076712328767,58.072544843246675,72.36952908587259,48.73721590909091,82.67005494505494,51.457750342935526,61.904931506849316,61.55726027397261,81.26236263736264,75.84904109589041,53.32657534246576,67.90219178082192],\"type\":\"choropleth\"}],\"name\":\"2006\"},{\"data\":[{\"coloraxis\":\"coloraxis\",\"geo\":\"geo\",\"hovertemplate\":\"Year=2007<br>Country=%{location}<br>AvgTemperature=%{z}<extra></extra>\",\"locationmode\":\"country names\",\"locations\":[\"Albania\",\"Algeria\",\"Argentina\",\"Australia\",\"Austria\",\"Bahamas\",\"Bahrain\",\"Bangladesh\",\"Barbados\",\"Belarus\",\"Belgium\",\"Belize\",\"Benin\",\"Bermuda\",\"Bolivia\",\"Brazil\",\"Bulgaria\",\"Burundi\",\"Canada\",\"Central African Republic\",\"China\",\"Colombia\",\"Congo\",\"Costa Rica\",\"Croatia\",\"Cuba\",\"Cyprus\",\"Czech Republic\",\"Denmark\",\"Dominican Republic\",\"Egypt\",\"Equador\",\"Ethiopia\",\"Finland\",\"France\",\"Gabon\",\"Gambia\",\"Germany\",\"Greece\",\"Guatemala\",\"Guinea\",\"Guinea-Bissau\",\"Haiti\",\"Honduras\",\"Hong Kong\",\"Hungary\",\"Iceland\",\"India\",\"Indonesia\",\"Ireland\",\"Israel\",\"Italy\",\"Ivory Coast\",\"Japan\",\"Jordan\",\"Kazakhstan\",\"Kuwait\",\"Kyrgyzstan\",\"Laos\",\"Latvia\",\"Lebanon\",\"Macedonia\",\"Madagascar\",\"Malaysia\",\"Mauritania\",\"Mexico\",\"Mongolia\",\"Morocco\",\"Mozambique\",\"Myanmar (Burma)\",\"Namibia\",\"Nepal\",\"New Zealand\",\"Nicaragua\",\"Nigeria\",\"North Korea\",\"Norway\",\"Oman\",\"Pakistan\",\"Panama\",\"Peru\",\"Philippines\",\"Poland\",\"Portugal\",\"Qatar\",\"Romania\",\"Russia\",\"Saudi Arabia\",\"Senegal\",\"Sierra Leone\",\"Singapore\",\"Slovakia\",\"South Africa\",\"South Korea\",\"Spain\",\"Sri Lanka\",\"Suriname\",\"Sweden\",\"Switzerland\",\"Syria\",\"Taiwan\",\"Tajikistan\",\"Tanzania\",\"Thailand\",\"The Netherlands\",\"Togo\",\"Tunisia\",\"Turkey\",\"Turkmenistan\",\"US\",\"Uganda\",\"Ukraine\",\"United Arab Emirates\",\"United Kingdom\",\"Uruguay\",\"Uzbekistan\",\"Venezuela\",\"Vietnam\",\"Yugoslavia\",\"Zambia\"],\"name\":\"\",\"z\":[61.32939560439561,63.612362637362644,61.32142857142857,63.26450549450549,53.00906593406593,79.86350574712644,80.9815934065934,78.11386138613861,81.07694444444445,47.473109243697486,52.145054945054945,81.76596385542169,81.22727272727273,70.8489010989011,44.854670329670334,71.25393772893773,53.543956043956044,54.52765957446809,46.617100928421685,79.12039660056658,61.96097291321172,55.51432506887053,77.77884615384616,72.42197802197802,55.78291316526611,76.08324175824175,67.18156424581005,49.809615384615384,48.59313186813187,80.12828571428572,72.79945054945055,67.58873626373627,62.57322580645162,44.77909604519774,55.128434065934066,80.24297520661158,79.55634674922601,50.91717990275527,65.76592797783934,66.96346153846154,81.69730639730639,83.98640776699028,85.93950617283951,71.66933701657459,76.16565934065933,53.28626373626374,42.17857142857143,80.14139599170699,83.2593023255814,50.45757575757575,70.3207171314741,57.73585164835164,77.25906593406593,57.34981684981685,64.64065934065934,51.10679886685553,80.47912087912088,54.92028169014085,80.5239010989011,47.03595505617977,70.22417582417582,55.68763736263736,65.55055248618784,81.28214285714286,77.82782369146005,68.4382252559727,48.996456692913384,62.96280991735537,75.10756302521008,81.64545454545454,68.64156976744187,65.03571428571429,59.7282967032967,81.72362637362637,83.94581993569132,55.876079734219275,43.208707865168535,80.522,76.20879120879121,80.90083333333334,65.43324175824176,82.56758241758241,49.526923076923076,62.444198895027625,82.9173076923077,54.7239010989011,45.80662824207493,80.75618131868131,76.26895604395605,81.5242957746479,81.65934065934066,53.48049450549451,62.56115702479339,54.07713498622589,58.472252747252746,81.42445054945055,79.50090634441088,46.39641873278237,51.21721611721611,63.71236263736264,74.05494505494505,60.42032967032967,79.43571428571428,84.23653846153846,52.59945054945055,80.92994505494505,67.1717032967033,56.75906593406593,63.282967032967036,57.85716252950855,72.35274725274725,50.020833333333336,83.10892857142858,51.76643741403026,60.81895604395604,61.20302197802198,81.73296703296703,75.8728021978022,55.48571428571428,67.87122905027934],\"type\":\"choropleth\"}],\"name\":\"2007\"},{\"data\":[{\"coloraxis\":\"coloraxis\",\"geo\":\"geo\",\"hovertemplate\":\"Year=2008<br>Country=%{location}<br>AvgTemperature=%{z}<extra></extra>\",\"locationmode\":\"country names\",\"locations\":[\"Albania\",\"Algeria\",\"Argentina\",\"Australia\",\"Austria\",\"Bahamas\",\"Bahrain\",\"Bangladesh\",\"Barbados\",\"Belarus\",\"Belgium\",\"Belize\",\"Benin\",\"Bermuda\",\"Bolivia\",\"Brazil\",\"Bulgaria\",\"Canada\",\"Central African Republic\",\"China\",\"Colombia\",\"Congo\",\"Costa Rica\",\"Croatia\",\"Cuba\",\"Cyprus\",\"Czech Republic\",\"Denmark\",\"Dominican Republic\",\"Egypt\",\"Equador\",\"Ethiopia\",\"Finland\",\"France\",\"Gabon\",\"Germany\",\"Greece\",\"Guatemala\",\"Guinea\",\"Guinea-Bissau\",\"Haiti\",\"Honduras\",\"Hong Kong\",\"Hungary\",\"Iceland\",\"India\",\"Indonesia\",\"Ireland\",\"Italy\",\"Ivory Coast\",\"Japan\",\"Jordan\",\"Kazakhstan\",\"Kuwait\",\"Kyrgyzstan\",\"Laos\",\"Latvia\",\"Lebanon\",\"Macedonia\",\"Madagascar\",\"Malaysia\",\"Mauritania\",\"Mexico\",\"Mongolia\",\"Morocco\",\"Mozambique\",\"Myanmar (Burma)\",\"Namibia\",\"Nepal\",\"New Zealand\",\"Nicaragua\",\"Nigeria\",\"North Korea\",\"Norway\",\"Oman\",\"Pakistan\",\"Panama\",\"Peru\",\"Philippines\",\"Poland\",\"Portugal\",\"Qatar\",\"Romania\",\"Russia\",\"Saudi Arabia\",\"Senegal\",\"Sierra Leone\",\"Singapore\",\"Slovakia\",\"South Africa\",\"South Korea\",\"Spain\",\"Sri Lanka\",\"Suriname\",\"Sweden\",\"Switzerland\",\"Syria\",\"Taiwan\",\"Tajikistan\",\"Tanzania\",\"Thailand\",\"The Netherlands\",\"Togo\",\"Tunisia\",\"Turkey\",\"Turkmenistan\",\"US\",\"Uganda\",\"Ukraine\",\"United Arab Emirates\",\"United Kingdom\",\"Uruguay\",\"Uzbekistan\",\"Venezuela\",\"Vietnam\",\"Yugoslavia\",\"Zambia\"],\"name\":\"\",\"z\":[60.66318681318682,63.97753424657534,63.35576923076923,62.13676389653275,52.591232876712326,79.53085399449036,80.49313186813187,75.64156626506023,80.28480662983425,47.19779005524862,51.06994535519125,81.22701149425288,81.1985754985755,71.68916666666667,44.257300275482095,70.36023875114785,53.51868131868132,46.07380018110474,78.67603305785124,61.16863839285714,55.225280898876406,77.5758904109589,71.65702479338843,55.2206043956044,75.5744382022472,68.05534246575343,48.86483516483516,48.40928961748634,79.1448275862069,73.39283746556474,67.05782967032967,63.14383561643836,44.622950819672134,54.54897119341563,79.92458563535912,50.78660436137071,65.89917582417583,66.23983286908077,82.23975155279503,83.85130434782609,86.41060606060607,70.9991643454039,74.80054945054945,52.63999999999999,41.81912568306011,79.9241426611797,83.14104046242774,49.178082191780824,57.79546703296703,79.64903581267217,56.77076076993584,65.21150684931507,52.96326530612245,80.29148351648351,55.23267605633802,78.98598901098902,46.52252747252747,70.45467032967034,55.88379120879121,65.18246575342465,80.91780821917808,78.68388888888889,68.72134986225895,46.06838235294118,62.97162534435262,74.75604395604395,81.32774725274724,67.19916666666667,68.58753541076487,59.884340659340666,81.17346368715083,82.78279386712096,52.476584022038566,43.26803278688525,82.67570621468927,75.53237311385459,80.4695530726257,67.47774725274725,81.94848484848485,49.714010989010994,62.32383561643836,82.52912087912088,53.61593406593407,45.0873595505618,80.34313186813188,77.14285714285714,81.95973154362416,81.56136986301371,53.10383561643836,62.5684065934066,53.93791208791209,58.89945054945055,81.01404958677685,79.47342657342658,46.86821917808219,50.41312670920693,63.92109589041096,74.15808219178082,60.67768595041322,78.77097701149425,83.191643454039,51.48794520547945,81.23730886850153,67.34972527472527,56.08630705394191,63.6085635359116,56.73621545130493,72.18926553672317,49.43911845730028,82.3477366255144,50.73058984910836,62.112947658402206,61.381058495821726,81.73901098901099,74.22664835164835,56.017857142857146,67.22387640449439],\"type\":\"choropleth\"}],\"name\":\"2008\"},{\"data\":[{\"coloraxis\":\"coloraxis\",\"geo\":\"geo\",\"hovertemplate\":\"Year=2009<br>Country=%{location}<br>AvgTemperature=%{z}<extra></extra>\",\"locationmode\":\"country names\",\"locations\":[\"Albania\",\"Algeria\",\"Argentina\",\"Australia\",\"Austria\",\"Bahamas\",\"Bahrain\",\"Bangladesh\",\"Barbados\",\"Belarus\",\"Belgium\",\"Belize\",\"Benin\",\"Bermuda\",\"Bolivia\",\"Brazil\",\"Bulgaria\",\"Canada\",\"Central African Republic\",\"China\",\"Colombia\",\"Congo\",\"Costa Rica\",\"Croatia\",\"Cuba\",\"Cyprus\",\"Czech Republic\",\"Denmark\",\"Dominican Republic\",\"Egypt\",\"Equador\",\"Ethiopia\",\"Finland\",\"France\",\"Gabon\",\"Germany\",\"Greece\",\"Guatemala\",\"Guinea\",\"Guinea-Bissau\",\"Haiti\",\"Honduras\",\"Hong Kong\",\"Hungary\",\"Iceland\",\"India\",\"Indonesia\",\"Ireland\",\"Italy\",\"Ivory Coast\",\"Japan\",\"Jordan\",\"Kazakhstan\",\"Kuwait\",\"Kyrgyzstan\",\"Laos\",\"Latvia\",\"Lebanon\",\"Macedonia\",\"Madagascar\",\"Malaysia\",\"Mauritania\",\"Mexico\",\"Mongolia\",\"Morocco\",\"Mozambique\",\"Myanmar (Burma)\",\"Namibia\",\"Nepal\",\"New Zealand\",\"Nicaragua\",\"Nigeria\",\"North Korea\",\"Norway\",\"Oman\",\"Pakistan\",\"Panama\",\"Peru\",\"Philippines\",\"Poland\",\"Portugal\",\"Qatar\",\"Romania\",\"Russia\",\"Saudi Arabia\",\"Senegal\",\"Sierra Leone\",\"Singapore\",\"Slovakia\",\"South Africa\",\"South Korea\",\"Spain\",\"Sri Lanka\",\"Suriname\",\"Sweden\",\"Switzerland\",\"Syria\",\"Taiwan\",\"Tajikistan\",\"Tanzania\",\"Thailand\",\"The Netherlands\",\"Togo\",\"Tunisia\",\"Turkey\",\"Turkmenistan\",\"US\",\"Uganda\",\"Ukraine\",\"United Arab Emirates\",\"United Kingdom\",\"Uruguay\",\"Uzbekistan\",\"Venezuela\",\"Vietnam\",\"Yugoslavia\",\"Zambia\"],\"name\":\"\",\"z\":[61.156232686980616,64.70824175824175,63.01483516483517,63.40357142857143,51.7739010989011,79.37225274725274,81.4043956043956,79.02384341637011,81.1228021978022,46.276770538243625,51.261263736263736,81.59192200557104,81.53104395604396,72.07664835164836,45.134340659340666,71.4684065934066,52.65494505494506,46.09181021456633,79.18760806916426,61.72811447811448,56.49917582417583,77.91291208791209,72.86153846153846,55.24697802197802,75.55193370165746,69.026953125,48.67320441988951,47.51373626373626,79.4146408839779,74.12170329670329,68.04697802197802,62.73538461538461,42.779271708683474,55.23695054945055,79.92417582417583,50.254250386398766,65.7473829201102,67.1551246537396,81.59607843137255,82.5945868945869,86.61692307692309,71.35185185185185,75.92829670329671,52.49917582417583,42.253571428571426,81.37752577319588,83.57614942528735,49.32005494505494,58.10892857142858,78.64505494505494,56.90265567765567,65.04340659340659,49.536944444444444,80.40576923076924,53.491184573002755,80.87362637362638,45.2731843575419,70.73626373626374,54.62307692307692,65.87664835164834,81.91098901098901,77.1901098901099,70.03763736263737,48.63770491803279,61.863736263736264,74.50279329608938,82.22554945054945,67.96600566572238,70.07463976945246,58.862912087912086,81.91703296703297,83.55972222222222,52.18248587570621,42.31218130311615,84.65119760479043,76.53787878787878,81.21813186813188,67.74587912087912,81.66538461538461,48.30916666666666,64.0804945054945,83.25384615384615,53.774450549450556,45.13108504398827,81.02815934065934,75.65521978021978,80.99904458598726,82.37774725274726,52.22747252747253,63.24368131868132,53.7456043956044,60.22637362637362,81.54093406593407,79.58339768339768,45.21923076923077,51.170146520146524,63.66456043956045,74.26895604395605,60.068131868131864,79.5254189944134,83.20659340659341,51.309065934065934,81.30247252747252,67.28434065934066,56.18928571428572,63.33379120879121,56.70320057280945,72.77638483965015,49.83089887640449,83.23076923076923,51.0506189821183,61.481043956043955,61.029120879120875,82.82637362637362,76.3587912087912,55.505769230769225,66.43516483516484],\"type\":\"choropleth\"}],\"name\":\"2009\"},{\"data\":[{\"coloraxis\":\"coloraxis\",\"geo\":\"geo\",\"hovertemplate\":\"Year=2010<br>Country=%{location}<br>AvgTemperature=%{z}<extra></extra>\",\"locationmode\":\"country names\",\"locations\":[\"Albania\",\"Algeria\",\"Argentina\",\"Australia\",\"Austria\",\"Bahamas\",\"Bahrain\",\"Bangladesh\",\"Barbados\",\"Belarus\",\"Belgium\",\"Belize\",\"Benin\",\"Bermuda\",\"Bolivia\",\"Brazil\",\"Bulgaria\",\"Canada\",\"Central African Republic\",\"China\",\"Colombia\",\"Congo\",\"Costa Rica\",\"Croatia\",\"Cuba\",\"Cyprus\",\"Czech Republic\",\"Denmark\",\"Dominican Republic\",\"Egypt\",\"Equador\",\"Ethiopia\",\"Finland\",\"France\",\"Gabon\",\"Gambia\",\"Germany\",\"Greece\",\"Guatemala\",\"Guinea\",\"Guinea-Bissau\",\"Guyana\",\"Haiti\",\"Honduras\",\"Hong Kong\",\"Hungary\",\"Iceland\",\"India\",\"Indonesia\",\"Ireland\",\"Italy\",\"Ivory Coast\",\"Japan\",\"Jordan\",\"Kazakhstan\",\"Kenya\",\"Kuwait\",\"Kyrgyzstan\",\"Laos\",\"Latvia\",\"Lebanon\",\"Macedonia\",\"Madagascar\",\"Malawi\",\"Malaysia\",\"Mauritania\",\"Mexico\",\"Mongolia\",\"Morocco\",\"Mozambique\",\"Myanmar (Burma)\",\"Namibia\",\"Nepal\",\"New Zealand\",\"Nicaragua\",\"Nigeria\",\"North Korea\",\"Norway\",\"Oman\",\"Pakistan\",\"Panama\",\"Peru\",\"Philippines\",\"Poland\",\"Portugal\",\"Qatar\",\"Romania\",\"Russia\",\"Saudi Arabia\",\"Senegal\",\"Sierra Leone\",\"Singapore\",\"Slovakia\",\"South Africa\",\"South Korea\",\"Spain\",\"Sri Lanka\",\"Suriname\",\"Sweden\",\"Switzerland\",\"Syria\",\"Taiwan\",\"Tajikistan\",\"Tanzania\",\"Thailand\",\"The Netherlands\",\"Togo\",\"Tunisia\",\"Turkey\",\"Turkmenistan\",\"US\",\"Uganda\",\"Ukraine\",\"United Arab Emirates\",\"United Kingdom\",\"Uruguay\",\"Uzbekistan\",\"Venezuela\",\"Vietnam\",\"Yugoslavia\",\"Zambia\"],\"name\":\"\",\"z\":[60.568767123287664,64.26821917808219,63.00630136986301,62.71435616438356,49.25068493150685,78.25205479452055,82.9268493150685,80.83544776119403,82.04273972602739,47.094797687861266,48.83561643835616,80.92188365650969,82.55835616438355,69.8974358974359,46.15369863013698,72.39945205479451,52.86109589041096,47.05653486266224,79.90146627565983,60.94179271708684,56.93369863013699,78.84972375690607,72.44082191780822,53.216712328767116,74.42739726027398,90.1,46.18595041322314,44.386575342465754,80.13123287671233,75.51150684931507,67.95512465373962,61.43849206349206,43.83102409638554,53.39917808219178,80.13753424657534,79.91243093922651,47.58507692307692,67.12876712328767,66.59068493150684,82.81451612903226,82.72676056338028,84.37142857142858,85.05826330532213,70.84022038567493,75.44547945205478,50.09972602739727,42.85342465753425,81.05226648351649,83.28232044198896,47.27205479452054,56.775342465753425,80.56575342465753,57.53467520585544,68.17808219178082,51.339080459770116,66.17032967032966,82.32912087912088,55.047486033519554,81.95397260273973,44.44641833810888,72.65698630136986,55.22301369863014,66.61013698630137,72.2088122605364,83.42794520547946,78.9331506849315,68.50057077625571,46.304048582995954,64.51381215469613,75.11276595744681,83.26383561643836,69.52760563380282,69.61826086956522,60.25,81.41662049861496,83.92572614107884,52.08735955056179,41.349074074074075,84.53562874251497,76.61904109589041,81.15977961432507,66.65917808219177,83.27972602739726,47.074373259052926,63.18027397260274,84.45260273972603,53.20082872928177,47.766060606060606,81.36917808219178,77.87232876712329,82.50833333333333,82.67616438356164,50.053424657534244,62.763287671232874,53.708611111111104,58.78,81.56219178082192,80.55172413793103,43.281586402266285,49.20876712328767,66.6972602739726,73.77342465753425,61.10493150684931,80.47058823529412,84.15232876712328,48.61123287671232,81.98547945205479,67.15178082191781,57.958082191780825,65.38027397260274,57.32703064484464,72.98163265306123,49.80223463687151,84.53191780821918,50.20013755158185,61.924109589041095,62.28465753424658,82.6096153846154,76.20794520547946,54.35616438356164,66.27178082191782],\"type\":\"choropleth\"}],\"name\":\"2010\"},{\"data\":[{\"coloraxis\":\"coloraxis\",\"geo\":\"geo\",\"hovertemplate\":\"Year=2011<br>Country=%{location}<br>AvgTemperature=%{z}<extra></extra>\",\"locationmode\":\"country names\",\"locations\":[\"Albania\",\"Algeria\",\"Argentina\",\"Australia\",\"Austria\",\"Bahamas\",\"Bahrain\",\"Barbados\",\"Belarus\",\"Belgium\",\"Belize\",\"Benin\",\"Bolivia\",\"Brazil\",\"Bulgaria\",\"Canada\",\"Central African Republic\",\"China\",\"Colombia\",\"Congo\",\"Costa Rica\",\"Croatia\",\"Cuba\",\"Czech Republic\",\"Denmark\",\"Dominican Republic\",\"Egypt\",\"Equador\",\"Ethiopia\",\"Finland\",\"France\",\"Gabon\",\"Gambia\",\"Germany\",\"Greece\",\"Guatemala\",\"Guinea\",\"Guinea-Bissau\",\"Guyana\",\"Haiti\",\"Honduras\",\"Hong Kong\",\"Hungary\",\"Iceland\",\"India\",\"Indonesia\",\"Ireland\",\"Italy\",\"Ivory Coast\",\"Japan\",\"Jordan\",\"Kazakhstan\",\"Kenya\",\"Kuwait\",\"Kyrgyzstan\",\"Laos\",\"Latvia\",\"Lebanon\",\"Macedonia\",\"Madagascar\",\"Malawi\",\"Malaysia\",\"Mauritania\",\"Mexico\",\"Mongolia\",\"Morocco\",\"Mozambique\",\"Myanmar (Burma)\",\"Namibia\",\"Nepal\",\"New Zealand\",\"Nicaragua\",\"Nigeria\",\"North Korea\",\"Norway\",\"Oman\",\"Pakistan\",\"Panama\",\"Peru\",\"Philippines\",\"Poland\",\"Portugal\",\"Qatar\",\"Romania\",\"Russia\",\"Saudi Arabia\",\"Senegal\",\"Sierra Leone\",\"Singapore\",\"Slovakia\",\"South Africa\",\"South Korea\",\"Spain\",\"Sri Lanka\",\"Suriname\",\"Sweden\",\"Switzerland\",\"Syria\",\"Taiwan\",\"Tajikistan\",\"Tanzania\",\"Thailand\",\"The Netherlands\",\"Togo\",\"Tunisia\",\"Turkey\",\"Turkmenistan\",\"US\",\"Uganda\",\"Ukraine\",\"United Arab Emirates\",\"United Kingdom\",\"Uruguay\",\"Uzbekistan\",\"Venezuela\",\"Vietnam\",\"Yugoslavia\",\"Zambia\"],\"name\":\"\",\"z\":[59.9186301369863,64.96082191780822,63.235342465753426,62.53884931506849,51.27945205479452,79.85095890410959,80.92,81.38575342465754,47.51488764044944,52.47561643835616,81.43232876712328,81.47445054945055,45.04684931506849,71.14,51.45561643835616,46.81060955518946,79.23917808219178,61.35199326221224,56.803561643835614,77.87917808219179,72.13479452054794,54.727397260273975,75.34219178082192,48.66575342465753,47.742739726027395,79.4706043956044,71.86027397260274,67.65054794520549,62.7915014164306,46.66994219653179,56.676712328767124,79.34520547945205,78.74191780821917,50.18236196319019,66.22191780821917,66.50109589041097,82.57864406779662,81.82333333333334,83.06283783783783,84.71298342541436,71.04328767123287,74.7104109589041,51.53616438356165,41.908767123287674,80.26982817869415,83.56263736263736,50.1186301369863,58.28123287671233,78.86923076923077,56.77717690192484,63.79616438356164,51.56023391812865,66.74318181818182,79.76868131868132,53.25041782729805,79.90739726027398,47.03238636363637,70.00301369863013,53.74986301369863,66.66000000000001,71.28198757763975,83.06739726027396,77.2131506849315,69.99265267175572,46.72738589211618,63.72383561643836,78.64807692307693,81.57032967032967,65.6260736196319,67.05564738292011,60.10904109589041,81.19203296703297,83.28724279835392,51.471866295264626,43.4497191011236,83.24822006472492,75.77917808219179,80.13342465753425,66.9772602739726,81.82931506849316,48.69530386740332,63.333241758241755,83.32575342465753,52.030410958904106,46.07836257309941,79.64326923076923,76.56438356164384,81.27777777777777,81.75369863013698,51.98986301369863,62.46876712328767,52.87961432506887,60.99899543378995,81.48438356164384,79.97371428571428,46.95138121546962,51.24977168949772,62.44219178082192,72.79397260273973,60.70109589041096,79.37444444444444,82.7841059602649,51.88219178082192,81.10391061452515,67.13698630136986,54.25835616438356,62.83643835616438,57.77539863741803,72.32787356321839,48.645179063360885,83.87013698630136,52.55006858710563,61.2827397260274,60.46493150684932,80.43944444444445,73.58739726027397,54.25342465753425,69.38885714285713],\"type\":\"choropleth\"}],\"name\":\"2011\"},{\"data\":[{\"coloraxis\":\"coloraxis\",\"geo\":\"geo\",\"hovertemplate\":\"Year=2012<br>Country=%{location}<br>AvgTemperature=%{z}<extra></extra>\",\"locationmode\":\"country names\",\"locations\":[\"Albania\",\"Algeria\",\"Argentina\",\"Australia\",\"Austria\",\"Bahamas\",\"Bahrain\",\"Barbados\",\"Belarus\",\"Belgium\",\"Belize\",\"Benin\",\"Bolivia\",\"Brazil\",\"Bulgaria\",\"Canada\",\"Central African Republic\",\"China\",\"Colombia\",\"Congo\",\"Costa Rica\",\"Croatia\",\"Cuba\",\"Czech Republic\",\"Denmark\",\"Dominican Republic\",\"Egypt\",\"Equador\",\"Ethiopia\",\"Finland\",\"France\",\"Gabon\",\"Gambia\",\"Germany\",\"Greece\",\"Guatemala\",\"Guinea\",\"Guinea-Bissau\",\"Haiti\",\"Honduras\",\"Hong Kong\",\"Hungary\",\"Iceland\",\"India\",\"Indonesia\",\"Ireland\",\"Italy\",\"Ivory Coast\",\"Japan\",\"Jordan\",\"Kazakhstan\",\"Kenya\",\"Kuwait\",\"Kyrgyzstan\",\"Laos\",\"Latvia\",\"Lebanon\",\"Macedonia\",\"Madagascar\",\"Malawi\",\"Malaysia\",\"Mauritania\",\"Mexico\",\"Mongolia\",\"Morocco\",\"Mozambique\",\"Myanmar (Burma)\",\"Namibia\",\"Nepal\",\"New Zealand\",\"Nicaragua\",\"Nigeria\",\"North Korea\",\"Norway\",\"Oman\",\"Pakistan\",\"Panama\",\"Peru\",\"Philippines\",\"Poland\",\"Portugal\",\"Qatar\",\"Romania\",\"Russia\",\"Saudi Arabia\",\"Senegal\",\"Singapore\",\"Slovakia\",\"South Africa\",\"South Korea\",\"Spain\",\"Sri Lanka\",\"Suriname\",\"Sweden\",\"Switzerland\",\"Syria\",\"Taiwan\",\"Tajikistan\",\"Tanzania\",\"The Netherlands\",\"Togo\",\"Tunisia\",\"Turkey\",\"Turkmenistan\",\"US\",\"Uganda\",\"Ukraine\",\"United Arab Emirates\",\"United Kingdom\",\"Uruguay\",\"Uzbekistan\",\"Venezuela\",\"Vietnam\",\"Yugoslavia\",\"Zambia\"],\"name\":\"\",\"z\":[60.31972602739726,64.29043715846994,63.72513661202186,62.255683060109284,52.026575342465755,78.61584699453552,81.68415300546448,80.63524590163935,47.88483965014577,50.75737704918033,81.09836065573771,81.21366120218579,45.30655737704918,72.17468123861566,53.58898071625344,47.017647058823535,79.10054644808743,61.05743129556926,56.35464480874317,77.69808743169399,72.38060109289617,55.56366120218579,75.05109289617486,49.36330532212885,46.795355191256824,79.51191860465116,72.68032786885246,67.90369863013699,62.48792134831461,43.150142450142454,54.8077868852459,78.33251366120219,78.99808743169399,49.26166666666667,60.161006289308176,66.37103825136612,81.03928571428571,81.51774647887324,84.5788961038961,71.0155737704918,75.6,53.050828729281776,42.23306010928962,80.66755464480875,83.666391184573,49.00464480874317,58.06352459016394,79.85409836065574,56.7310599078341,65.63524590163935,52.334029850746276,67.57967032967034,80.84159779614325,55.06224783861671,82.05027322404372,45.26846590909091,70.8707650273224,55.17780821917809,54.404098360655745,71.68640776699029,82.97950819672131,77.89508196721312,69.60643330179754,46.40539419087137,62.62868852459016,73.46220238095238,82.24125683060109,68.75883977900553,67.09359331476323,59.11277777777777,81.23205479452055,82.97239944521498,51.53844011142061,41.52785515320334,79.78465608465608,75.67937158469945,80.93251366120218,68.47295081967212,82.40983606557377,48.999154929577465,61.049041095890416,83.79918032786885,54.81815642458101,46.14437689969605,80.20662068965518,76.3620218579235,81.70792349726776,52.88387978142077,62.61639344262295,52.98489010989011,60.145081967213116,81.52307692307693,79.42404371584699,44.575206611570245,50.45256880733945,65.07658402203856,73.29535519125683,58.57322404371585,79.32445054945055,50.728415300546445,81.01693989071039,68.20247252747252,56.445068493150686,63.6,59.0524081883835,72.67859327217126,50.51802325581396,83.97554644808743,51.17203856749312,62.82704918032787,59.2282967032967,81.45327868852459,75.25628415300547,55.997252747252745,69.74765840220385],\"type\":\"choropleth\"}],\"name\":\"2012\"},{\"data\":[{\"coloraxis\":\"coloraxis\",\"geo\":\"geo\",\"hovertemplate\":\"Year=2013<br>Country=%{location}<br>AvgTemperature=%{z}<extra></extra>\",\"locationmode\":\"country names\",\"locations\":[\"Albania\",\"Algeria\",\"Argentina\",\"Australia\",\"Austria\",\"Bahamas\",\"Bahrain\",\"Barbados\",\"Belarus\",\"Belgium\",\"Belize\",\"Benin\",\"Bolivia\",\"Brazil\",\"Bulgaria\",\"Canada\",\"Central African Republic\",\"China\",\"Colombia\",\"Congo\",\"Costa Rica\",\"Croatia\",\"Cuba\",\"Czech Republic\",\"Denmark\",\"Dominican Republic\",\"Egypt\",\"Equador\",\"Ethiopia\",\"Finland\",\"France\",\"Gabon\",\"Gambia\",\"Germany\",\"Guatemala\",\"Guinea\",\"Guinea-Bissau\",\"Haiti\",\"Honduras\",\"Hong Kong\",\"Hungary\",\"Iceland\",\"India\",\"Indonesia\",\"Ireland\",\"Italy\",\"Ivory Coast\",\"Japan\",\"Jordan\",\"Kazakhstan\",\"Kenya\",\"Kuwait\",\"Kyrgyzstan\",\"Laos\",\"Latvia\",\"Lebanon\",\"Macedonia\",\"Madagascar\",\"Malawi\",\"Malaysia\",\"Mauritania\",\"Mexico\",\"Mongolia\",\"Morocco\",\"Mozambique\",\"Myanmar (Burma)\",\"Namibia\",\"Nepal\",\"New Zealand\",\"Nicaragua\",\"Nigeria\",\"North Korea\",\"Norway\",\"Oman\",\"Pakistan\",\"Panama\",\"Peru\",\"Philippines\",\"Poland\",\"Portugal\",\"Qatar\",\"Romania\",\"Russia\",\"Saudi Arabia\",\"Senegal\",\"Singapore\",\"Slovakia\",\"South Africa\",\"South Korea\",\"Spain\",\"Sri Lanka\",\"Suriname\",\"Sweden\",\"Switzerland\",\"Syria\",\"Taiwan\",\"Tajikistan\",\"Tanzania\",\"The Netherlands\",\"Togo\",\"Tunisia\",\"Turkey\",\"Turkmenistan\",\"US\",\"Uganda\",\"Ukraine\",\"United Arab Emirates\",\"United Kingdom\",\"Uruguay\",\"Uzbekistan\",\"Venezuela\",\"Vietnam\",\"Yugoslavia\",\"Zambia\"],\"name\":\"\",\"z\":[60.4131506849315,63.70465753424658,62.880547945205485,63.38265642151482,51.42630136986301,78.1745205479452,81.20438356164384,80.76575342465753,47.088268156424576,49.855342465753424,80.7613698630137,81.60384615384615,46.01377410468319,72.0696803652968,53.484931506849314,46.019520319786814,78.76510989010988,61.95548098434004,56.840273972602745,77.9068493150685,72.65041095890412,54.37013698630137,75.91671232876712,47.095879120879125,47.004945054945054,80.62672064777328,72.58520547945206,73.43732251521298,62.98361111111111,44.195,54.21893004115226,79.62493150684931,78.90739726027398,47.517534246575345,66.83205479452054,80.8963888888889,81.96034482758621,85.37475409836065,71.63123287671233,75.45397260273973,52.297260273972604,41.062465753424654,80.19945167923235,83.18815426997244,49.204109589041096,57.6972602739726,80.2931506849315,57.494290976058934,64.82479338842975,52.7090395480226,67.14454545454545,80.20824175824175,54.89643835616439,81.41479452054794,45.690000000000005,70.90547945205479,55.56575342465754,64.36465753424658,69.789,82.33534246575343,78.57698630136986,68.92471264367815,44.56653543307087,62.91648351648351,74.00786516853933,81.60958904109589,70.54293628808864,65.03165266106443,60.441095890410956,81.9186301369863,83.39642346208869,52.375139664804465,42.11488764044944,82.12762430939226,76.01465753424657,81.35000000000001,66.15643835616439,82.76098901098901,48.12197802197802,61.391184573002754,83.26739726027397,53.59835616438357,44.73874643874644,79.79191780821918,76.58082191780822,81.9227397260274,52.18109589041096,62.70191780821918,53.743611111111115,59.63835616438356,81.27203389830508,79.11671232876712,45.72,48.97835616438356,64.05150684931506,73.75479452054795,61.01013698630137,79.61652892561983,49.93232876712329,81.50904109589041,67.30219178082191,56.59342465753424,65.19150684931508,56.669281788200806,72.91932203389831,48.51835616438356,83.38493150684931,51.19698216735254,61.62328767123287,61.2841095890411,80.91506849315068,75.30497237569061,55.41424657534247,69.93416370106762],\"type\":\"choropleth\"}],\"name\":\"2013\"},{\"data\":[{\"coloraxis\":\"coloraxis\",\"geo\":\"geo\",\"hovertemplate\":\"Year=2014<br>Country=%{location}<br>AvgTemperature=%{z}<extra></extra>\",\"locationmode\":\"country names\",\"locations\":[\"Albania\",\"Algeria\",\"Argentina\",\"Australia\",\"Austria\",\"Bahamas\",\"Bahrain\",\"Barbados\",\"Belarus\",\"Belgium\",\"Belize\",\"Benin\",\"Bolivia\",\"Brazil\",\"Bulgaria\",\"Canada\",\"Central African Republic\",\"China\",\"Colombia\",\"Congo\",\"Costa Rica\",\"Croatia\",\"Cuba\",\"Czech Republic\",\"Denmark\",\"Dominican Republic\",\"Egypt\",\"Equador\",\"Ethiopia\",\"Finland\",\"France\",\"Gabon\",\"Gambia\",\"Germany\",\"Guatemala\",\"Guinea\",\"Guinea-Bissau\",\"Haiti\",\"Honduras\",\"Hong Kong\",\"Hungary\",\"Iceland\",\"India\",\"Indonesia\",\"Ireland\",\"Italy\",\"Ivory Coast\",\"Japan\",\"Jordan\",\"Kazakhstan\",\"Kenya\",\"Kuwait\",\"Kyrgyzstan\",\"Laos\",\"Latvia\",\"Lebanon\",\"Macedonia\",\"Madagascar\",\"Malaysia\",\"Mauritania\",\"Mexico\",\"Mongolia\",\"Morocco\",\"Mozambique\",\"Myanmar (Burma)\",\"Namibia\",\"Nepal\",\"New Zealand\",\"Nicaragua\",\"Nigeria\",\"North Korea\",\"Norway\",\"Oman\",\"Pakistan\",\"Panama\",\"Peru\",\"Philippines\",\"Poland\",\"Portugal\",\"Qatar\",\"Romania\",\"Russia\",\"Saudi Arabia\",\"Senegal\",\"Singapore\",\"Slovakia\",\"South Africa\",\"South Korea\",\"Spain\",\"Sri Lanka\",\"Suriname\",\"Sweden\",\"Switzerland\",\"Syria\",\"Taiwan\",\"Tajikistan\",\"Tanzania\",\"The Netherlands\",\"Togo\",\"Tunisia\",\"Turkey\",\"Turkmenistan\",\"US\",\"Uganda\",\"Ukraine\",\"United Arab Emirates\",\"United Kingdom\",\"Uruguay\",\"Uzbekistan\",\"Venezuela\",\"Vietnam\",\"Yugoslavia\",\"Zambia\"],\"name\":\"\",\"z\":[60.65302197802198,65.64697802197803,63.61369863013699,63.48395604395605,53.35302197802198,78.60906593406594,82.0739010989011,80.6587912087912,48.53771428571429,53.126098901098906,80.8275482093664,81.6257617728532,46.26022099447514,73.30321395775941,53.135989010989015,42.4106346483705,78.76620111731843,62.01416666666667,56.862637362637365,78.54293628808864,73.03241758241758,56.220879120879125,75.38021978021979,49.926648351648346,49.88159340659341,80.83926174496644,73.15769230769232,76.28279816513762,63.63343023255814,45.466193181818184,55.48310439560439,79.78107344632768,78.7961432506887,50.112912087912086,66.80165289256199,80.7,81.79942693409743,85.109,72.01483516483516,76.12527472527472,53.691483516483515,42.931868131868136,80.7396978021978,83.46804407713499,50.24835164835165,59.10041208791208,80.30439560439561,56.72745638200183,65.45412087912088,51.17988668555241,67.23183279742764,81.05439560439561,53.02033898305085,81.00494505494505,46.99691011235956,71.21703296703296,55.7521978021978,66.28873626373625,82.43241758241759,77.62362637362638,68.10789980732177,45.78671875,63.534890109890114,74.61836158192091,81.15424657534247,67.56422535211267,64.57939560439561,59.67307692307692,82.54931129476584,83.75834633385335,53.21763085399449,44.78189415041783,82.54169491525424,75.4217032967033,81.55564738292011,67.53516483516484,82.56969696969696,49.853867403314915,61.78104395604395,84.00769230769231,53.48646408839779,45.96898550724637,80.68038674033149,76.05357142857143,82.36153846153846,53.95247252747253,63.29807692307692,54.589835164835165,61.47783882783883,81.35013774104682,79.47382920110194,47.06181318681319,51.53818681318681,64.43131868131869,74.00027472527472,59.59640883977901,79.6138888888889,53.32994505494505,81.42417582417583,68.27499999999999,57.779532967032964,64.55555555555556,56.84961410018553,72.62035398230088,49.32162921348315,83.58612637362637,53.349381017881704,62.8793956043956,59.148066298342535,80.64010989010988,75.55412087912089,56.080769230769235,72.53999999999999],\"type\":\"choropleth\"}],\"name\":\"2014\"},{\"data\":[{\"coloraxis\":\"coloraxis\",\"geo\":\"geo\",\"hovertemplate\":\"Year=2015<br>Country=%{location}<br>AvgTemperature=%{z}<extra></extra>\",\"locationmode\":\"country names\",\"locations\":[\"Albania\",\"Algeria\",\"Argentina\",\"Australia\",\"Austria\",\"Bahamas\",\"Bahrain\",\"Barbados\",\"Belarus\",\"Belgium\",\"Belize\",\"Benin\",\"Bolivia\",\"Brazil\",\"Bulgaria\",\"Canada\",\"Central African Republic\",\"China\",\"Colombia\",\"Congo\",\"Costa Rica\",\"Croatia\",\"Cuba\",\"Czech Republic\",\"Denmark\",\"Dominican Republic\",\"Egypt\",\"Equador\",\"Ethiopia\",\"Finland\",\"France\",\"Gabon\",\"Gambia\",\"Germany\",\"Guatemala\",\"Guinea\",\"Guinea-Bissau\",\"Haiti\",\"Honduras\",\"Hong Kong\",\"Hungary\",\"Iceland\",\"India\",\"Indonesia\",\"Ireland\",\"Italy\",\"Ivory Coast\",\"Japan\",\"Jordan\",\"Kazakhstan\",\"Kenya\",\"Kuwait\",\"Kyrgyzstan\",\"Laos\",\"Latvia\",\"Lebanon\",\"Macedonia\",\"Madagascar\",\"Malaysia\",\"Mauritania\",\"Mexico\",\"Mongolia\",\"Morocco\",\"Mozambique\",\"Myanmar (Burma)\",\"Namibia\",\"Nepal\",\"New Zealand\",\"Nicaragua\",\"Nigeria\",\"North Korea\",\"Norway\",\"Oman\",\"Pakistan\",\"Panama\",\"Peru\",\"Philippines\",\"Poland\",\"Portugal\",\"Qatar\",\"Romania\",\"Russia\",\"Saudi Arabia\",\"Senegal\",\"Singapore\",\"Slovakia\",\"South Africa\",\"South Korea\",\"Spain\",\"Sri Lanka\",\"Suriname\",\"Sweden\",\"Switzerland\",\"Syria\",\"Taiwan\",\"Tajikistan\",\"Tanzania\",\"The Netherlands\",\"Togo\",\"Tunisia\",\"Turkey\",\"Turkmenistan\",\"US\",\"Uganda\",\"Ukraine\",\"United Arab Emirates\",\"United Kingdom\",\"Uruguay\",\"Uzbekistan\",\"Venezuela\",\"Vietnam\",\"Yugoslavia\"],\"name\":\"\",\"z\":[60.964285714285715,64.94368131868131,63.82554945054945,63.06362637362638,53.472802197802196,79.40412087912088,82.61538461538461,81.43296703296703,48.35867768595042,51.9260989010989,81.66758241758242,81.56098901098902,46.1206043956044,72.70842490842492,53.370054945054946,44.62942008486563,79.08022598870058,62.26962798445309,57.4760989010989,78.16703296703297,73.79615384615384,55.70494505494505,76.77857142857144,50.362912087912086,48.37472527472528,81.13371104815864,72.71813186813188,80.50082417582418,64.0955223880597,45.027272727272724,55.67857142857143,79.97472527472527,78.38461538461539,49.919780219780215,67.51767955801105,80.71178247734139,81.56502890173411,86.4724340175953,73.1043956043956,77.21675824175824,53.60219780219781,40.31126373626373,81.4393543956044,83.35977961432506,49.22115384615385,58.65892857142857,80.6206043956044,57.81144688644689,65.24697802197802,53.82194444444445,67.86656804733728,81.63240997229917,54.7662087912088,81.60851648351648,46.88324175824176,70.97664835164835,55.31181318681319,66.21868131868132,82.73928571428571,78.80604395604396,68.29090009891198,46.724409448818896,63.705769230769235,75.14132231404959,81.81346153846154,69.67943661971832,64.57087912087911,59.75824175824176,83.11717451523546,83.6939577039275,53.10796703296703,43.30414364640884,84.49077380952382,76.00700549450549,82.42243767313019,69.61708074534161,83.01483516483516,50.995879120879124,62.1198347107438,84.31132596685083,54.79668508287293,45.01080332409972,82.52936962750717,76.60274725274725,82.97472527472527,53.651923076923076,62.932782369146004,55.18736263736264,61.071794871794864,81.60219780219781,79.54120879120879,46.572527472527476,51.3996336996337,64.28898071625345,74.57939560439561,61.2032967032967,80.33805555555556,51.86703296703296,81.6879120879121,67.41785714285714,56.7181568088033,65.05521978021977,58.43545207906539,73.2174515235457,50.55,85.23942307692307,52.09986244841816,62.801648351648346,61.32225274725275,81.46143250688705,77.1617728531856,56.10192307692307],\"type\":\"choropleth\"}],\"name\":\"2015\"},{\"data\":[{\"coloraxis\":\"coloraxis\",\"geo\":\"geo\",\"hovertemplate\":\"Year=2016<br>Country=%{location}<br>AvgTemperature=%{z}<extra></extra>\",\"locationmode\":\"country names\",\"locations\":[\"Albania\",\"Algeria\",\"Argentina\",\"Australia\",\"Austria\",\"Bahamas\",\"Bahrain\",\"Barbados\",\"Belarus\",\"Belgium\",\"Belize\",\"Benin\",\"Bolivia\",\"Brazil\",\"Bulgaria\",\"Canada\",\"Central African Republic\",\"China\",\"Colombia\",\"Congo\",\"Costa Rica\",\"Croatia\",\"Cuba\",\"Czech Republic\",\"Denmark\",\"Dominican Republic\",\"Egypt\",\"Equador\",\"Ethiopia\",\"Finland\",\"France\",\"Gabon\",\"Gambia\",\"Germany\",\"Guatemala\",\"Guinea\",\"Guinea-Bissau\",\"Haiti\",\"Honduras\",\"Hong Kong\",\"Hungary\",\"Iceland\",\"India\",\"Indonesia\",\"Ireland\",\"Italy\",\"Ivory Coast\",\"Japan\",\"Jordan\",\"Kazakhstan\",\"Kenya\",\"Kuwait\",\"Kyrgyzstan\",\"Laos\",\"Latvia\",\"Lebanon\",\"Macedonia\",\"Madagascar\",\"Malaysia\",\"Mauritania\",\"Mexico\",\"Mongolia\",\"Morocco\",\"Mozambique\",\"Myanmar (Burma)\",\"Namibia\",\"Nepal\",\"New Zealand\",\"Nicaragua\",\"Nigeria\",\"North Korea\",\"Norway\",\"Oman\",\"Pakistan\",\"Panama\",\"Philippines\",\"Poland\",\"Portugal\",\"Qatar\",\"Romania\",\"Russia\",\"Saudi Arabia\",\"Senegal\",\"Singapore\",\"Slovakia\",\"South Africa\",\"South Korea\",\"Spain\",\"Sri Lanka\",\"Suriname\",\"Sweden\",\"Switzerland\",\"Syria\",\"Taiwan\",\"Tajikistan\",\"Tanzania\",\"The Netherlands\",\"Togo\",\"Tunisia\",\"Turkey\",\"Turkmenistan\",\"US\",\"Uganda\",\"Ukraine\",\"United Arab Emirates\",\"United Kingdom\",\"Uruguay\",\"Uzbekistan\",\"Venezuela\",\"Vietnam\",\"Yugoslavia\"],\"name\":\"\",\"z\":[60.732596685082875,65.31187845303867,62.193939393939395,63.408222958057394,52.10826446280991,79.3411111111111,82.12790055248618,81.57486187845304,47.14466292134831,51.5610497237569,81.31988950276244,82.17817679558011,46.909392265193375,72.26031307550645,53.75766016713092,44.706896551724135,79.28867403314918,62.45527497194164,57.82734806629834,78.70303867403315,73.32837465564738,54.832132963988926,75.95801104972375,49.05690607734806,48.087845303867404,80.12422535211267,74.88194444444444,79.76353591160222,63.102500000000006,44.610632183908045,55.002758620689654,80.97707182320443,78.84889502762431,49.10524861878453,67.48895027624309,81.05847953216374,81.91163434903046,85.1538028169014,72.75828729281768,76.18425414364641,52.21491712707182,42.94254143646409,82.19559532002752,83.5814404432133,49.79447513812154,58.948071625344355,81.30853994490359,57.60617511520737,65.98646408839778,52.9066852367688,67.95595238095238,81.03555555555555,54.83351800554017,81.56022099447513,46.58286516853933,71.40773480662983,54.910497237569054,65.65911602209944,83.46187845303868,78.40666666666667,68.8178916827853,47.72066115702479,64.19862258953168,74.8110497237569,82.43884297520661,70.88753541076487,65.51160220994475,60.883701657458566,82.69146005509641,84.24171270718232,53.5467787114846,43.711111111111116,82.96234567901234,76.9607438016529,81.01194444444444,83.65828729281768,50.2217270194986,62.23342541436464,84.03093922651934,54.345658263305324,45.01159420289855,80.73825966850829,76.8085635359116,83.29530386740332,52.35662983425414,63.36685082872928,55.72805555555555,60.63360957642726,82.37817679558012,80.08991097922848,46.30027932960894,50.382872928176795,65.24657142857143,74.72292817679558,62.521763085399456,80.2286111111111,51.80801104972376,82.17348066298342,67.67762430939226,57.01535269709543,64.81243093922652,58.83731018730013,73.80688705234161,49.11564245810056,84.44212707182321,52.223236514522824,61.68870523415978,62.14779005524862,81.70705521472392,76.68429752066116,55.024033149171274],\"type\":\"choropleth\"}],\"name\":\"2016\"},{\"data\":[{\"coloraxis\":\"coloraxis\",\"geo\":\"geo\",\"hovertemplate\":\"Year=2017<br>Country=%{location}<br>AvgTemperature=%{z}<extra></extra>\",\"locationmode\":\"country names\",\"locations\":[\"Albania\",\"Algeria\",\"Argentina\",\"Australia\",\"Austria\",\"Bahamas\",\"Bahrain\",\"Barbados\",\"Belarus\",\"Belgium\",\"Belize\",\"Benin\",\"Bolivia\",\"Brazil\",\"Bulgaria\",\"Canada\",\"Central African Republic\",\"China\",\"Colombia\",\"Congo\",\"Costa Rica\",\"Croatia\",\"Cuba\",\"Czech Republic\",\"Denmark\",\"Dominican Republic\",\"Egypt\",\"Equador\",\"Ethiopia\",\"Finland\",\"France\",\"Gabon\",\"Gambia\",\"Germany\",\"Guatemala\",\"Guinea\",\"Guinea-Bissau\",\"Haiti\",\"Honduras\",\"Hong Kong\",\"Hungary\",\"Iceland\",\"India\",\"Indonesia\",\"Ireland\",\"Italy\",\"Ivory Coast\",\"Japan\",\"Jordan\",\"Kazakhstan\",\"Kenya\",\"Kuwait\",\"Kyrgyzstan\",\"Laos\",\"Latvia\",\"Lebanon\",\"Macedonia\",\"Madagascar\",\"Malaysia\",\"Mauritania\",\"Mexico\",\"Mongolia\",\"Morocco\",\"Mozambique\",\"Myanmar (Burma)\",\"Namibia\",\"Nepal\",\"New Zealand\",\"Nicaragua\",\"Nigeria\",\"North Korea\",\"Norway\",\"Oman\",\"Pakistan\",\"Panama\",\"Philippines\",\"Poland\",\"Portugal\",\"Qatar\",\"Romania\",\"Russia\",\"Saudi Arabia\",\"Senegal\",\"Singapore\",\"Slovakia\",\"South Africa\",\"South Korea\",\"Spain\",\"Sri Lanka\",\"Suriname\",\"Sweden\",\"Switzerland\",\"Syria\",\"Taiwan\",\"Tajikistan\",\"Tanzania\",\"The Netherlands\",\"Togo\",\"Tunisia\",\"Turkey\",\"Turkmenistan\",\"US\",\"Uganda\",\"Ukraine\",\"United Arab Emirates\",\"United Kingdom\",\"Uruguay\",\"Uzbekistan\",\"Venezuela\",\"Vietnam\",\"Yugoslavia\"],\"name\":\"\",\"z\":[60.38465753424658,64.9958904109589,64.13780821917808,63.45564692982457,52.351506849315065,80.40767123287671,82.6358904109589,80.69087136929461,46.938343558282206,52.13232876712328,81.26,82.15342465753425,46.228767123287675,72.1572602739726,53.0256906077348,45.83291338582677,79.36164383561643,62.47668508287293,57.110410958904104,78.29917808219179,72.88328767123288,55.57205479452055,75.82876712328768,48.764657534246574,47.95479452054794,80.11019283746556,74.02410958904109,78.76328767123287,62.452777777777776,43.36888888888889,55.61260273972602,80.36630136986301,79.30816326530612,49.12265193370166,66.83150684931506,81.43438395415473,81.90383561643836,84.98186813186814,71.36986301369863,76.63397260273973,52.46914600550964,41.94986301369863,81.72997256515775,83.48571428571428,50.209041095890406,58.88095890410959,81.25479452054795,56.729185727355905,65.7386301369863,52.13232876712328,68.65014409221902,81.67016574585635,53.82767123287671,80.44438356164383,45.48093922651933,70.94242424242424,55.271823204419896,66.20493150684932,82.25808219178083,78.293567251462,68.93145539906104,46.34846153846154,64.20931506849315,74.42617079889807,82.44876712328767,69.07027777777778,65.5572602739726,60.52219178082191,81.4904109589041,83.7905487804878,52.37637362637363,42.06556473829201,81.26693877551021,76.49259259259259,80.27493112947658,83.10246575342467,49.556077348066296,62.83068493150685,84.36876712328767,53.52307692307693,43.7,81.42293956043956,77.29178082191781,81.98821917808219,52.719452054794516,62.64630136986302,54.13534246575343,60.72456621004566,81.67479452054795,79.57802197802198,45.47041095890411,50.77004566210045,64.33944444444445,75.04301369863013,61.80191780821918,79.81534246575342,52.110410958904104,81.9868131868132,67.02301369863014,56.287945205479446,64.49753424657534,58.60151147842057,72.87808219178082,49.59556786703601,85.43835616438356,52.611917808219175,63.707945205479454,60.726027397260275,82.84457478005865,76.18383561643836,55.80358126721763],\"type\":\"choropleth\"}],\"name\":\"2017\"},{\"data\":[{\"coloraxis\":\"coloraxis\",\"geo\":\"geo\",\"hovertemplate\":\"Year=2018<br>Country=%{location}<br>AvgTemperature=%{z}<extra></extra>\",\"locationmode\":\"country names\",\"locations\":[\"Albania\",\"Algeria\",\"Argentina\",\"Australia\",\"Austria\",\"Bahamas\",\"Bahrain\",\"Barbados\",\"Belarus\",\"Belgium\",\"Belize\",\"Benin\",\"Bolivia\",\"Brazil\",\"Bulgaria\",\"Canada\",\"Central African Republic\",\"China\",\"Colombia\",\"Congo\",\"Costa Rica\",\"Croatia\",\"Cuba\",\"Czech Republic\",\"Denmark\",\"Dominican Republic\",\"Egypt\",\"Equador\",\"Ethiopia\",\"Finland\",\"France\",\"Gabon\",\"Gambia\",\"Germany\",\"Guatemala\",\"Guinea\",\"Guinea-Bissau\",\"Haiti\",\"Honduras\",\"Hong Kong\",\"Hungary\",\"Iceland\",\"India\",\"Indonesia\",\"Ireland\",\"Italy\",\"Ivory Coast\",\"Japan\",\"Jordan\",\"Kazakhstan\",\"Kenya\",\"Kuwait\",\"Kyrgyzstan\",\"Laos\",\"Latvia\",\"Lebanon\",\"Macedonia\",\"Madagascar\",\"Malaysia\",\"Mauritania\",\"Mexico\",\"Mongolia\",\"Morocco\",\"Mozambique\",\"Myanmar (Burma)\",\"Namibia\",\"Nepal\",\"New Zealand\",\"Nicaragua\",\"Nigeria\",\"North Korea\",\"Norway\",\"Oman\",\"Pakistan\",\"Panama\",\"Philippines\",\"Poland\",\"Portugal\",\"Qatar\",\"Romania\",\"Russia\",\"Saudi Arabia\",\"Senegal\",\"Singapore\",\"Slovakia\",\"South Africa\",\"South Korea\",\"Spain\",\"Sri Lanka\",\"Suriname\",\"Sweden\",\"Switzerland\",\"Syria\",\"Taiwan\",\"Tajikistan\",\"Tanzania\",\"The Netherlands\",\"Togo\",\"Tunisia\",\"Turkey\",\"Turkmenistan\",\"US\",\"Uganda\",\"Ukraine\",\"United Arab Emirates\",\"United Kingdom\",\"Uruguay\",\"Uzbekistan\",\"Venezuela\",\"Vietnam\",\"Yugoslavia\"],\"name\":\"\",\"z\":[62.09611111111111,64.41944444444445,63.474722222222226,63.26409972299169,53.78895027624309,79.06972222222223,83.29861495844875,79.15827338129496,45.076573426573425,53.05734072022161,81.01444444444445,82.20698324022347,45.42472222222222,71.64616096207216,53.04238227146814,43.993680884676145,78.48305555555557,62.65591882750846,56.97638888888889,78.52576177285319,72.86888888888889,56.492757660167136,75.8975,51.00747922437673,49.4601108033241,79.65521126760564,75.71527777777777,77.9824512534819,62.12116040955632,45.254285714285714,55.979548660084625,80.22714681440443,77.83960674157304,50.846875000000004,66.89359331476322,81.02199413489735,81.03722222222223,85.16511627906976,69.82770083102493,76.17506925207756,54.0376731301939,41.346111111111114,81.5753112033195,83.57019498607242,49.9171270718232,60.009141274238225,81.39168975069252,58.04990740740741,66.62825484764542,52.45444126074498,66.86050420168067,82.64416666666668,53.76175637393768,80.3803324099723,47.23473389355742,72.11464788732394,56.013850415512465,65.99116022099447,82.01388888888889,70.25,67.96993339676499,47.43176470588235,62.52292817679558,74.77146892655367,81.95027624309392,70.3265625,64.85207756232687,60.57950138504155,81.28555555555555,84.06671348314607,52.911614730878185,43.38739495798319,83.57298850574713,76.9770083102493,79.89554317548746,83.07611111111112,51.29750692520776,61.34598337950139,84.91916666666667,54.5328729281768,44.47377521613833,82.04847222222223,74.9913407821229,82.33545706371191,54.251800554016626,62.82083333333333,54.90873239436619,60.441068139963164,80.65487465181059,79.22209631728046,47.06786703601108,52.536077705827935,65.87569060773481,75.4575,61.65509641873278,79.5377094972067,52.8475,81.88515406162465,67.28365650969529,58.765145228215765,65.45,57.724028086686396,72.17583333333333,49.263687150837995,85.35944444444445,52.18404993065187,62.49111111111111,60.83434903047092,79.96971428571429,76.32797783933519,56.84626038781163],\"type\":\"choropleth\"}],\"name\":\"2018\"},{\"data\":[{\"coloraxis\":\"coloraxis\",\"geo\":\"geo\",\"hovertemplate\":\"Year=2019<br>Country=%{location}<br>AvgTemperature=%{z}<extra></extra>\",\"locationmode\":\"country names\",\"locations\":[\"Albania\",\"Algeria\",\"Argentina\",\"Australia\",\"Austria\",\"Bahamas\",\"Bahrain\",\"Belarus\",\"Belgium\",\"Belize\",\"Benin\",\"Bolivia\",\"Brazil\",\"Bulgaria\",\"Canada\",\"Central African Republic\",\"China\",\"Colombia\",\"Congo\",\"Costa Rica\",\"Croatia\",\"Cuba\",\"Czech Republic\",\"Denmark\",\"Dominican Republic\",\"Egypt\",\"Equador\",\"Ethiopia\",\"Finland\",\"France\",\"Gabon\",\"Gambia\",\"Germany\",\"Guatemala\",\"Guinea\",\"Guinea-Bissau\",\"Haiti\",\"Honduras\",\"Hong Kong\",\"Hungary\",\"Iceland\",\"India\",\"Indonesia\",\"Ireland\",\"Italy\",\"Ivory Coast\",\"Japan\",\"Jordan\",\"Kazakhstan\",\"Kenya\",\"Kuwait\",\"Kyrgyzstan\",\"Laos\",\"Latvia\",\"Lebanon\",\"Macedonia\",\"Madagascar\",\"Malaysia\",\"Mexico\",\"Mongolia\",\"Morocco\",\"Mozambique\",\"Myanmar (Burma)\",\"Namibia\",\"Nepal\",\"New Zealand\",\"Nicaragua\",\"Nigeria\",\"North Korea\",\"Norway\",\"Oman\",\"Pakistan\",\"Panama\",\"Philippines\",\"Poland\",\"Portugal\",\"Qatar\",\"Romania\",\"Russia\",\"Saudi Arabia\",\"Senegal\",\"Singapore\",\"Slovakia\",\"South Africa\",\"South Korea\",\"Spain\",\"Sri Lanka\",\"Suriname\",\"Sweden\",\"Switzerland\",\"Syria\",\"Taiwan\",\"Tajikistan\",\"Tanzania\",\"The Netherlands\",\"Togo\",\"Tunisia\",\"Turkey\",\"Turkmenistan\",\"US\",\"Uganda\",\"Ukraine\",\"United Arab Emirates\",\"United Kingdom\",\"Uruguay\",\"Uzbekistan\",\"Venezuela\",\"Vietnam\",\"Yugoslavia\"],\"name\":\"\",\"z\":[61.668055555555554,64.99275766016713,63.07130919220055,63.87577951002227,53.912222222222226,79.13816155988857,82.96350974930363,44.892805755395685,52.50389972144847,81.82116991643454,82.41197771587744,46.11916666666667,73.55556586270872,53.23621169916434,44.118901453957996,79.47794561933534,62.457752808988765,57.66295264623955,78.59611111111111,73.5050139275766,56.55710306406685,76.75097493036212,50.391364902506965,49.30278551532034,81.04406779661016,73.83398328690808,78.69633802816901,63.11902017291066,44.2688202247191,56.224027777777785,80.53816155988858,78.76703910614525,50.04229765013055,67.69805013927576,81.66666666666667,81.99241573033707,83.37623188405797,70.68725761772853,77.31197771587743,54.035097493036204,42.4050139275766,81.3625087108014,84.01782729805015,49.832590529247916,59.50389972144847,81.5175,57.880390334572496,65.20473537604457,53.12061281337047,68.34341736694678,81.5943820224719,55.29136490250696,81.7125,47.35125348189415,71.12234636871509,56.80863509749303,67.19860724233983,82.97242339832869,69.63805060918463,45.18544061302682,62.38440111420613,75.27103064066853,82.14972222222222,72.07977207977208,64.96055555555556,60.56267409470752,82.13593314763231,84.09342657342658,53.29610027855153,42.51549295774648,79.82666666666667,74.60934579439252,80.60557103064068,83.48133704735376,51.84540389972145,61.940111420612816,84.40055710306406,55.58495821727019,45.52387640449438,81.66392757660167,76.44707520891365,83.32144846796658,54.25403899721449,63.06378830083566,55.094986072423396,60.58841519925858,81.84401114206128,79.84428969359331,46.57298050139276,51.518198700092846,64.19442896935934,75.6158774373259,61.36666666666667,80.14888888888889,52.471866295264626,82.27724719101124,67.4058495821727,57.54345403899721,65.19387186629525,57.54890701828696,73.04131054131054,50.44930747922438,84.75153203342619,52.001114206128136,62.190250696378826,62.0016713091922,79.81671469740634,77.23036211699164,56.97520891364902],\"type\":\"choropleth\"}],\"name\":\"2019\"},{\"data\":[{\"coloraxis\":\"coloraxis\",\"geo\":\"geo\",\"hovertemplate\":\"Year=2020<br>Country=%{location}<br>AvgTemperature=%{z}<extra></extra>\",\"locationmode\":\"country names\",\"locations\":[\"Albania\",\"Algeria\",\"Argentina\",\"Australia\",\"Austria\",\"Bahamas\",\"Bahrain\",\"Belarus\",\"Belgium\",\"Belize\",\"Benin\",\"Bolivia\",\"Brazil\",\"Bulgaria\",\"Canada\",\"Central African Republic\",\"China\",\"Colombia\",\"Congo\",\"Costa Rica\",\"Croatia\",\"Cuba\",\"Czech Republic\",\"Denmark\",\"Dominican Republic\",\"Egypt\",\"Equador\",\"Ethiopia\",\"Finland\",\"France\",\"Gabon\",\"Gambia\",\"Germany\",\"Guatemala\",\"Guinea\",\"Guinea-Bissau\",\"Haiti\",\"Honduras\",\"Hong Kong\",\"Hungary\",\"Iceland\",\"India\",\"Indonesia\",\"Ireland\",\"Italy\",\"Ivory Coast\",\"Japan\",\"Jordan\",\"Kazakhstan\",\"Kenya\",\"Kuwait\",\"Kyrgyzstan\",\"Laos\",\"Latvia\",\"Lebanon\",\"Macedonia\",\"Madagascar\",\"Malaysia\",\"Mexico\",\"Mongolia\",\"Morocco\",\"Mozambique\",\"Myanmar (Burma)\",\"Namibia\",\"Nepal\",\"New Zealand\",\"Nicaragua\",\"Nigeria\",\"North Korea\",\"Norway\",\"Pakistan\",\"Panama\",\"Philippines\",\"Poland\",\"Portugal\",\"Qatar\",\"Romania\",\"Russia\",\"Saudi Arabia\",\"Senegal\",\"Singapore\",\"Slovakia\",\"South Africa\",\"South Korea\",\"Spain\",\"Sri Lanka\",\"Suriname\",\"Sweden\",\"Switzerland\",\"Syria\",\"Taiwan\",\"Tajikistan\",\"Tanzania\",\"The Netherlands\",\"Togo\",\"Tunisia\",\"Turkey\",\"Turkmenistan\",\"US\",\"Uganda\",\"Ukraine\",\"United Arab Emirates\",\"United Kingdom\",\"Uruguay\",\"Uzbekistan\",\"Venezuela\",\"Vietnam\",\"Yugoslavia\"],\"name\":\"\",\"z\":[51.15970149253731,58.03432835820896,69.98432835820896,68.71641791044776,44.92462686567164,75.58947368421052,72.23880597014926,38.00756302521008,46.91567164179104,80.89097744360902,83.81119402985075,48.049253731343285,73.55785536159601,42.10820895522388,29.18695652173913,81.4134328358209,53.02435312024353,58.07014925373134,81.10601503759399,74.93955223880597,47.54962406015038,75.23909774436089,42.094029850746274,42.3276119402985,79.55121951219512,63.63880597014926,82.27014925373135,65.17819548872181,36.5089552238806,50.81641791044776,82.79253731343285,79.41716417910447,43.0134328358209,68.16417910447761,83.88560606060605,84.21526717557252,81.77499999999999,74.09586776859504,70.60671641791045,43.40820895522388,35.07388059701492,77.56467289719626,83.18345864661654,44.66417910447761,50.23992537313433,83.60746268656716,46.460945273631836,54.11940298507463,42.75187969924812,68.97443609022557,69.07164179104478,44.90075187969925,81.56940298507462,39.82686567164179,61.464179104477616,44.53358208955224,69.43955223880597,83.80970149253731,68.1388174807198,34.73918918918919,57.94253731343284,77.71865671641791,82.54552238805971,72.19850746268656,57.96865671641791,65.10373134328358,82.91681415929204,85.74402985074627,40.838345864661655,37.0455223880597,69.09578544061303,81.89402985074626,83.81567164179104,42.59776119402985,56.45037593984962,73.62014925373134,45.7410447761194,36.78283582089552,70.97752808988764,73.61268656716418,83.05895522388059,44.669402985074626,67.01940298507463,43.53805970149254,53.83233830845771,83.14925373134328,79.22985074626865,39.83656716417911,45.115422885572144,52.95378787878788,68.64328358208955,50.42537313432836,81.6455223880597,46.82835820895522,84.1365671641791,59.53208955223881,45.80149253731343,52.58656716417911,48.00045054064878,74.06030534351144,41.29328358208955,76.09242424242424,46.64888059701492,68.82611940298509,51.38805970149254,80.26165413533835,70.75074626865671,46.36716417910448],\"type\":\"choropleth\"}],\"name\":\"2020\"},{\"data\":[{\"coloraxis\":\"coloraxis\",\"geo\":\"geo\",\"hovertemplate\":\"Year=1995<br>Country=%{location}<br>AvgTemperature=%{z}<extra></extra>\",\"locationmode\":\"country names\",\"locations\":[\"Algeria\",\"Argentina\",\"Australia\",\"Austria\",\"Bahamas\",\"Bahrain\",\"Bangladesh\",\"Barbados\",\"Belarus\",\"Belgium\",\"Belize\",\"Benin\",\"Bermuda\",\"Bolivia\",\"Brazil\",\"Bulgaria\",\"Burundi\",\"Canada\",\"Central African Republic\",\"China\",\"Colombia\",\"Congo\",\"Costa Rica\",\"Cuba\",\"Cyprus\",\"Czech Republic\",\"Denmark\",\"Dominican Republic\",\"Egypt\",\"Equador\",\"Ethiopia\",\"Finland\",\"France\",\"Gabon\",\"Gambia\",\"Georgia\",\"Germany\",\"Greece\",\"Guatemala\",\"Guinea\",\"Guinea-Bissau\",\"Haiti\",\"Honduras\",\"Hong Kong\",\"Hungary\",\"Iceland\",\"India\",\"Indonesia\",\"Ireland\",\"Israel\",\"Italy\",\"Ivory Coast\",\"Japan\",\"Jordan\",\"Kazakhstan\",\"Kenya\",\"Kuwait\",\"Laos\",\"Latvia\",\"Lebanon\",\"Macedonia\",\"Madagascar\",\"Malawi\",\"Malaysia\",\"Mauritania\",\"Mexico\",\"Mongolia\",\"Morocco\",\"Mozambique\",\"Namibia\",\"Nepal\",\"New Zealand\",\"Nicaragua\",\"Nigeria\",\"North Korea\",\"Norway\",\"Oman\",\"Pakistan\",\"Panama\",\"Peru\",\"Philippines\",\"Poland\",\"Portugal\",\"Qatar\",\"Romania\",\"Russia\",\"Saudi Arabia\",\"Senegal\",\"Serbia-Montenegro\",\"Sierra Leone\",\"Singapore\",\"Slovakia\",\"South Africa\",\"South Korea\",\"Spain\",\"Sri Lanka\",\"Suriname\",\"Sweden\",\"Switzerland\",\"Syria\",\"Taiwan\",\"Tajikistan\",\"Tanzania\",\"The Netherlands\",\"Togo\",\"Tunisia\",\"Turkey\",\"Turkmenistan\",\"US\",\"Uganda\",\"Ukraine\",\"United Arab Emirates\",\"United Kingdom\",\"Uruguay\",\"Uzbekistan\",\"Venezuela\",\"Vietnam\",\"Yugoslavia\",\"Zambia\"],\"name\":\"\",\"z\":[64.41046831955923,61.701369863013696,61.50175342465753,50.25123287671233,77.11098901098902,79.2827397260274,79.35017301038063,81.26071428571429,45.568644067796605,51.70109589041096,78.16607142857143,81.67873563218392,71.28670360110803,45.5868493150685,71.81707762557078,49.43013698630137,79.32604166666667,46.14588731545646,78.36134751773051,59.88577704557935,55.385989010989015,78.28616714697407,72.96688524590165,75.82825484764543,64.9939393939394,46.87417582417583,46.241369863013695,77.79473684210525,70.77150684931506,67.56945244956772,62.2925,43.23876404494382,56.40771349862259,79.57030716723548,77.93872832369942,57.05972602739726,50.770737073707366,64.94657534246575,66.47826086956522,81.6284518828452,83.66228571428572,86.29625468164794,72.6434659090909,74.12,50.27287671232876,38.906027397260274,79.97914659325534,82.31442953020135,49.97041095890411,68.6156378600823,56.169093406593404,80.57747252747252,55.65540293040293,63.28986301369863,50.79913793103448,68.81245791245792,79.04821917808219,82.02554945054945,45.355124653739615,69.14821917808219,54.7816384180791,66.2354570637119,68.8954732510288,81.55399449035812,77.87949438202247,70.362177328844,42.471532846715334,64.79369863013699,74.41838440111421,69.15821727019498,64.75518518518518,59.684065934065934,79.01463414634146,85.40166666666666,51.12876712328767,42.147246376811594,90.75,74.79246575342465,79.78712328767124,66.74410958904109,80.56739726027396,47.45916666666666,64.39123287671232,80.65342465753425,51.00821917808219,50.07727272727273,78.53945205479452,75.82301369863013,49.90773480662983,82.936,81.75616438356164,50.639452054794525,61.338904109589045,51.75342465753425,60.51296803652968,81.84747191011236,79.67610062893081,44.988919667590025,49.86437728937729,62.18011049723757,73.0235616438356,52.472185430463576,78.24149855907781,50.89287671232877,81.33354037267081,66.70465753424658,54.39369863013699,63.470958904109594,56.8794530906533,71.90872483221476,47.78781163434903,80.79547945205479,53.40096021947874,59.627945205479456,59.08301369863013,78.47972602739726,74.3890410958904,53.05397260273973,72.91914285714286],\"type\":\"choropleth\"}],\"name\":\"1995\"},{\"data\":[{\"coloraxis\":\"coloraxis\",\"geo\":\"geo\",\"hovertemplate\":\"Year=1996<br>Country=%{location}<br>AvgTemperature=%{z}<extra></extra>\",\"locationmode\":\"country names\",\"locations\":[\"Algeria\",\"Argentina\",\"Australia\",\"Austria\",\"Bahamas\",\"Bahrain\",\"Bangladesh\",\"Barbados\",\"Belarus\",\"Belgium\",\"Belize\",\"Benin\",\"Bermuda\",\"Bolivia\",\"Brazil\",\"Burundi\",\"Canada\",\"Central African Republic\",\"China\",\"Colombia\",\"Congo\",\"Costa Rica\",\"Croatia\",\"Cuba\",\"Cyprus\",\"Czech Republic\",\"Denmark\",\"Dominican Republic\",\"Egypt\",\"Equador\",\"Ethiopia\",\"Finland\",\"France\",\"Gabon\",\"Gambia\",\"Georgia\",\"Germany\",\"Greece\",\"Guatemala\",\"Guinea\",\"Guinea-Bissau\",\"Guyana\",\"Haiti\",\"Honduras\",\"Hong Kong\",\"Hungary\",\"Iceland\",\"India\",\"Indonesia\",\"Ireland\",\"Israel\",\"Italy\",\"Ivory Coast\",\"Japan\",\"Jordan\",\"Kazakhstan\",\"Kenya\",\"Kuwait\",\"Laos\",\"Latvia\",\"Lebanon\",\"Macedonia\",\"Madagascar\",\"Malawi\",\"Malaysia\",\"Mauritania\",\"Mexico\",\"Mongolia\",\"Morocco\",\"Mozambique\",\"Myanmar (Burma)\",\"Namibia\",\"Nepal\",\"New Zealand\",\"Nicaragua\",\"Nigeria\",\"North Korea\",\"Norway\",\"Pakistan\",\"Panama\",\"Peru\",\"Philippines\",\"Poland\",\"Portugal\",\"Qatar\",\"Romania\",\"Russia\",\"Saudi Arabia\",\"Senegal\",\"Serbia-Montenegro\",\"Sierra Leone\",\"Singapore\",\"Slovakia\",\"South Africa\",\"South Korea\",\"Spain\",\"Sri Lanka\",\"Suriname\",\"Sweden\",\"Switzerland\",\"Syria\",\"Taiwan\",\"Tajikistan\",\"Tanzania\",\"Thailand\",\"The Netherlands\",\"Togo\",\"Tunisia\",\"Turkey\",\"Turkmenistan\",\"US\",\"Uganda\",\"Ukraine\",\"United Arab Emirates\",\"United Kingdom\",\"Uruguay\",\"Uzbekistan\",\"Venezuela\",\"Vietnam\",\"Yugoslavia\",\"Zambia\"],\"name\":\"\",\"z\":[63.53021978021978,62.71010928961749,61.255798687089715,48.12900552486188,76.02786885245902,80.18005464480875,78.76584507042253,80.94598337950139,44.839233038348084,48.191803278688525,80.29068493150685,81.43537604456824,71.19972677595628,44.21229508196721,71.34526411657559,79.20628571428571,46.157085396039605,77.77566539923954,59.70160309563295,55.083333333333336,77.11885714285714,73.04955223880597,52.178978978978975,75.29525222551929,69.69531772575252,44.40586592178771,43.45327868852459,78.49255014326648,71.32459016393443,66.36671899529043,61.65892351274787,42.08097982708934,54.3235294117647,78.65803921568627,77.98146853146854,55.593442622950825,47.51729323308271,64.54125683060109,66.58528301886791,80.84631268436578,83.15953757225434,83.55625,86.09945945945945,70.49633802816902,74.97103825136612,48.72821917808219,41.16393442622951,79.84135802469136,81.89090909090909,48.20846994535519,72.35354609929078,55.83114754098361,80.5137741046832,54.833608815427,64.39016393442623,48.60514285714285,68.03693693693694,80.37049180327868,80.82383561643836,43.875142857142855,69.34098360655737,55.2694214876033,65.7337912087912,69.91932773109244,81.55604395604396,78.13899371069182,69.30169491525425,44.04541832669322,63.509836065573765,74.14006211180124,81.32203856749312,68.39041095890411,64.21891025641025,59.46448087431694,79.85560000000001,85.77534626038782,50.77322404371585,41.10712166172107,74.56268861454046,79.42185792349727,65.08060109289617,81.36092896174863,45.94772727272727,62.84672131147541,81.52747252747253,50.435792349726775,50.688311688311686,79.54972527472528,75.73934426229508,49.33989071038252,81.35058823529413,81.63715846994536,48.70385674931129,60.580601092896174,51.634153005464476,59.12140255009108,81.18362068965517,79.40278637770898,44.36179775280899,48.23680365296804,63.326502732240435,73.39945355191257,59.470588235294116,77.84457142857143,84.32213114754099,47.448907103825135,81.51892857142857,65.71639344262296,54.144945355191254,61.503287671232876,56.04612107866142,71.29097744360902,47.433141210374636,81.84289617486338,51.794117647058826,60.188797814207646,57.18196721311475,80.39043715846995,74.3243169398907,51.794808743169405,72.1987012987013],\"type\":\"choropleth\"}],\"name\":\"1996\"}]);\n",
              "                        }).then(function(){\n",
              "                            \n",
              "var gd = document.getElementById('f9febad0-da14-4cde-af9e-c75d5f442a65');\n",
              "var x = new MutationObserver(function (mutations, observer) {{\n",
              "        var display = window.getComputedStyle(gd).display;\n",
              "        if (!display || display === 'none') {{\n",
              "            console.log([gd, 'removed!']);\n",
              "            Plotly.purge(gd);\n",
              "            observer.disconnect();\n",
              "        }}\n",
              "}});\n",
              "\n",
              "// Listen for the removal of the full notebook cells\n",
              "var notebookContainer = gd.closest('#notebook-container');\n",
              "if (notebookContainer) {{\n",
              "    x.observe(notebookContainer, {childList: true});\n",
              "}}\n",
              "\n",
              "// Listen for the clearing of the current output cell\n",
              "var outputEl = gd.closest('.output');\n",
              "if (outputEl) {{\n",
              "    x.observe(outputEl, {childList: true});\n",
              "}}\n",
              "\n",
              "                        })                };                            </script>        </div>\n",
              "</body>\n",
              "</html>"
            ]
          },
          "metadata": {}
        }
      ]
    },
    {
      "cell_type": "code",
      "source": [
        "pd_df = "
      ],
      "metadata": {
        "colab": {
          "base_uri": "https://localhost:8080/",
          "height": 130
        },
        "id": "dXD4zcz2sDzC",
        "outputId": "2a564c63-69b2-4d8e-bebe-6e6952852754"
      },
      "execution_count": 96,
      "outputs": [
        {
          "output_type": "error",
          "ename": "SyntaxError",
          "evalue": "ignored",
          "traceback": [
            "\u001b[0;36m  File \u001b[0;32m\"<ipython-input-96-4bb1aa51170f>\"\u001b[0;36m, line \u001b[0;32m1\u001b[0m\n\u001b[0;31m    pd_df =\u001b[0m\n\u001b[0m            ^\u001b[0m\n\u001b[0;31mSyntaxError\u001b[0m\u001b[0;31m:\u001b[0m invalid syntax\n"
          ]
        }
      ]
    }
  ]
}